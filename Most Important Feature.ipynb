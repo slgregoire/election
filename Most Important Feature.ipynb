{
 "cells": [
  {
   "cell_type": "markdown",
   "metadata": {},
   "source": [
    "##### import libraries and set parameters"
   ]
  },
  {
   "cell_type": "code",
   "execution_count": 68,
   "metadata": {
    "collapsed": true
   },
   "outputs": [],
   "source": [
    "from __future__ import division\n",
    "import pandas as pd\n",
    "import numpy as np\n",
    "import matplotlib.pyplot as plt"
   ]
  },
  {
   "cell_type": "code",
   "execution_count": 69,
   "metadata": {
    "collapsed": true
   },
   "outputs": [],
   "source": [
    "from sklearn import preprocessing as pre\n",
    "from sklearn.model_selection import train_test_split\n",
    "from sklearn.ensemble import RandomForestRegressor, GradientBoostingRegressor"
   ]
  },
  {
   "cell_type": "code",
   "execution_count": 70,
   "metadata": {
    "collapsed": true
   },
   "outputs": [],
   "source": [
    "%matplotlib inline "
   ]
  },
  {
   "cell_type": "code",
   "execution_count": 71,
   "metadata": {
    "collapsed": true
   },
   "outputs": [],
   "source": [
    "pd.options.display.max_columns = 130\n",
    "pd.options.display.max_info_columns = 130"
   ]
  },
  {
   "cell_type": "markdown",
   "metadata": {},
   "source": [
    "##### read in data files"
   ]
  },
  {
   "cell_type": "code",
   "execution_count": 97,
   "metadata": {
    "collapsed": true
   },
   "outputs": [],
   "source": [
    "file_county_stats = \"https://raw.githubusercontent.com/tonmcg/us-presidential-election-results/master/public/data/chr.csv\"\n",
    "file_vote_count = \"US_County_Level_Presidential_Results_08-16.csv\""
   ]
  },
  {
   "cell_type": "code",
   "execution_count": 98,
   "metadata": {},
   "outputs": [],
   "source": [
    "df_county_stats = pd.read_csv(file_county_stats)\n",
    "df_vote_count = pd.read_csv(file_vote_count)"
   ]
  },
  {
   "cell_type": "code",
   "execution_count": 154,
   "metadata": {},
   "outputs": [
    {
     "name": "stdout",
     "output_type": "stream",
     "text": [
      "<class 'pandas.core.frame.DataFrame'>\n",
      "Int64Index: 3112 entries, 2 to 9335\n",
      "Data columns (total 10 columns):\n",
      "fips_code    3112 non-null int64\n",
      "county       3112 non-null object\n",
      "Year         3112 non-null int64\n",
      "total        3112 non-null int64\n",
      "dem          3112 non-null int64\n",
      "gop          3112 non-null int64\n",
      "oth          3112 non-null int64\n",
      "dem_per      3112 non-null float64\n",
      "gop_per      3112 non-null float64\n",
      "oth_per      3112 non-null float64\n",
      "dtypes: float64(3), int64(6), object(1)\n",
      "memory usage: 267.4+ KB\n"
     ]
    }
   ],
   "source": [
    "df_vote_count.info()"
   ]
  },
  {
   "cell_type": "markdown",
   "metadata": {},
   "source": [
    "##### only focus on 2016 results"
   ]
  },
  {
   "cell_type": "code",
   "execution_count": 155,
   "metadata": {},
   "outputs": [],
   "source": [
    "df_vote_count = df_vote_count[df_vote_count['Year']==2016]"
   ]
  },
  {
   "cell_type": "code",
   "execution_count": 156,
   "metadata": {
    "collapsed": true
   },
   "outputs": [],
   "source": [
    "df_vote_count.loc[:,'dem_per'] = df_vote_count.loc[:,'dem']/df_vote_count.loc[:,'total']\n",
    "df_vote_count.loc[:,'gop_per'] = df_vote_count.loc[:,'gop']/df_vote_count.loc[:,'total']\n",
    "df_vote_count.loc[:,'oth_per'] = df_vote_count.loc[:,'oth']/df_vote_count.loc[:,'total']"
   ]
  },
  {
   "cell_type": "code",
   "execution_count": 157,
   "metadata": {},
   "outputs": [
    {
     "name": "stdout",
     "output_type": "stream",
     "text": [
      "<class 'pandas.core.frame.DataFrame'>\n",
      "Int64Index: 3112 entries, 2 to 9335\n",
      "Data columns (total 10 columns):\n",
      "fips_code    3112 non-null int64\n",
      "county       3112 non-null object\n",
      "Year         3112 non-null int64\n",
      "total        3112 non-null int64\n",
      "dem          3112 non-null int64\n",
      "gop          3112 non-null int64\n",
      "oth          3112 non-null int64\n",
      "dem_per      3112 non-null float64\n",
      "gop_per      3112 non-null float64\n",
      "oth_per      3112 non-null float64\n",
      "dtypes: float64(3), int64(6), object(1)\n",
      "memory usage: 267.4+ KB\n"
     ]
    }
   ],
   "source": [
    "df_vote_count.info()"
   ]
  },
  {
   "cell_type": "markdown",
   "metadata": {},
   "source": [
    "##### merge voting results and county level stats"
   ]
  },
  {
   "cell_type": "code",
   "execution_count": 204,
   "metadata": {},
   "outputs": [],
   "source": [
    "df_data = df_vote_count.loc[:,['fips_code','dem_per','gop_per','oth_per','total']].merge(df_county_stats, how='inner', left_on='fips_code', right_on='FIPS')"
   ]
  },
  {
   "cell_type": "code",
   "execution_count": 205,
   "metadata": {},
   "outputs": [
    {
     "name": "stdout",
     "output_type": "stream",
     "text": [
      "<class 'pandas.core.frame.DataFrame'>\n",
      "Int64Index: 3111 entries, 0 to 3110\n",
      "Data columns (total 124 columns):\n",
      "fips_code                              3111 non-null int64\n",
      "dem_per                                3111 non-null float64\n",
      "gop_per                                3111 non-null float64\n",
      "oth_per                                3111 non-null float64\n",
      "total                                  3111 non-null int64\n",
      "id                                     3111 non-null int64\n",
      "FIPS                                   3111 non-null int64\n",
      "NAME                                   3111 non-null object\n",
      "Election Win Rate                      3111 non-null float64\n",
      "election_result                        3111 non-null object\n",
      "Avg Daily Sunlight (KJ/m²)             3106 non-null float64\n",
      "% Uninsured                            3111 non-null float64\n",
      "% Unemployed                           3111 non-null float64\n",
      "Providers                              3108 non-null float64\n",
      "Black/White Segregation index          2030 non-null float64\n",
      "Drug Overdose Mortality Rate           1620 non-null float64\n",
      "Household Income                       3111 non-null float64\n",
      "% Disconnected Youth                   2033 non-null float64\n",
      "Teen Birth Rate                        3008 non-null float64\n",
      "Violent Crime Rate                     2956 non-null float64\n",
      "Population                             3111 non-null int64\n",
      "Physically Unhealthy Days              3111 non-null float64\n",
      "PCP Rate                               2980 non-null float64\n",
      "MHP Rate                               2825 non-null float64\n",
      "Mentally Unhealthy Days                3111 non-null float64\n",
      "Income Ratio                           3110 non-null float64\n",
      "Dentist Rate                           3032 non-null float64\n",
      "Chlamydia Rate                         2963 non-null float64\n",
      "Average Daily PM2.5                    3107 non-null float64\n",
      "Association Rate                       3111 non-null float64\n",
      "% Some College                         3111 non-null float64\n",
      "% Smokers                              3111 non-null int64\n",
      "% Single-Parent Households             3111 non-null float64\n",
      "% Severe Housing Problems              3111 non-null int64\n",
      "% Obese                                3111 non-null int64\n",
      "% LBW                                  3022 non-null float64\n",
      "% Fair/Poor                            3111 non-null int64\n",
      "% Excessive Drinking                   3111 non-null int64\n",
      "% Drive Alone                          3111 non-null int64\n",
      "% Physically Inactive                  3111 non-null int64\n",
      "% Receiving HbA1c                      3078 non-null float64\n",
      "% Mammography                          3021 non-null float64\n",
      "% Long Commute - Drives Alone          3111 non-null int64\n",
      "% With Access                          3039 non-null float64\n",
      "Food Environment Index                 3111 non-null float64\n",
      "Graduation Rate                        2657 non-null float64\n",
      "% Alcohol-Impaired                     3096 non-null float64\n",
      "% Alcohol-Impaired CIH                 3067 non-null float64\n",
      "% Alcohol-Impaired CIL                 3067 non-null float64\n",
      "% Alcohol-Impaired Quartile            3050 non-null float64\n",
      "% Children in Poverty                  3111 non-null float64\n",
      "% Children in Poverty - Black          1468 non-null float64\n",
      "% Children in Poverty - Hispanic       2112 non-null float64\n",
      "% Children in Poverty - White          3040 non-null float64\n",
      "% Children in Poverty CIH              3111 non-null float64\n",
      "% Children in Poverty CIL              3111 non-null float64\n",
      "% Children in Poverty Quartile         3050 non-null float64\n",
      "% Drive Alone - Black                  1146 non-null float64\n",
      "% Drive Alone - Hispanic               1231 non-null float64\n",
      "% Drive Alone - White                  2999 non-null float64\n",
      "% Drive Alone CIH                      3081 non-null float64\n",
      "% Drive Alone CIL                      3081 non-null float64\n",
      "% Drive Alone Quartile                 3050 non-null float64\n",
      "% Excessive Drinking Quartile          3050 non-null float64\n",
      "% Excessive Drinking CIH               3111 non-null int64\n",
      "% Excessive Drinking CIL               3111 non-null int64\n",
      "% Long Commute CIH                     3111 non-null int64\n",
      "% Long Commute CIL                     3111 non-null int64\n",
      "% Long Commute Quartile                3050 non-null float64\n",
      "% Mammography CIH                      3021 non-null float64\n",
      "% Mammography CIL                      3021 non-null float64\n",
      "% Mammography Quartile                 3050 non-null float64\n",
      "% Obese CIH                            3111 non-null int64\n",
      "% Obese CIL                            3111 non-null int64\n",
      "% Obese Quartile                       3050 non-null float64\n",
      "% Severe Housing Problems CIH          3110 non-null float64\n",
      "% Severe Housing Problems CIL          3110 non-null float64\n",
      "% Severe Housing Problems Quartile     3050 non-null float64\n",
      "% Single-Parent Households CIH         3111 non-null float64\n",
      "% Single-Parent Households Quartile    3050 non-null float64\n",
      "% Smokers CIH                          3111 non-null int64\n",
      "% Smokers CIL                          3111 non-null int64\n",
      "% Smokers Quartile                     3050 non-null float64\n",
      "% Some College CIH                     3042 non-null float64\n",
      "% Some College CIL                     3042 non-null float64\n",
      "% Some College Quartile                3050 non-null float64\n",
      "% With Access Quartile                 3050 non-null float64\n",
      "Association Rate Quartile              3050 non-null float64\n",
      "Average Daily PM2.5 Quartile           3050 non-null float64\n",
      "Chlamydia Rate Quartile                3050 non-null float64\n",
      "Fair/Poor CIH                          3111 non-null int64\n",
      "Fair/Poor CIL                          3111 non-null int64\n",
      "Fair/Poor Quartile                     3050 non-null float64\n",
      "Injury Death Rate                      3004 non-null float64\n",
      "Injury Death Rate CIH                  3003 non-null float64\n",
      "Injury Death Rate CIL                  3003 non-null float64\n",
      "Injury Death Rate Quartile             3050 non-null float64\n",
      "Income Quartile                        3050 non-null float64\n",
      "Graduation Rate Quartile               3050 non-null float64\n",
      "FEI Quartile                           3050 non-null float64\n",
      "Mentally Unhealthy Days CIH            3111 non-null float64\n",
      "Mentally Unhealthy Days CIL            3111 non-null float64\n",
      "Mentally Unhealthy Days Quartile       3050 non-null float64\n",
      "MHP Quartile                           3050 non-null float64\n",
      "PCP Quartile                           3050 non-null float64\n",
      "Physically Inactive CIH                3111 non-null int64\n",
      "Physically Inactive CIL                3111 non-null int64\n",
      "Physically Inactive Quartile           3050 non-null float64\n",
      "Physically Unhealthy Days CIH          3111 non-null float64\n",
      "Physically Unhealthy Days CIL          3111 non-null float64\n",
      "Physically Unhealthy Days Quartile     3050 non-null float64\n",
      "Receiving HbA1c CIL                    3078 non-null float64\n",
      "Receiving HbA1c HIL                    3078 non-null float64\n",
      "Receiving HbA1c Quartile               3050 non-null float64\n",
      "Preventable Hosp. Rate CIH             3031 non-null float64\n",
      "Preventable Hosp. Rate CIL             3031 non-null float64\n",
      "Preventable Hosp. Rate Quartile        3050 non-null float64\n",
      "Teen Birth Rate CIH                    2911 non-null float64\n",
      "Teen Birth Rate CIL                    2911 non-null float64\n",
      "Teen Birth Rate Quartile               3050 non-null float64\n",
      "Violent Crime Quartile                 3050 non-null float64\n",
      "YPLLR CIH                              2940 non-null float64\n",
      "YPLLR CIL                              2940 non-null float64\n",
      "YPLLR Quartile                         3050 non-null float64\n",
      "dtypes: float64(97), int64(25), object(2)\n",
      "memory usage: 3.0+ MB\n"
     ]
    }
   ],
   "source": [
    "df_data.info()"
   ]
  },
  {
   "cell_type": "code",
   "execution_count": 206,
   "metadata": {},
   "outputs": [
    {
     "data": {
      "text/html": [
       "<div>\n",
       "<style>\n",
       "    .dataframe thead tr:only-child th {\n",
       "        text-align: right;\n",
       "    }\n",
       "\n",
       "    .dataframe thead th {\n",
       "        text-align: left;\n",
       "    }\n",
       "\n",
       "    .dataframe tbody tr th {\n",
       "        vertical-align: top;\n",
       "    }\n",
       "</style>\n",
       "<table border=\"1\" class=\"dataframe\">\n",
       "  <thead>\n",
       "    <tr style=\"text-align: right;\">\n",
       "      <th></th>\n",
       "      <th>fips_code</th>\n",
       "      <th>dem_per</th>\n",
       "      <th>gop_per</th>\n",
       "      <th>oth_per</th>\n",
       "      <th>total</th>\n",
       "      <th>id</th>\n",
       "      <th>FIPS</th>\n",
       "      <th>NAME</th>\n",
       "      <th>Election Win Rate</th>\n",
       "      <th>election_result</th>\n",
       "      <th>Avg Daily Sunlight (KJ/m²)</th>\n",
       "      <th>% Uninsured</th>\n",
       "      <th>% Unemployed</th>\n",
       "      <th>Providers</th>\n",
       "      <th>Black/White Segregation index</th>\n",
       "      <th>Drug Overdose Mortality Rate</th>\n",
       "      <th>Household Income</th>\n",
       "      <th>% Disconnected Youth</th>\n",
       "      <th>Teen Birth Rate</th>\n",
       "      <th>Violent Crime Rate</th>\n",
       "      <th>Population</th>\n",
       "      <th>Physically Unhealthy Days</th>\n",
       "      <th>PCP Rate</th>\n",
       "      <th>MHP Rate</th>\n",
       "      <th>Mentally Unhealthy Days</th>\n",
       "      <th>Income Ratio</th>\n",
       "      <th>Dentist Rate</th>\n",
       "      <th>Chlamydia Rate</th>\n",
       "      <th>Average Daily PM2.5</th>\n",
       "      <th>Association Rate</th>\n",
       "      <th>% Some College</th>\n",
       "      <th>% Smokers</th>\n",
       "      <th>% Single-Parent Households</th>\n",
       "      <th>% Severe Housing Problems</th>\n",
       "      <th>% Obese</th>\n",
       "      <th>% LBW</th>\n",
       "      <th>% Fair/Poor</th>\n",
       "      <th>% Excessive Drinking</th>\n",
       "      <th>% Drive Alone</th>\n",
       "      <th>% Physically Inactive</th>\n",
       "      <th>% Receiving HbA1c</th>\n",
       "      <th>% Mammography</th>\n",
       "      <th>% Long Commute - Drives Alone</th>\n",
       "      <th>% With Access</th>\n",
       "      <th>Food Environment Index</th>\n",
       "      <th>Graduation Rate</th>\n",
       "      <th>% Alcohol-Impaired</th>\n",
       "      <th>% Alcohol-Impaired CIH</th>\n",
       "      <th>% Alcohol-Impaired CIL</th>\n",
       "      <th>% Alcohol-Impaired Quartile</th>\n",
       "      <th>% Children in Poverty</th>\n",
       "      <th>% Children in Poverty - Black</th>\n",
       "      <th>% Children in Poverty - Hispanic</th>\n",
       "      <th>% Children in Poverty - White</th>\n",
       "      <th>% Children in Poverty CIH</th>\n",
       "      <th>% Children in Poverty CIL</th>\n",
       "      <th>% Children in Poverty Quartile</th>\n",
       "      <th>% Drive Alone - Black</th>\n",
       "      <th>% Drive Alone - Hispanic</th>\n",
       "      <th>% Drive Alone - White</th>\n",
       "      <th>% Drive Alone CIH</th>\n",
       "      <th>% Drive Alone CIL</th>\n",
       "      <th>% Drive Alone Quartile</th>\n",
       "      <th>% Excessive Drinking Quartile</th>\n",
       "      <th>% Excessive Drinking CIH</th>\n",
       "      <th>% Excessive Drinking CIL</th>\n",
       "      <th>% Long Commute CIH</th>\n",
       "      <th>% Long Commute CIL</th>\n",
       "      <th>% Long Commute Quartile</th>\n",
       "      <th>% Mammography CIH</th>\n",
       "      <th>% Mammography CIL</th>\n",
       "      <th>% Mammography Quartile</th>\n",
       "      <th>% Obese CIH</th>\n",
       "      <th>% Obese CIL</th>\n",
       "      <th>% Obese Quartile</th>\n",
       "      <th>% Severe Housing Problems CIH</th>\n",
       "      <th>% Severe Housing Problems CIL</th>\n",
       "      <th>% Severe Housing Problems Quartile</th>\n",
       "      <th>% Single-Parent Households CIH</th>\n",
       "      <th>% Single-Parent Households Quartile</th>\n",
       "      <th>% Smokers CIH</th>\n",
       "      <th>% Smokers CIL</th>\n",
       "      <th>% Smokers Quartile</th>\n",
       "      <th>% Some College CIH</th>\n",
       "      <th>% Some College CIL</th>\n",
       "      <th>% Some College Quartile</th>\n",
       "      <th>% With Access Quartile</th>\n",
       "      <th>Association Rate Quartile</th>\n",
       "      <th>Average Daily PM2.5 Quartile</th>\n",
       "      <th>Chlamydia Rate Quartile</th>\n",
       "      <th>Fair/Poor CIH</th>\n",
       "      <th>Fair/Poor CIL</th>\n",
       "      <th>Fair/Poor Quartile</th>\n",
       "      <th>Injury Death Rate</th>\n",
       "      <th>Injury Death Rate CIH</th>\n",
       "      <th>Injury Death Rate CIL</th>\n",
       "      <th>Injury Death Rate Quartile</th>\n",
       "      <th>Income Quartile</th>\n",
       "      <th>Graduation Rate Quartile</th>\n",
       "      <th>FEI Quartile</th>\n",
       "      <th>Mentally Unhealthy Days CIH</th>\n",
       "      <th>Mentally Unhealthy Days CIL</th>\n",
       "      <th>Mentally Unhealthy Days Quartile</th>\n",
       "      <th>MHP Quartile</th>\n",
       "      <th>PCP Quartile</th>\n",
       "      <th>Physically Inactive CIH</th>\n",
       "      <th>Physically Inactive CIL</th>\n",
       "      <th>Physically Inactive Quartile</th>\n",
       "      <th>Physically Unhealthy Days CIH</th>\n",
       "      <th>Physically Unhealthy Days CIL</th>\n",
       "      <th>Physically Unhealthy Days Quartile</th>\n",
       "      <th>Receiving HbA1c CIL</th>\n",
       "      <th>Receiving HbA1c HIL</th>\n",
       "      <th>Receiving HbA1c Quartile</th>\n",
       "      <th>Preventable Hosp. Rate CIH</th>\n",
       "      <th>Preventable Hosp. Rate CIL</th>\n",
       "      <th>Preventable Hosp. Rate Quartile</th>\n",
       "      <th>Teen Birth Rate CIH</th>\n",
       "      <th>Teen Birth Rate CIL</th>\n",
       "      <th>Teen Birth Rate Quartile</th>\n",
       "      <th>Violent Crime Quartile</th>\n",
       "      <th>YPLLR CIH</th>\n",
       "      <th>YPLLR CIL</th>\n",
       "      <th>YPLLR Quartile</th>\n",
       "    </tr>\n",
       "  </thead>\n",
       "  <tbody>\n",
       "    <tr>\n",
       "      <th>0</th>\n",
       "      <td>1001</td>\n",
       "      <td>0.239569</td>\n",
       "      <td>0.734358</td>\n",
       "      <td>0.026074</td>\n",
       "      <td>24661</td>\n",
       "      <td>1001</td>\n",
       "      <td>1001</td>\n",
       "      <td>Autauga County, AL</td>\n",
       "      <td>0.494789</td>\n",
       "      <td>Trump</td>\n",
       "      <td>17103.72</td>\n",
       "      <td>9.4</td>\n",
       "      <td>5.271161</td>\n",
       "      <td>1.0</td>\n",
       "      <td>34.0</td>\n",
       "      <td>10.0</td>\n",
       "      <td>56580.0</td>\n",
       "      <td>12.0</td>\n",
       "      <td>32.0</td>\n",
       "      <td>266.0</td>\n",
       "      <td>14440</td>\n",
       "      <td>4.2</td>\n",
       "      <td>42.0</td>\n",
       "      <td>13.0</td>\n",
       "      <td>4.2</td>\n",
       "      <td>4.3</td>\n",
       "      <td>31.0</td>\n",
       "      <td>398.0</td>\n",
       "      <td>10.8</td>\n",
       "      <td>13.7</td>\n",
       "      <td>59.7</td>\n",
       "      <td>17</td>\n",
       "      <td>25.0</td>\n",
       "      <td>15</td>\n",
       "      <td>34</td>\n",
       "      <td>9.0</td>\n",
       "      <td>18</td>\n",
       "      <td>15</td>\n",
       "      <td>87</td>\n",
       "      <td>29</td>\n",
       "      <td>84.0</td>\n",
       "      <td>62.7</td>\n",
       "      <td>43</td>\n",
       "      <td>71.0</td>\n",
       "      <td>6.9</td>\n",
       "      <td>90.0</td>\n",
       "      <td>33.0</td>\n",
       "      <td>40.0</td>\n",
       "      <td>25.0</td>\n",
       "      <td>3.0</td>\n",
       "      <td>19.0</td>\n",
       "      <td>43.0</td>\n",
       "      <td>NaN</td>\n",
       "      <td>11.0</td>\n",
       "      <td>23.0</td>\n",
       "      <td>14.0</td>\n",
       "      <td>1.0</td>\n",
       "      <td>NaN</td>\n",
       "      <td>NaN</td>\n",
       "      <td>83.0</td>\n",
       "      <td>89.0</td>\n",
       "      <td>86.0</td>\n",
       "      <td>4.0</td>\n",
       "      <td>4.0</td>\n",
       "      <td>16</td>\n",
       "      <td>14</td>\n",
       "      <td>47</td>\n",
       "      <td>38</td>\n",
       "      <td>3.0</td>\n",
       "      <td>70.0</td>\n",
       "      <td>55.4</td>\n",
       "      <td>2.0</td>\n",
       "      <td>39</td>\n",
       "      <td>29</td>\n",
       "      <td>2.0</td>\n",
       "      <td>17.0</td>\n",
       "      <td>13.0</td>\n",
       "      <td>2.0</td>\n",
       "      <td>31.0</td>\n",
       "      <td>1.0</td>\n",
       "      <td>18</td>\n",
       "      <td>17</td>\n",
       "      <td>1.0</td>\n",
       "      <td>65.4</td>\n",
       "      <td>53.9</td>\n",
       "      <td>1.0</td>\n",
       "      <td>1.0</td>\n",
       "      <td>2.0</td>\n",
       "      <td>3.0</td>\n",
       "      <td>2.0</td>\n",
       "      <td>18</td>\n",
       "      <td>17</td>\n",
       "      <td>1.0</td>\n",
       "      <td>76.0</td>\n",
       "      <td>87.0</td>\n",
       "      <td>66.0</td>\n",
       "      <td>2.0</td>\n",
       "      <td>1.0</td>\n",
       "      <td>3.0</td>\n",
       "      <td>2.0</td>\n",
       "      <td>4.3</td>\n",
       "      <td>4.0</td>\n",
       "      <td>1.0</td>\n",
       "      <td>3.0</td>\n",
       "      <td>2.0</td>\n",
       "      <td>33</td>\n",
       "      <td>24</td>\n",
       "      <td>2.0</td>\n",
       "      <td>4.4</td>\n",
       "      <td>4.0</td>\n",
       "      <td>1.0</td>\n",
       "      <td>77.0</td>\n",
       "      <td>91.0</td>\n",
       "      <td>3.0</td>\n",
       "      <td>65.0</td>\n",
       "      <td>52.0</td>\n",
       "      <td>2.0</td>\n",
       "      <td>35.0</td>\n",
       "      <td>30.0</td>\n",
       "      <td>1.0</td>\n",
       "      <td>2.0</td>\n",
       "      <td>10065.0</td>\n",
       "      <td>8251.0</td>\n",
       "      <td>1.0</td>\n",
       "    </tr>\n",
       "    <tr>\n",
       "      <th>1</th>\n",
       "      <td>1003</td>\n",
       "      <td>0.195653</td>\n",
       "      <td>0.773515</td>\n",
       "      <td>0.030832</td>\n",
       "      <td>94090</td>\n",
       "      <td>1003</td>\n",
       "      <td>1003</td>\n",
       "      <td>Baldwin County, AL</td>\n",
       "      <td>0.577862</td>\n",
       "      <td>Trump</td>\n",
       "      <td>17660.59</td>\n",
       "      <td>11.5</td>\n",
       "      <td>5.415263</td>\n",
       "      <td>1.0</td>\n",
       "      <td>43.0</td>\n",
       "      <td>17.0</td>\n",
       "      <td>52387.0</td>\n",
       "      <td>16.0</td>\n",
       "      <td>38.0</td>\n",
       "      <td>217.0</td>\n",
       "      <td>47367</td>\n",
       "      <td>3.7</td>\n",
       "      <td>74.0</td>\n",
       "      <td>83.0</td>\n",
       "      <td>4.0</td>\n",
       "      <td>4.5</td>\n",
       "      <td>48.0</td>\n",
       "      <td>341.0</td>\n",
       "      <td>9.6</td>\n",
       "      <td>11.5</td>\n",
       "      <td>62.9</td>\n",
       "      <td>18</td>\n",
       "      <td>27.0</td>\n",
       "      <td>15</td>\n",
       "      <td>27</td>\n",
       "      <td>9.0</td>\n",
       "      <td>16</td>\n",
       "      <td>15</td>\n",
       "      <td>85</td>\n",
       "      <td>22</td>\n",
       "      <td>83.0</td>\n",
       "      <td>66.0</td>\n",
       "      <td>38</td>\n",
       "      <td>72.0</td>\n",
       "      <td>7.5</td>\n",
       "      <td>85.0</td>\n",
       "      <td>34.0</td>\n",
       "      <td>38.0</td>\n",
       "      <td>30.0</td>\n",
       "      <td>3.0</td>\n",
       "      <td>20.0</td>\n",
       "      <td>50.0</td>\n",
       "      <td>12.0</td>\n",
       "      <td>14.0</td>\n",
       "      <td>24.0</td>\n",
       "      <td>15.0</td>\n",
       "      <td>1.0</td>\n",
       "      <td>85.0</td>\n",
       "      <td>61.0</td>\n",
       "      <td>85.0</td>\n",
       "      <td>86.0</td>\n",
       "      <td>83.0</td>\n",
       "      <td>2.0</td>\n",
       "      <td>4.0</td>\n",
       "      <td>16</td>\n",
       "      <td>15</td>\n",
       "      <td>40</td>\n",
       "      <td>35</td>\n",
       "      <td>3.0</td>\n",
       "      <td>69.4</td>\n",
       "      <td>62.6</td>\n",
       "      <td>1.0</td>\n",
       "      <td>31</td>\n",
       "      <td>25</td>\n",
       "      <td>1.0</td>\n",
       "      <td>16.0</td>\n",
       "      <td>13.0</td>\n",
       "      <td>2.0</td>\n",
       "      <td>30.0</td>\n",
       "      <td>1.0</td>\n",
       "      <td>18</td>\n",
       "      <td>17</td>\n",
       "      <td>1.0</td>\n",
       "      <td>66.5</td>\n",
       "      <td>59.3</td>\n",
       "      <td>1.0</td>\n",
       "      <td>1.0</td>\n",
       "      <td>2.0</td>\n",
       "      <td>1.0</td>\n",
       "      <td>1.0</td>\n",
       "      <td>17</td>\n",
       "      <td>16</td>\n",
       "      <td>1.0</td>\n",
       "      <td>71.0</td>\n",
       "      <td>77.0</td>\n",
       "      <td>66.0</td>\n",
       "      <td>2.0</td>\n",
       "      <td>1.0</td>\n",
       "      <td>4.0</td>\n",
       "      <td>1.0</td>\n",
       "      <td>4.1</td>\n",
       "      <td>3.8</td>\n",
       "      <td>1.0</td>\n",
       "      <td>1.0</td>\n",
       "      <td>1.0</td>\n",
       "      <td>25</td>\n",
       "      <td>20</td>\n",
       "      <td>1.0</td>\n",
       "      <td>3.9</td>\n",
       "      <td>3.6</td>\n",
       "      <td>1.0</td>\n",
       "      <td>80.0</td>\n",
       "      <td>87.0</td>\n",
       "      <td>3.0</td>\n",
       "      <td>50.0</td>\n",
       "      <td>45.0</td>\n",
       "      <td>1.0</td>\n",
       "      <td>40.0</td>\n",
       "      <td>36.0</td>\n",
       "      <td>1.0</td>\n",
       "      <td>1.0</td>\n",
       "      <td>7840.0</td>\n",
       "      <td>6947.0</td>\n",
       "      <td>1.0</td>\n",
       "    </tr>\n",
       "    <tr>\n",
       "      <th>2</th>\n",
       "      <td>1005</td>\n",
       "      <td>0.466603</td>\n",
       "      <td>0.522714</td>\n",
       "      <td>0.010683</td>\n",
       "      <td>10390</td>\n",
       "      <td>1005</td>\n",
       "      <td>1005</td>\n",
       "      <td>Barbour County, AL</td>\n",
       "      <td>0.056112</td>\n",
       "      <td>Trump</td>\n",
       "      <td>17315.13</td>\n",
       "      <td>13.3</td>\n",
       "      <td>8.648518</td>\n",
       "      <td>1.0</td>\n",
       "      <td>25.0</td>\n",
       "      <td>NaN</td>\n",
       "      <td>31433.0</td>\n",
       "      <td>30.0</td>\n",
       "      <td>59.0</td>\n",
       "      <td>329.0</td>\n",
       "      <td>7230</td>\n",
       "      <td>4.8</td>\n",
       "      <td>41.0</td>\n",
       "      <td>8.0</td>\n",
       "      <td>4.8</td>\n",
       "      <td>5.6</td>\n",
       "      <td>38.0</td>\n",
       "      <td>613.0</td>\n",
       "      <td>10.1</td>\n",
       "      <td>8.2</td>\n",
       "      <td>39.3</td>\n",
       "      <td>23</td>\n",
       "      <td>56.0</td>\n",
       "      <td>16</td>\n",
       "      <td>44</td>\n",
       "      <td>12.0</td>\n",
       "      <td>25</td>\n",
       "      <td>12</td>\n",
       "      <td>84</td>\n",
       "      <td>32</td>\n",
       "      <td>89.0</td>\n",
       "      <td>63.0</td>\n",
       "      <td>36</td>\n",
       "      <td>45.0</td>\n",
       "      <td>4.9</td>\n",
       "      <td>86.0</td>\n",
       "      <td>38.0</td>\n",
       "      <td>48.0</td>\n",
       "      <td>28.0</td>\n",
       "      <td>4.0</td>\n",
       "      <td>45.0</td>\n",
       "      <td>69.0</td>\n",
       "      <td>52.0</td>\n",
       "      <td>12.0</td>\n",
       "      <td>54.0</td>\n",
       "      <td>36.0</td>\n",
       "      <td>4.0</td>\n",
       "      <td>82.0</td>\n",
       "      <td>NaN</td>\n",
       "      <td>NaN</td>\n",
       "      <td>86.0</td>\n",
       "      <td>82.0</td>\n",
       "      <td>2.0</td>\n",
       "      <td>2.0</td>\n",
       "      <td>12</td>\n",
       "      <td>11</td>\n",
       "      <td>40</td>\n",
       "      <td>31</td>\n",
       "      <td>3.0</td>\n",
       "      <td>71.6</td>\n",
       "      <td>54.5</td>\n",
       "      <td>2.0</td>\n",
       "      <td>50</td>\n",
       "      <td>38</td>\n",
       "      <td>4.0</td>\n",
       "      <td>19.0</td>\n",
       "      <td>14.0</td>\n",
       "      <td>3.0</td>\n",
       "      <td>63.0</td>\n",
       "      <td>4.0</td>\n",
       "      <td>23</td>\n",
       "      <td>22</td>\n",
       "      <td>4.0</td>\n",
       "      <td>44.2</td>\n",
       "      <td>34.3</td>\n",
       "      <td>4.0</td>\n",
       "      <td>3.0</td>\n",
       "      <td>4.0</td>\n",
       "      <td>2.0</td>\n",
       "      <td>3.0</td>\n",
       "      <td>26</td>\n",
       "      <td>24</td>\n",
       "      <td>4.0</td>\n",
       "      <td>68.0</td>\n",
       "      <td>83.0</td>\n",
       "      <td>54.0</td>\n",
       "      <td>1.0</td>\n",
       "      <td>3.0</td>\n",
       "      <td>4.0</td>\n",
       "      <td>4.0</td>\n",
       "      <td>4.9</td>\n",
       "      <td>4.6</td>\n",
       "      <td>4.0</td>\n",
       "      <td>4.0</td>\n",
       "      <td>3.0</td>\n",
       "      <td>37</td>\n",
       "      <td>27</td>\n",
       "      <td>3.0</td>\n",
       "      <td>5.0</td>\n",
       "      <td>4.6</td>\n",
       "      <td>3.0</td>\n",
       "      <td>81.0</td>\n",
       "      <td>97.0</td>\n",
       "      <td>1.0</td>\n",
       "      <td>83.0</td>\n",
       "      <td>64.0</td>\n",
       "      <td>3.0</td>\n",
       "      <td>66.0</td>\n",
       "      <td>53.0</td>\n",
       "      <td>4.0</td>\n",
       "      <td>2.0</td>\n",
       "      <td>9854.0</td>\n",
       "      <td>7292.0</td>\n",
       "      <td>1.0</td>\n",
       "    </tr>\n",
       "    <tr>\n",
       "      <th>3</th>\n",
       "      <td>1007</td>\n",
       "      <td>0.214220</td>\n",
       "      <td>0.769662</td>\n",
       "      <td>0.016118</td>\n",
       "      <td>8748</td>\n",
       "      <td>1007</td>\n",
       "      <td>1007</td>\n",
       "      <td>Bibb County, AL</td>\n",
       "      <td>0.555441</td>\n",
       "      <td>Trump</td>\n",
       "      <td>16904.87</td>\n",
       "      <td>11.9</td>\n",
       "      <td>6.637117</td>\n",
       "      <td>1.0</td>\n",
       "      <td>42.0</td>\n",
       "      <td>15.0</td>\n",
       "      <td>40767.0</td>\n",
       "      <td>25.0</td>\n",
       "      <td>47.0</td>\n",
       "      <td>147.0</td>\n",
       "      <td>6531</td>\n",
       "      <td>4.4</td>\n",
       "      <td>40.0</td>\n",
       "      <td>NaN</td>\n",
       "      <td>4.4</td>\n",
       "      <td>4.3</td>\n",
       "      <td>18.0</td>\n",
       "      <td>444.0</td>\n",
       "      <td>10.5</td>\n",
       "      <td>10.2</td>\n",
       "      <td>50.2</td>\n",
       "      <td>20</td>\n",
       "      <td>30.0</td>\n",
       "      <td>14</td>\n",
       "      <td>40</td>\n",
       "      <td>12.0</td>\n",
       "      <td>20</td>\n",
       "      <td>14</td>\n",
       "      <td>83</td>\n",
       "      <td>34</td>\n",
       "      <td>82.0</td>\n",
       "      <td>61.3</td>\n",
       "      <td>47</td>\n",
       "      <td>33.0</td>\n",
       "      <td>7.3</td>\n",
       "      <td>85.0</td>\n",
       "      <td>33.0</td>\n",
       "      <td>43.0</td>\n",
       "      <td>24.0</td>\n",
       "      <td>3.0</td>\n",
       "      <td>29.0</td>\n",
       "      <td>61.0</td>\n",
       "      <td>NaN</td>\n",
       "      <td>18.0</td>\n",
       "      <td>36.0</td>\n",
       "      <td>22.0</td>\n",
       "      <td>2.0</td>\n",
       "      <td>NaN</td>\n",
       "      <td>NaN</td>\n",
       "      <td>88.0</td>\n",
       "      <td>89.0</td>\n",
       "      <td>78.0</td>\n",
       "      <td>2.0</td>\n",
       "      <td>4.0</td>\n",
       "      <td>15</td>\n",
       "      <td>14</td>\n",
       "      <td>54</td>\n",
       "      <td>39</td>\n",
       "      <td>4.0</td>\n",
       "      <td>72.2</td>\n",
       "      <td>50.4</td>\n",
       "      <td>2.0</td>\n",
       "      <td>47</td>\n",
       "      <td>34</td>\n",
       "      <td>4.0</td>\n",
       "      <td>18.0</td>\n",
       "      <td>9.0</td>\n",
       "      <td>2.0</td>\n",
       "      <td>38.0</td>\n",
       "      <td>1.0</td>\n",
       "      <td>21</td>\n",
       "      <td>19</td>\n",
       "      <td>2.0</td>\n",
       "      <td>58.3</td>\n",
       "      <td>42.1</td>\n",
       "      <td>3.0</td>\n",
       "      <td>3.0</td>\n",
       "      <td>3.0</td>\n",
       "      <td>3.0</td>\n",
       "      <td>2.0</td>\n",
       "      <td>20</td>\n",
       "      <td>19</td>\n",
       "      <td>2.0</td>\n",
       "      <td>81.0</td>\n",
       "      <td>100.0</td>\n",
       "      <td>66.0</td>\n",
       "      <td>3.0</td>\n",
       "      <td>1.0</td>\n",
       "      <td>4.0</td>\n",
       "      <td>2.0</td>\n",
       "      <td>4.5</td>\n",
       "      <td>4.2</td>\n",
       "      <td>1.0</td>\n",
       "      <td>2.0</td>\n",
       "      <td>3.0</td>\n",
       "      <td>40</td>\n",
       "      <td>28</td>\n",
       "      <td>4.0</td>\n",
       "      <td>4.5</td>\n",
       "      <td>4.2</td>\n",
       "      <td>1.0</td>\n",
       "      <td>72.0</td>\n",
       "      <td>92.0</td>\n",
       "      <td>4.0</td>\n",
       "      <td>90.0</td>\n",
       "      <td>65.0</td>\n",
       "      <td>4.0</td>\n",
       "      <td>54.0</td>\n",
       "      <td>41.0</td>\n",
       "      <td>3.0</td>\n",
       "      <td>1.0</td>\n",
       "      <td>13498.0</td>\n",
       "      <td>10034.0</td>\n",
       "      <td>4.0</td>\n",
       "    </tr>\n",
       "    <tr>\n",
       "      <th>4</th>\n",
       "      <td>1009</td>\n",
       "      <td>0.084699</td>\n",
       "      <td>0.898519</td>\n",
       "      <td>0.016782</td>\n",
       "      <td>25384</td>\n",
       "      <td>1009</td>\n",
       "      <td>1009</td>\n",
       "      <td>Blount County, AL</td>\n",
       "      <td>0.813820</td>\n",
       "      <td>Trump</td>\n",
       "      <td>16393.63</td>\n",
       "      <td>14.0</td>\n",
       "      <td>5.520897</td>\n",
       "      <td>1.0</td>\n",
       "      <td>50.0</td>\n",
       "      <td>21.0</td>\n",
       "      <td>50487.0</td>\n",
       "      <td>13.0</td>\n",
       "      <td>43.0</td>\n",
       "      <td>212.0</td>\n",
       "      <td>14213</td>\n",
       "      <td>4.5</td>\n",
       "      <td>19.0</td>\n",
       "      <td>7.0</td>\n",
       "      <td>4.5</td>\n",
       "      <td>4.0</td>\n",
       "      <td>19.0</td>\n",
       "      <td>124.0</td>\n",
       "      <td>11.3</td>\n",
       "      <td>8.5</td>\n",
       "      <td>51.2</td>\n",
       "      <td>21</td>\n",
       "      <td>27.0</td>\n",
       "      <td>12</td>\n",
       "      <td>35</td>\n",
       "      <td>7.0</td>\n",
       "      <td>19</td>\n",
       "      <td>14</td>\n",
       "      <td>85</td>\n",
       "      <td>28</td>\n",
       "      <td>88.0</td>\n",
       "      <td>59.6</td>\n",
       "      <td>60</td>\n",
       "      <td>26.0</td>\n",
       "      <td>8.3</td>\n",
       "      <td>91.0</td>\n",
       "      <td>20.0</td>\n",
       "      <td>28.0</td>\n",
       "      <td>13.0</td>\n",
       "      <td>1.0</td>\n",
       "      <td>22.0</td>\n",
       "      <td>20.0</td>\n",
       "      <td>57.0</td>\n",
       "      <td>21.0</td>\n",
       "      <td>27.0</td>\n",
       "      <td>17.0</td>\n",
       "      <td>1.0</td>\n",
       "      <td>NaN</td>\n",
       "      <td>73.0</td>\n",
       "      <td>82.0</td>\n",
       "      <td>87.0</td>\n",
       "      <td>82.0</td>\n",
       "      <td>2.0</td>\n",
       "      <td>3.0</td>\n",
       "      <td>15</td>\n",
       "      <td>13</td>\n",
       "      <td>65</td>\n",
       "      <td>55</td>\n",
       "      <td>4.0</td>\n",
       "      <td>66.9</td>\n",
       "      <td>52.3</td>\n",
       "      <td>3.0</td>\n",
       "      <td>40</td>\n",
       "      <td>29</td>\n",
       "      <td>2.0</td>\n",
       "      <td>13.0</td>\n",
       "      <td>10.0</td>\n",
       "      <td>1.0</td>\n",
       "      <td>33.0</td>\n",
       "      <td>1.0</td>\n",
       "      <td>22</td>\n",
       "      <td>20</td>\n",
       "      <td>3.0</td>\n",
       "      <td>56.0</td>\n",
       "      <td>46.4</td>\n",
       "      <td>2.0</td>\n",
       "      <td>4.0</td>\n",
       "      <td>4.0</td>\n",
       "      <td>4.0</td>\n",
       "      <td>1.0</td>\n",
       "      <td>20</td>\n",
       "      <td>18</td>\n",
       "      <td>1.0</td>\n",
       "      <td>97.0</td>\n",
       "      <td>108.0</td>\n",
       "      <td>85.0</td>\n",
       "      <td>4.0</td>\n",
       "      <td>1.0</td>\n",
       "      <td>2.0</td>\n",
       "      <td>1.0</td>\n",
       "      <td>4.7</td>\n",
       "      <td>4.3</td>\n",
       "      <td>2.0</td>\n",
       "      <td>4.0</td>\n",
       "      <td>4.0</td>\n",
       "      <td>34</td>\n",
       "      <td>23</td>\n",
       "      <td>1.0</td>\n",
       "      <td>4.6</td>\n",
       "      <td>4.3</td>\n",
       "      <td>2.0</td>\n",
       "      <td>81.0</td>\n",
       "      <td>95.0</td>\n",
       "      <td>1.0</td>\n",
       "      <td>70.0</td>\n",
       "      <td>56.0</td>\n",
       "      <td>2.0</td>\n",
       "      <td>47.0</td>\n",
       "      <td>40.0</td>\n",
       "      <td>2.0</td>\n",
       "      <td>1.0</td>\n",
       "      <td>10236.0</td>\n",
       "      <td>8430.0</td>\n",
       "      <td>2.0</td>\n",
       "    </tr>\n",
       "  </tbody>\n",
       "</table>\n",
       "</div>"
      ],
      "text/plain": [
       "   fips_code   dem_per   gop_per   oth_per  total    id  FIPS  \\\n",
       "0       1001  0.239569  0.734358  0.026074  24661  1001  1001   \n",
       "1       1003  0.195653  0.773515  0.030832  94090  1003  1003   \n",
       "2       1005  0.466603  0.522714  0.010683  10390  1005  1005   \n",
       "3       1007  0.214220  0.769662  0.016118   8748  1007  1007   \n",
       "4       1009  0.084699  0.898519  0.016782  25384  1009  1009   \n",
       "\n",
       "                 NAME  Election Win Rate election_result  \\\n",
       "0  Autauga County, AL           0.494789           Trump   \n",
       "1  Baldwin County, AL           0.577862           Trump   \n",
       "2  Barbour County, AL           0.056112           Trump   \n",
       "3     Bibb County, AL           0.555441           Trump   \n",
       "4   Blount County, AL           0.813820           Trump   \n",
       "\n",
       "   Avg Daily Sunlight (KJ/m²)  % Uninsured  % Unemployed  Providers  \\\n",
       "0                    17103.72          9.4      5.271161        1.0   \n",
       "1                    17660.59         11.5      5.415263        1.0   \n",
       "2                    17315.13         13.3      8.648518        1.0   \n",
       "3                    16904.87         11.9      6.637117        1.0   \n",
       "4                    16393.63         14.0      5.520897        1.0   \n",
       "\n",
       "   Black/White Segregation index  Drug Overdose Mortality Rate  \\\n",
       "0                           34.0                          10.0   \n",
       "1                           43.0                          17.0   \n",
       "2                           25.0                           NaN   \n",
       "3                           42.0                          15.0   \n",
       "4                           50.0                          21.0   \n",
       "\n",
       "   Household Income  % Disconnected Youth  Teen Birth Rate  \\\n",
       "0           56580.0                  12.0             32.0   \n",
       "1           52387.0                  16.0             38.0   \n",
       "2           31433.0                  30.0             59.0   \n",
       "3           40767.0                  25.0             47.0   \n",
       "4           50487.0                  13.0             43.0   \n",
       "\n",
       "   Violent Crime Rate  Population  Physically Unhealthy Days  PCP Rate  \\\n",
       "0               266.0       14440                        4.2      42.0   \n",
       "1               217.0       47367                        3.7      74.0   \n",
       "2               329.0        7230                        4.8      41.0   \n",
       "3               147.0        6531                        4.4      40.0   \n",
       "4               212.0       14213                        4.5      19.0   \n",
       "\n",
       "   MHP Rate  Mentally Unhealthy Days  Income Ratio  Dentist Rate  \\\n",
       "0      13.0                      4.2           4.3          31.0   \n",
       "1      83.0                      4.0           4.5          48.0   \n",
       "2       8.0                      4.8           5.6          38.0   \n",
       "3       NaN                      4.4           4.3          18.0   \n",
       "4       7.0                      4.5           4.0          19.0   \n",
       "\n",
       "   Chlamydia Rate  Average Daily PM2.5  Association Rate  % Some College  \\\n",
       "0           398.0                 10.8              13.7            59.7   \n",
       "1           341.0                  9.6              11.5            62.9   \n",
       "2           613.0                 10.1               8.2            39.3   \n",
       "3           444.0                 10.5              10.2            50.2   \n",
       "4           124.0                 11.3               8.5            51.2   \n",
       "\n",
       "   % Smokers  % Single-Parent Households  % Severe Housing Problems  % Obese  \\\n",
       "0         17                        25.0                         15       34   \n",
       "1         18                        27.0                         15       27   \n",
       "2         23                        56.0                         16       44   \n",
       "3         20                        30.0                         14       40   \n",
       "4         21                        27.0                         12       35   \n",
       "\n",
       "   % LBW  % Fair/Poor  % Excessive Drinking  % Drive Alone  \\\n",
       "0    9.0           18                    15             87   \n",
       "1    9.0           16                    15             85   \n",
       "2   12.0           25                    12             84   \n",
       "3   12.0           20                    14             83   \n",
       "4    7.0           19                    14             85   \n",
       "\n",
       "   % Physically Inactive  % Receiving HbA1c  % Mammography  \\\n",
       "0                     29               84.0           62.7   \n",
       "1                     22               83.0           66.0   \n",
       "2                     32               89.0           63.0   \n",
       "3                     34               82.0           61.3   \n",
       "4                     28               88.0           59.6   \n",
       "\n",
       "   % Long Commute - Drives Alone  % With Access  Food Environment Index  \\\n",
       "0                             43           71.0                     6.9   \n",
       "1                             38           72.0                     7.5   \n",
       "2                             36           45.0                     4.9   \n",
       "3                             47           33.0                     7.3   \n",
       "4                             60           26.0                     8.3   \n",
       "\n",
       "   Graduation Rate  % Alcohol-Impaired  % Alcohol-Impaired CIH  \\\n",
       "0             90.0                33.0                    40.0   \n",
       "1             85.0                34.0                    38.0   \n",
       "2             86.0                38.0                    48.0   \n",
       "3             85.0                33.0                    43.0   \n",
       "4             91.0                20.0                    28.0   \n",
       "\n",
       "   % Alcohol-Impaired CIL  % Alcohol-Impaired Quartile  % Children in Poverty  \\\n",
       "0                    25.0                          3.0                   19.0   \n",
       "1                    30.0                          3.0                   20.0   \n",
       "2                    28.0                          4.0                   45.0   \n",
       "3                    24.0                          3.0                   29.0   \n",
       "4                    13.0                          1.0                   22.0   \n",
       "\n",
       "   % Children in Poverty - Black  % Children in Poverty - Hispanic  \\\n",
       "0                           43.0                               NaN   \n",
       "1                           50.0                              12.0   \n",
       "2                           69.0                              52.0   \n",
       "3                           61.0                               NaN   \n",
       "4                           20.0                              57.0   \n",
       "\n",
       "   % Children in Poverty - White  % Children in Poverty CIH  \\\n",
       "0                           11.0                       23.0   \n",
       "1                           14.0                       24.0   \n",
       "2                           12.0                       54.0   \n",
       "3                           18.0                       36.0   \n",
       "4                           21.0                       27.0   \n",
       "\n",
       "   % Children in Poverty CIL  % Children in Poverty Quartile  \\\n",
       "0                       14.0                             1.0   \n",
       "1                       15.0                             1.0   \n",
       "2                       36.0                             4.0   \n",
       "3                       22.0                             2.0   \n",
       "4                       17.0                             1.0   \n",
       "\n",
       "   % Drive Alone - Black  % Drive Alone - Hispanic  % Drive Alone - White  \\\n",
       "0                    NaN                       NaN                   83.0   \n",
       "1                   85.0                      61.0                   85.0   \n",
       "2                   82.0                       NaN                    NaN   \n",
       "3                    NaN                       NaN                   88.0   \n",
       "4                    NaN                      73.0                   82.0   \n",
       "\n",
       "   % Drive Alone CIH  % Drive Alone CIL  % Drive Alone Quartile  \\\n",
       "0               89.0               86.0                     4.0   \n",
       "1               86.0               83.0                     2.0   \n",
       "2               86.0               82.0                     2.0   \n",
       "3               89.0               78.0                     2.0   \n",
       "4               87.0               82.0                     2.0   \n",
       "\n",
       "   % Excessive Drinking Quartile  % Excessive Drinking CIH  \\\n",
       "0                            4.0                        16   \n",
       "1                            4.0                        16   \n",
       "2                            2.0                        12   \n",
       "3                            4.0                        15   \n",
       "4                            3.0                        15   \n",
       "\n",
       "   % Excessive Drinking CIL  % Long Commute CIH  % Long Commute CIL  \\\n",
       "0                        14                  47                  38   \n",
       "1                        15                  40                  35   \n",
       "2                        11                  40                  31   \n",
       "3                        14                  54                  39   \n",
       "4                        13                  65                  55   \n",
       "\n",
       "   % Long Commute Quartile  % Mammography CIH  % Mammography CIL  \\\n",
       "0                      3.0               70.0               55.4   \n",
       "1                      3.0               69.4               62.6   \n",
       "2                      3.0               71.6               54.5   \n",
       "3                      4.0               72.2               50.4   \n",
       "4                      4.0               66.9               52.3   \n",
       "\n",
       "   % Mammography Quartile  % Obese CIH  % Obese CIL  % Obese Quartile  \\\n",
       "0                     2.0           39           29               2.0   \n",
       "1                     1.0           31           25               1.0   \n",
       "2                     2.0           50           38               4.0   \n",
       "3                     2.0           47           34               4.0   \n",
       "4                     3.0           40           29               2.0   \n",
       "\n",
       "   % Severe Housing Problems CIH  % Severe Housing Problems CIL  \\\n",
       "0                           17.0                           13.0   \n",
       "1                           16.0                           13.0   \n",
       "2                           19.0                           14.0   \n",
       "3                           18.0                            9.0   \n",
       "4                           13.0                           10.0   \n",
       "\n",
       "   % Severe Housing Problems Quartile  % Single-Parent Households CIH  \\\n",
       "0                                 2.0                            31.0   \n",
       "1                                 2.0                            30.0   \n",
       "2                                 3.0                            63.0   \n",
       "3                                 2.0                            38.0   \n",
       "4                                 1.0                            33.0   \n",
       "\n",
       "   % Single-Parent Households Quartile  % Smokers CIH  % Smokers CIL  \\\n",
       "0                                  1.0             18             17   \n",
       "1                                  1.0             18             17   \n",
       "2                                  4.0             23             22   \n",
       "3                                  1.0             21             19   \n",
       "4                                  1.0             22             20   \n",
       "\n",
       "   % Smokers Quartile  % Some College CIH  % Some College CIL  \\\n",
       "0                 1.0                65.4                53.9   \n",
       "1                 1.0                66.5                59.3   \n",
       "2                 4.0                44.2                34.3   \n",
       "3                 2.0                58.3                42.1   \n",
       "4                 3.0                56.0                46.4   \n",
       "\n",
       "   % Some College Quartile  % With Access Quartile  Association Rate Quartile  \\\n",
       "0                      1.0                     1.0                        2.0   \n",
       "1                      1.0                     1.0                        2.0   \n",
       "2                      4.0                     3.0                        4.0   \n",
       "3                      3.0                     3.0                        3.0   \n",
       "4                      2.0                     4.0                        4.0   \n",
       "\n",
       "   Average Daily PM2.5 Quartile  Chlamydia Rate Quartile  Fair/Poor CIH  \\\n",
       "0                           3.0                      2.0             18   \n",
       "1                           1.0                      1.0             17   \n",
       "2                           2.0                      3.0             26   \n",
       "3                           3.0                      2.0             20   \n",
       "4                           4.0                      1.0             20   \n",
       "\n",
       "   Fair/Poor CIL  Fair/Poor Quartile  Injury Death Rate  \\\n",
       "0             17                 1.0               76.0   \n",
       "1             16                 1.0               71.0   \n",
       "2             24                 4.0               68.0   \n",
       "3             19                 2.0               81.0   \n",
       "4             18                 1.0               97.0   \n",
       "\n",
       "   Injury Death Rate CIH  Injury Death Rate CIL  Injury Death Rate Quartile  \\\n",
       "0                   87.0                   66.0                         2.0   \n",
       "1                   77.0                   66.0                         2.0   \n",
       "2                   83.0                   54.0                         1.0   \n",
       "3                  100.0                   66.0                         3.0   \n",
       "4                  108.0                   85.0                         4.0   \n",
       "\n",
       "   Income Quartile  Graduation Rate Quartile  FEI Quartile  \\\n",
       "0              1.0                       3.0           2.0   \n",
       "1              1.0                       4.0           1.0   \n",
       "2              3.0                       4.0           4.0   \n",
       "3              1.0                       4.0           2.0   \n",
       "4              1.0                       2.0           1.0   \n",
       "\n",
       "   Mentally Unhealthy Days CIH  Mentally Unhealthy Days CIL  \\\n",
       "0                          4.3                          4.0   \n",
       "1                          4.1                          3.8   \n",
       "2                          4.9                          4.6   \n",
       "3                          4.5                          4.2   \n",
       "4                          4.7                          4.3   \n",
       "\n",
       "   Mentally Unhealthy Days Quartile  MHP Quartile  PCP Quartile  \\\n",
       "0                               1.0           3.0           2.0   \n",
       "1                               1.0           1.0           1.0   \n",
       "2                               4.0           4.0           3.0   \n",
       "3                               1.0           2.0           3.0   \n",
       "4                               2.0           4.0           4.0   \n",
       "\n",
       "   Physically Inactive CIH  Physically Inactive CIL  \\\n",
       "0                       33                       24   \n",
       "1                       25                       20   \n",
       "2                       37                       27   \n",
       "3                       40                       28   \n",
       "4                       34                       23   \n",
       "\n",
       "   Physically Inactive Quartile  Physically Unhealthy Days CIH  \\\n",
       "0                           2.0                            4.4   \n",
       "1                           1.0                            3.9   \n",
       "2                           3.0                            5.0   \n",
       "3                           4.0                            4.5   \n",
       "4                           1.0                            4.6   \n",
       "\n",
       "   Physically Unhealthy Days CIL  Physically Unhealthy Days Quartile  \\\n",
       "0                            4.0                                 1.0   \n",
       "1                            3.6                                 1.0   \n",
       "2                            4.6                                 3.0   \n",
       "3                            4.2                                 1.0   \n",
       "4                            4.3                                 2.0   \n",
       "\n",
       "   Receiving HbA1c CIL  Receiving HbA1c HIL  Receiving HbA1c Quartile  \\\n",
       "0                 77.0                 91.0                       3.0   \n",
       "1                 80.0                 87.0                       3.0   \n",
       "2                 81.0                 97.0                       1.0   \n",
       "3                 72.0                 92.0                       4.0   \n",
       "4                 81.0                 95.0                       1.0   \n",
       "\n",
       "   Preventable Hosp. Rate CIH  Preventable Hosp. Rate CIL  \\\n",
       "0                        65.0                        52.0   \n",
       "1                        50.0                        45.0   \n",
       "2                        83.0                        64.0   \n",
       "3                        90.0                        65.0   \n",
       "4                        70.0                        56.0   \n",
       "\n",
       "   Preventable Hosp. Rate Quartile  Teen Birth Rate CIH  Teen Birth Rate CIL  \\\n",
       "0                              2.0                 35.0                 30.0   \n",
       "1                              1.0                 40.0                 36.0   \n",
       "2                              3.0                 66.0                 53.0   \n",
       "3                              4.0                 54.0                 41.0   \n",
       "4                              2.0                 47.0                 40.0   \n",
       "\n",
       "   Teen Birth Rate Quartile  Violent Crime Quartile  YPLLR CIH  YPLLR CIL  \\\n",
       "0                       1.0                     2.0    10065.0     8251.0   \n",
       "1                       1.0                     1.0     7840.0     6947.0   \n",
       "2                       4.0                     2.0     9854.0     7292.0   \n",
       "3                       3.0                     1.0    13498.0    10034.0   \n",
       "4                       2.0                     1.0    10236.0     8430.0   \n",
       "\n",
       "   YPLLR Quartile  \n",
       "0             1.0  \n",
       "1             1.0  \n",
       "2             1.0  \n",
       "3             4.0  \n",
       "4             2.0  "
      ]
     },
     "execution_count": 206,
     "metadata": {},
     "output_type": "execute_result"
    }
   ],
   "source": [
    "df_data.head()"
   ]
  },
  {
   "cell_type": "code",
   "execution_count": 207,
   "metadata": {},
   "outputs": [],
   "source": [
    "columns_to_drop = [col for col in df_data.columns if 'CIH' in col or 'CIL' in col or 'Quartile' in col]"
   ]
  },
  {
   "cell_type": "code",
   "execution_count": 208,
   "metadata": {},
   "outputs": [],
   "source": [
    "df_data = df_data.drop(columns_to_drop, axis=1)"
   ]
  },
  {
   "cell_type": "code",
   "execution_count": 209,
   "metadata": {},
   "outputs": [
    {
     "name": "stdout",
     "output_type": "stream",
     "text": [
      "<class 'pandas.core.frame.DataFrame'>\n",
      "Int64Index: 3111 entries, 0 to 3110\n",
      "Data columns (total 56 columns):\n",
      "fips_code                           3111 non-null int64\n",
      "dem_per                             3111 non-null float64\n",
      "gop_per                             3111 non-null float64\n",
      "oth_per                             3111 non-null float64\n",
      "total                               3111 non-null int64\n",
      "id                                  3111 non-null int64\n",
      "FIPS                                3111 non-null int64\n",
      "NAME                                3111 non-null object\n",
      "Election Win Rate                   3111 non-null float64\n",
      "election_result                     3111 non-null object\n",
      "Avg Daily Sunlight (KJ/m²)          3106 non-null float64\n",
      "% Uninsured                         3111 non-null float64\n",
      "% Unemployed                        3111 non-null float64\n",
      "Providers                           3108 non-null float64\n",
      "Black/White Segregation index       2030 non-null float64\n",
      "Drug Overdose Mortality Rate        1620 non-null float64\n",
      "Household Income                    3111 non-null float64\n",
      "% Disconnected Youth                2033 non-null float64\n",
      "Teen Birth Rate                     3008 non-null float64\n",
      "Violent Crime Rate                  2956 non-null float64\n",
      "Population                          3111 non-null int64\n",
      "Physically Unhealthy Days           3111 non-null float64\n",
      "PCP Rate                            2980 non-null float64\n",
      "MHP Rate                            2825 non-null float64\n",
      "Mentally Unhealthy Days             3111 non-null float64\n",
      "Income Ratio                        3110 non-null float64\n",
      "Dentist Rate                        3032 non-null float64\n",
      "Chlamydia Rate                      2963 non-null float64\n",
      "Average Daily PM2.5                 3107 non-null float64\n",
      "Association Rate                    3111 non-null float64\n",
      "% Some College                      3111 non-null float64\n",
      "% Smokers                           3111 non-null int64\n",
      "% Single-Parent Households          3111 non-null float64\n",
      "% Severe Housing Problems           3111 non-null int64\n",
      "% Obese                             3111 non-null int64\n",
      "% LBW                               3022 non-null float64\n",
      "% Fair/Poor                         3111 non-null int64\n",
      "% Excessive Drinking                3111 non-null int64\n",
      "% Drive Alone                       3111 non-null int64\n",
      "% Physically Inactive               3111 non-null int64\n",
      "% Receiving HbA1c                   3078 non-null float64\n",
      "% Mammography                       3021 non-null float64\n",
      "% Long Commute - Drives Alone       3111 non-null int64\n",
      "% With Access                       3039 non-null float64\n",
      "Food Environment Index              3111 non-null float64\n",
      "Graduation Rate                     2657 non-null float64\n",
      "% Alcohol-Impaired                  3096 non-null float64\n",
      "% Children in Poverty               3111 non-null float64\n",
      "% Children in Poverty - Black       1468 non-null float64\n",
      "% Children in Poverty - Hispanic    2112 non-null float64\n",
      "% Children in Poverty - White       3040 non-null float64\n",
      "% Drive Alone - Black               1146 non-null float64\n",
      "% Drive Alone - Hispanic            1231 non-null float64\n",
      "% Drive Alone - White               2999 non-null float64\n",
      "Injury Death Rate                   3004 non-null float64\n",
      "Receiving HbA1c HIL                 3078 non-null float64\n",
      "dtypes: float64(41), int64(13), object(2)\n",
      "memory usage: 1.4+ MB\n"
     ]
    }
   ],
   "source": [
    "df_data.info()"
   ]
  },
  {
   "cell_type": "code",
   "execution_count": 210,
   "metadata": {
    "collapsed": true
   },
   "outputs": [],
   "source": [
    "candidate_mapping = {'Clinton': 0, 'Trump':1}\n",
    "df_data['election_result'] = df_data['election_result'].map(candidate_mapping)"
   ]
  },
  {
   "cell_type": "code",
   "execution_count": 211,
   "metadata": {},
   "outputs": [
    {
     "name": "stdout",
     "output_type": "stream",
     "text": [
      "<class 'pandas.core.frame.DataFrame'>\n",
      "Int64Index: 3111 entries, 0 to 3110\n",
      "Data columns (total 29 columns):\n",
      "fips_code                        3111 non-null int64\n",
      "dem_per                          3111 non-null float64\n",
      "gop_per                          3111 non-null float64\n",
      "oth_per                          3111 non-null float64\n",
      "total                            3111 non-null int64\n",
      "id                               3111 non-null int64\n",
      "FIPS                             3111 non-null int64\n",
      "NAME                             3111 non-null object\n",
      "Election Win Rate                3111 non-null float64\n",
      "election_result                  3111 non-null int64\n",
      "% Uninsured                      3111 non-null float64\n",
      "% Unemployed                     3111 non-null float64\n",
      "Household Income                 3111 non-null float64\n",
      "Population                       3111 non-null int64\n",
      "Physically Unhealthy Days        3111 non-null float64\n",
      "Mentally Unhealthy Days          3111 non-null float64\n",
      "Association Rate                 3111 non-null float64\n",
      "% Some College                   3111 non-null float64\n",
      "% Smokers                        3111 non-null int64\n",
      "% Single-Parent Households       3111 non-null float64\n",
      "% Severe Housing Problems        3111 non-null int64\n",
      "% Obese                          3111 non-null int64\n",
      "% Fair/Poor                      3111 non-null int64\n",
      "% Excessive Drinking             3111 non-null int64\n",
      "% Drive Alone                    3111 non-null int64\n",
      "% Physically Inactive            3111 non-null int64\n",
      "% Long Commute - Drives Alone    3111 non-null int64\n",
      "Food Environment Index           3111 non-null float64\n",
      "% Children in Poverty            3111 non-null float64\n",
      "dtypes: float64(14), int64(14), object(1)\n",
      "memory usage: 729.1+ KB\n"
     ]
    }
   ],
   "source": [
    "df_data = df_data.dropna(axis=1, how='any')\n",
    "df_data.info()"
   ]
  },
  {
   "cell_type": "code",
   "execution_count": 212,
   "metadata": {},
   "outputs": [],
   "source": [
    "df_data = df_data.select_dtypes(include=[np.number])"
   ]
  },
  {
   "cell_type": "code",
   "execution_count": 213,
   "metadata": {
    "collapsed": true
   },
   "outputs": [],
   "source": [
    "y_data = df_data.loc[:,:'election_result']\n",
    "x_data = df_data.loc[:,'% Some College':]"
   ]
  },
  {
   "cell_type": "code",
   "execution_count": 214,
   "metadata": {
    "collapsed": true
   },
   "outputs": [],
   "source": [
    "x_train, x_test, y_train, y_test = train_test_split(x_data, y_data['gop_per'])"
   ]
  },
  {
   "cell_type": "code",
   "execution_count": 215,
   "metadata": {},
   "outputs": [],
   "source": [
    "scaler = pre.StandardScaler().fit(x_train)"
   ]
  },
  {
   "cell_type": "code",
   "execution_count": 216,
   "metadata": {
    "collapsed": true
   },
   "outputs": [],
   "source": [
    "scaled_train = scaler.transform(x_train)"
   ]
  },
  {
   "cell_type": "markdown",
   "metadata": {},
   "source": [
    "#### Random Forest"
   ]
  },
  {
   "cell_type": "code",
   "execution_count": 217,
   "metadata": {
    "collapsed": true
   },
   "outputs": [],
   "source": [
    "RF = RandomForestRegressor(n_estimators=100, oob_score=True, n_jobs=-1)"
   ]
  },
  {
   "cell_type": "code",
   "execution_count": 218,
   "metadata": {
    "collapsed": true
   },
   "outputs": [],
   "source": [
    "RF = RF.fit(x_train, y_train)"
   ]
  },
  {
   "cell_type": "code",
   "execution_count": 219,
   "metadata": {
    "collapsed": true
   },
   "outputs": [],
   "source": [
    "feature_importance = zip(x_train.columns, RF.feature_importances_)"
   ]
  },
  {
   "cell_type": "code",
   "execution_count": 220,
   "metadata": {},
   "outputs": [
    {
     "data": {
      "text/plain": [
       "[('% Some College', 0.13053424477146489),\n",
       " ('% Smokers', 0.024501881291615568),\n",
       " ('% Single-Parent Households', 0.14694915015347509),\n",
       " ('% Severe Housing Problems', 0.30399931729796181),\n",
       " ('% Obese', 0.042390462238139609),\n",
       " ('% Fair/Poor', 0.054112145232396401),\n",
       " ('% Excessive Drinking', 0.033334694933373557),\n",
       " ('% Drive Alone', 0.045074777350330712),\n",
       " ('% Physically Inactive', 0.099874495384803919),\n",
       " ('% Long Commute - Drives Alone', 0.036620899010989853),\n",
       " ('Food Environment Index', 0.049140848797831635),\n",
       " ('% Children in Poverty', 0.033467083537617036)]"
      ]
     },
     "execution_count": 220,
     "metadata": {},
     "output_type": "execute_result"
    }
   ],
   "source": [
    "feature_importance"
   ]
  },
  {
   "cell_type": "code",
   "execution_count": 221,
   "metadata": {
    "collapsed": true
   },
   "outputs": [],
   "source": [
    "feature_importance = pd.DataFrame(feature_importance, columns=['features','importance'])"
   ]
  },
  {
   "cell_type": "code",
   "execution_count": 222,
   "metadata": {
    "collapsed": true
   },
   "outputs": [],
   "source": [
    "feature_importance = feature_importance.sort_values(by='importance', ascending=False)"
   ]
  },
  {
   "cell_type": "code",
   "execution_count": 223,
   "metadata": {},
   "outputs": [
    {
     "data": {
      "text/plain": [
       "<matplotlib.axes._subplots.AxesSubplot at 0x11a0f39d0>"
      ]
     },
     "execution_count": 223,
     "metadata": {},
     "output_type": "execute_result"
    },
    {
     "data": {
      "image/png": "[encoded data removed]",
      "text/plain": [
       "<matplotlib.figure.Figure at 0x112e0da90>"
      ]
     },
     "metadata": {},
     "output_type": "display_data"
    }
   ],
   "source": [
    "feature_importance.set_index('features').plot.barh()"
   ]
  },
  {
   "cell_type": "code",
   "execution_count": 224,
   "metadata": {},
   "outputs": [
    {
     "data": {
      "text/plain": [
       "0.66884085377209601"
      ]
     },
     "execution_count": 224,
     "metadata": {},
     "output_type": "execute_result"
    }
   ],
   "source": [
    "RF.oob_score_"
   ]
  },
  {
   "cell_type": "markdown",
   "metadata": {},
   "source": [
    "#### Boosted Model"
   ]
  },
  {
   "cell_type": "code",
   "execution_count": 225,
   "metadata": {
    "collapsed": true
   },
   "outputs": [],
   "source": [
    "booster = GradientBoostingRegressor(n_estimators=100, learning_rate=.01, max_depth=6, subsample=.5)"
   ]
  },
  {
   "cell_type": "code",
   "execution_count": 226,
   "metadata": {
    "collapsed": true
   },
   "outputs": [],
   "source": [
    "booster = booster.fit(x_train, y_train)"
   ]
  },
  {
   "cell_type": "code",
   "execution_count": 227,
   "metadata": {
    "collapsed": true
   },
   "outputs": [],
   "source": [
    "feature_importance = zip(x_train.columns, booster.feature_importances_)"
   ]
  },
  {
   "cell_type": "code",
   "execution_count": 228,
   "metadata": {
    "collapsed": true
   },
   "outputs": [],
   "source": [
    "feature_importance = pd.DataFrame(feature_importance,  columns=['features','importance'])"
   ]
  },
  {
   "cell_type": "code",
   "execution_count": 229,
   "metadata": {
    "collapsed": true
   },
   "outputs": [],
   "source": [
    "feature_importance = feature_importance.sort_values(by='importance', ascending=False)"
   ]
  },
  {
   "cell_type": "code",
   "execution_count": 230,
   "metadata": {},
   "outputs": [
    {
     "data": {
      "text/plain": [
       "<matplotlib.axes._subplots.AxesSubplot at 0x1139b9a10>"
      ]
     },
     "execution_count": 230,
     "metadata": {},
     "output_type": "execute_result"
    },
    {
     "data": {
      "image/png": "[encoded data removed]",
      "text/plain": [
       "<matplotlib.figure.Figure at 0x1134c3750>"
      ]
     },
     "metadata": {},
     "output_type": "display_data"
    }
   ],
   "source": [
    "feature_importance.set_index('features').plot.barh()"
   ]
  },
  {
   "cell_type": "markdown",
   "metadata": {},
   "source": [
    "#### Severe Housing Problems"
   ]
  },
  {
   "cell_type": "code",
   "execution_count": 234,
   "metadata": {},
   "outputs": [],
   "source": [
    "for_trump = df_data['election_result'] == 1\n",
    "for_clinton = df_data['election_result'] == 0"
   ]
  },
  {
   "cell_type": "code",
   "execution_count": 242,
   "metadata": {},
   "outputs": [
    {
     "data": {
      "text/plain": [
       "<matplotlib.legend.Legend at 0x11b786fd0>"
      ]
     },
     "execution_count": 242,
     "metadata": {},
     "output_type": "execute_result"
    },
    {
     "data": {
      "image/png": "[encoded data removed]",
      "text/plain": [
       "<matplotlib.figure.Figure at 0x11b729a50>"
      ]
     },
     "metadata": {},
     "output_type": "display_data"
    }
   ],
   "source": [
    "fig, ax = plt.subplots()\n",
    "\n",
    "df_data[for_trump].hist(column='% Severe Housing Problems', ax=ax, label='Trump')\n",
    "df_data[for_clinton].hist(column='% Severe Housing Problems', ax=ax, label='Clinton')\n",
    "\n",
    "ax.spines['right'].set_visible(False)\n",
    "ax.spines['top'].set_visible(False)\n",
    "ax.yaxis.set_ticks_position('none')\n",
    "ax.xaxis.set_ticks_position('none')\n",
    "ax.grid(False)\n",
    "ax.set_xlabel('% Severe Housing Problem (*100)')\n",
    "ax.set_ylabel('Frequency Count')\n",
    "ax.set_title('% Severe Housing Problem')\n",
    "ax.legend()"
   ]
  },
  {
   "cell_type": "code",
   "execution_count": 245,
   "metadata": {},
   "outputs": [
    {
     "data": {
      "text/plain": [
       "election_result\n",
       "0    19.380658\n",
       "1    13.430095\n",
       "Name: % Severe Housing Problems, dtype: float64"
      ]
     },
     "execution_count": 245,
     "metadata": {},
     "output_type": "execute_result"
    }
   ],
   "source": [
    "df_data.groupby('election_result')['% Severe Housing Problems'].mean() #0 is Clinton, 1 is Trump"
   ]
  },
  {
   "cell_type": "markdown",
   "metadata": {},
   "source": [
    "#### Do the counties that support Trump have a different % Severe Housing Problem compared to counties that support Clinton?"
   ]
  },
  {
   "cell_type": "markdown",
   "metadata": {},
   "source": [
    "#### This question is asking if the population average of the counties that support Trump compared to the population average of the counties that support Clinton"
   ]
  },
  {
   "cell_type": "markdown",
   "metadata": {},
   "source": [
    "### Frequentist/Classical method of determining if two means are different "
   ]
  },
  {
   "cell_type": "markdown",
   "metadata": {},
   "source": [
    "### Bayesian method of determing if two means are different"
   ]
  },
  {
   "cell_type": "code",
   "execution_count": 36,
   "metadata": {
    "collapsed": true
   },
   "outputs": [],
   "source": [
    "import pymc3 as pm"
   ]
  },
  {
   "cell_type": "code",
   "execution_count": 40,
   "metadata": {
    "collapsed": true
   },
   "outputs": [],
   "source": [
    "observed = df_data['% Severe Housing Problems']/100"
   ]
  },
  {
   "cell_type": "code",
   "execution_count": 41,
   "metadata": {
    "collapsed": true
   },
   "outputs": [],
   "source": [
    "def mean_from_alpha_beta(alpha, beta):\n",
    "    \n",
    "    mean = alpha/(alpha + beta)\n",
    "    \n",
    "    return mean"
   ]
  },
  {
   "cell_type": "code",
   "execution_count": 42,
   "metadata": {
    "collapsed": true
   },
   "outputs": [],
   "source": [
    "def var_from_alpha_beta(alpha, beta):\n",
    "    \n",
    "    variance = (alpha * beta)/((alpha+beta)**2 * (alpha+beta+1))"
   ]
  },
  {
   "cell_type": "code",
   "execution_count": 43,
   "metadata": {},
   "outputs": [
    {
     "name": "stderr",
     "output_type": "stream",
     "text": [
      "Applied interval-transform to alpha and added transformed alpha_interval_ to model.\n",
      "Applied interval-transform to beta and added transformed beta_interval_ to model.\n"
     ]
    }
   ],
   "source": [
    "with pm.Model() as model:\n",
    "    \n",
    "    #priors\n",
    "    alpha = pm.Uniform('alpha', lower=0.001, upper=100.0, shape=2)\n",
    "    beta = pm.Uniform('beta', lower=0.001, upper=100.0, shape=2)\n",
    "    \n",
    "    #likelihood\n",
    "    y_obs = pm.Beta('y_obs', alpha=alpha[election_result], beta=beta[election_result], observed=observed)\n",
    "    "
   ]
  },
  {
   "cell_type": "code",
   "execution_count": 70,
   "metadata": {},
   "outputs": [
    {
     "name": "stderr",
     "output_type": "stream",
     "text": [
      "Assigned NUTS to alpha_interval_\n",
      "Assigned NUTS to beta_interval_\n",
      "100%|██████████| 10000/10000 [05:23<00:00, 30.87it/s]\n"
     ]
    }
   ],
   "source": [
    "with model:\n",
    "    trace = pm.sample(10000)"
   ]
  },
  {
   "cell_type": "code",
   "execution_count": 71,
   "metadata": {},
   "outputs": [
    {
     "data": {
      "text/plain": [
       "array([[<matplotlib.axes._subplots.AxesSubplot object at 0x1275f8590>,\n",
       "        <matplotlib.axes._subplots.AxesSubplot object at 0x1267f42d0>],\n",
       "       [<matplotlib.axes._subplots.AxesSubplot object at 0x1254d5e90>,\n",
       "        <matplotlib.axes._subplots.AxesSubplot object at 0x12548cb50>]], dtype=object)"
      ]
     },
     "execution_count": 71,
     "metadata": {},
     "output_type": "execute_result"
    },
    {
     "data": {
      "image/png": "[encoded data removed]",
      "text/plain": [
       "<matplotlib.figure.Figure at 0x1275e6d90>"
      ]
     },
     "metadata": {},
     "output_type": "display_data"
    }
   ],
   "source": [
    "pm.traceplot(trace)"
   ]
  },
  {
   "cell_type": "code",
   "execution_count": 54,
   "metadata": {},
   "outputs": [
    {
     "data": {
      "text/plain": [
       "array([[ 50.00045175,  50.01735698],\n",
       "       [ 50.44289948,  52.94151571],\n",
       "       [ 51.93453583,  60.5530816 ],\n",
       "       [ 56.75425431,  71.48920766],\n",
       "       [ 56.75425431,  71.48920766]])"
      ]
     },
     "execution_count": 54,
     "metadata": {},
     "output_type": "execute_result"
    }
   ],
   "source": [
    "trace['beta'][:5,:]"
   ]
  },
  {
   "cell_type": "code",
   "execution_count": 73,
   "metadata": {
    "collapsed": true
   },
   "outputs": [],
   "source": [
    "mean_clinton = mean_from_alpha_beta(trace['alpha'][2000:,0], trace['beta'][2000:,0])"
   ]
  },
  {
   "cell_type": "code",
   "execution_count": 72,
   "metadata": {
    "collapsed": true
   },
   "outputs": [],
   "source": [
    "mean_trump = mean_from_alpha_beta(trace['alpha'][2000:,1], trace['beta'][2000:,1])"
   ]
  },
  {
   "cell_type": "code",
   "execution_count": 74,
   "metadata": {
    "collapsed": true
   },
   "outputs": [],
   "source": [
    "diff_in_means = mean_clinton-mean_trump"
   ]
  },
  {
   "cell_type": "code",
   "execution_count": 75,
   "metadata": {},
   "outputs": [
    {
     "data": {
      "text/plain": [
       "(array([   11.,    90.,   531.,  1452.,  2266.,  2098.,  1098.,   379.,\n",
       "           67.,     8.]),\n",
       " array([ 0.0509719 ,  0.05268343,  0.05439495,  0.05610647,  0.05781799,\n",
       "         0.05952952,  0.06124104,  0.06295256,  0.06466408,  0.06637561,\n",
       "         0.06808713]),\n",
       " <a list of 10 Patch objects>)"
      ]
     },
     "execution_count": 75,
     "metadata": {},
     "output_type": "execute_result"
    },
    {
     "data": {
      "image/png": "[encoded data removed]",
      "text/plain": [
       "<matplotlib.figure.Figure at 0x12768b590>"
      ]
     },
     "metadata": {},
     "output_type": "display_data"
    }
   ],
   "source": [
    "plt.hist(diff_in_means)"
   ]
  },
  {
   "cell_type": "code",
   "execution_count": null,
   "metadata": {
    "collapsed": true
   },
   "outputs": [],
   "source": []
  }
 ],
 "metadata": {
  "kernelspec": {
   "display_name": "Python [conda root]",
   "language": "python",
   "name": "conda-root-py"
  },
  "language_info": {
   "codemirror_mode": {
    "name": "ipython",
    "version": 2
   },
   "file_extension": ".py",
   "mimetype": "text/x-python",
   "name": "python",
   "nbconvert_exporter": "python",
   "pygments_lexer": "ipython2",
   "version": "2.7.13"
  }
 },
 "nbformat": 4,
 "nbformat_minor": 2
}
