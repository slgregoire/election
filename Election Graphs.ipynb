{
 "cells": [
  {
   "cell_type": "markdown",
   "metadata": {},
   "source": [
    "## Exploring 2016 US Presidential Election Results and associated demographic data"
   ]
  },
  {
   "cell_type": "code",
   "execution_count": 1,
   "metadata": {
    "collapsed": true
   },
   "outputs": [],
   "source": [
    "%matplotlib inline"
   ]
  },
  {
   "cell_type": "code",
   "execution_count": 2,
   "metadata": {
    "collapsed": true
   },
   "outputs": [],
   "source": [
    "import pandas as pd\n",
    "import numpy as np\n",
    "import matplotlib.pyplot as plt"
   ]
  },
  {
   "cell_type": "code",
   "execution_count": 38,
   "metadata": {
    "collapsed": true
   },
   "outputs": [],
   "source": [
    "from matplotlib.backends.backend_pdf import PdfPages"
   ]
  },
  {
   "cell_type": "code",
   "execution_count": 3,
   "metadata": {
    "collapsed": true
   },
   "outputs": [],
   "source": [
    "pd.options.display.max_columns = 100"
   ]
  },
  {
   "cell_type": "markdown",
   "metadata": {},
   "source": [
    "### Importing Data"
   ]
  },
  {
   "cell_type": "code",
   "execution_count": 4,
   "metadata": {
    "collapsed": true
   },
   "outputs": [],
   "source": [
    "file_results = \"US_County_Level_Presidential_Results_08-16.csv\"\n",
    "file_demo = \"data.csv\""
   ]
  },
  {
   "cell_type": "code",
   "execution_count": 5,
   "metadata": {
    "collapsed": true
   },
   "outputs": [],
   "source": [
    "df_results = pd.read_csv(file_results)\n",
    "df_demo = pd.read_csv(file_demo)"
   ]
  },
  {
   "cell_type": "code",
   "execution_count": 6,
   "metadata": {},
   "outputs": [
    {
     "name": "stdout",
     "output_type": "stream",
     "text": [
      "<class 'pandas.core.frame.DataFrame'>\n",
      "RangeIndex: 9336 entries, 0 to 9335\n",
      "Data columns (total 7 columns):\n",
      "fips_code    9336 non-null int64\n",
      "county       9336 non-null object\n",
      "Year         9336 non-null int64\n",
      "total        9336 non-null int64\n",
      "dem          9336 non-null int64\n",
      "gop          9336 non-null int64\n",
      "oth          9336 non-null int64\n",
      "dtypes: int64(6), object(1)\n",
      "memory usage: 510.6+ KB\n"
     ]
    }
   ],
   "source": [
    "df_results.info()"
   ]
  },
  {
   "cell_type": "code",
   "execution_count": 7,
   "metadata": {},
   "outputs": [
    {
     "data": {
      "text/html": [
       "<div>\n",
       "<style>\n",
       "    .dataframe thead tr:only-child th {\n",
       "        text-align: right;\n",
       "    }\n",
       "\n",
       "    .dataframe thead th {\n",
       "        text-align: left;\n",
       "    }\n",
       "\n",
       "    .dataframe tbody tr th {\n",
       "        vertical-align: top;\n",
       "    }\n",
       "</style>\n",
       "<table border=\"1\" class=\"dataframe\">\n",
       "  <thead>\n",
       "    <tr style=\"text-align: right;\">\n",
       "      <th></th>\n",
       "      <th>fips_code</th>\n",
       "      <th>county</th>\n",
       "      <th>Year</th>\n",
       "      <th>total</th>\n",
       "      <th>dem</th>\n",
       "      <th>gop</th>\n",
       "      <th>oth</th>\n",
       "    </tr>\n",
       "  </thead>\n",
       "  <tbody>\n",
       "    <tr>\n",
       "      <th>0</th>\n",
       "      <td>1001</td>\n",
       "      <td>Autauga County</td>\n",
       "      <td>2008</td>\n",
       "      <td>23641</td>\n",
       "      <td>6093</td>\n",
       "      <td>17403</td>\n",
       "      <td>145</td>\n",
       "    </tr>\n",
       "    <tr>\n",
       "      <th>1</th>\n",
       "      <td>1001</td>\n",
       "      <td>Autauga County</td>\n",
       "      <td>2012</td>\n",
       "      <td>23909</td>\n",
       "      <td>6354</td>\n",
       "      <td>17366</td>\n",
       "      <td>189</td>\n",
       "    </tr>\n",
       "    <tr>\n",
       "      <th>2</th>\n",
       "      <td>1001</td>\n",
       "      <td>Autauga County</td>\n",
       "      <td>2016</td>\n",
       "      <td>24661</td>\n",
       "      <td>5908</td>\n",
       "      <td>18110</td>\n",
       "      <td>643</td>\n",
       "    </tr>\n",
       "    <tr>\n",
       "      <th>3</th>\n",
       "      <td>1003</td>\n",
       "      <td>Baldwin County</td>\n",
       "      <td>2008</td>\n",
       "      <td>81413</td>\n",
       "      <td>19386</td>\n",
       "      <td>61271</td>\n",
       "      <td>756</td>\n",
       "    </tr>\n",
       "    <tr>\n",
       "      <th>4</th>\n",
       "      <td>1003</td>\n",
       "      <td>Baldwin County</td>\n",
       "      <td>2012</td>\n",
       "      <td>84988</td>\n",
       "      <td>18329</td>\n",
       "      <td>65772</td>\n",
       "      <td>887</td>\n",
       "    </tr>\n",
       "  </tbody>\n",
       "</table>\n",
       "</div>"
      ],
      "text/plain": [
       "   fips_code          county  Year  total    dem    gop  oth\n",
       "0       1001  Autauga County  2008  23641   6093  17403  145\n",
       "1       1001  Autauga County  2012  23909   6354  17366  189\n",
       "2       1001  Autauga County  2016  24661   5908  18110  643\n",
       "3       1003  Baldwin County  2008  81413  19386  61271  756\n",
       "4       1003  Baldwin County  2012  84988  18329  65772  887"
      ]
     },
     "execution_count": 7,
     "metadata": {},
     "output_type": "execute_result"
    }
   ],
   "source": [
    "df_results.head(5)"
   ]
  },
  {
   "cell_type": "markdown",
   "metadata": {},
   "source": [
    "#### only looking at 2016 results"
   ]
  },
  {
   "cell_type": "code",
   "execution_count": 8,
   "metadata": {
    "collapsed": true
   },
   "outputs": [],
   "source": [
    "df_results_2016 = df_results[df_results['Year']==2016]"
   ]
  },
  {
   "cell_type": "code",
   "execution_count": 9,
   "metadata": {},
   "outputs": [
    {
     "name": "stdout",
     "output_type": "stream",
     "text": [
      "<class 'pandas.core.frame.DataFrame'>\n",
      "Int64Index: 3112 entries, 2 to 9335\n",
      "Data columns (total 7 columns):\n",
      "fips_code    3112 non-null int64\n",
      "county       3112 non-null object\n",
      "Year         3112 non-null int64\n",
      "total        3112 non-null int64\n",
      "dem          3112 non-null int64\n",
      "gop          3112 non-null int64\n",
      "oth          3112 non-null int64\n",
      "dtypes: int64(6), object(1)\n",
      "memory usage: 194.5+ KB\n"
     ]
    }
   ],
   "source": [
    "df_results_2016.info()"
   ]
  },
  {
   "cell_type": "code",
   "execution_count": 10,
   "metadata": {},
   "outputs": [
    {
     "data": {
      "text/html": [
       "<div>\n",
       "<style>\n",
       "    .dataframe thead tr:only-child th {\n",
       "        text-align: right;\n",
       "    }\n",
       "\n",
       "    .dataframe thead th {\n",
       "        text-align: left;\n",
       "    }\n",
       "\n",
       "    .dataframe tbody tr th {\n",
       "        vertical-align: top;\n",
       "    }\n",
       "</style>\n",
       "<table border=\"1\" class=\"dataframe\">\n",
       "  <thead>\n",
       "    <tr style=\"text-align: right;\">\n",
       "      <th></th>\n",
       "      <th>fips_code</th>\n",
       "      <th>county</th>\n",
       "      <th>Year</th>\n",
       "      <th>total</th>\n",
       "      <th>dem</th>\n",
       "      <th>gop</th>\n",
       "      <th>oth</th>\n",
       "    </tr>\n",
       "  </thead>\n",
       "  <tbody>\n",
       "    <tr>\n",
       "      <th>2</th>\n",
       "      <td>1001</td>\n",
       "      <td>Autauga County</td>\n",
       "      <td>2016</td>\n",
       "      <td>24661</td>\n",
       "      <td>5908</td>\n",
       "      <td>18110</td>\n",
       "      <td>643</td>\n",
       "    </tr>\n",
       "    <tr>\n",
       "      <th>5</th>\n",
       "      <td>1003</td>\n",
       "      <td>Baldwin County</td>\n",
       "      <td>2016</td>\n",
       "      <td>94090</td>\n",
       "      <td>18409</td>\n",
       "      <td>72780</td>\n",
       "      <td>2901</td>\n",
       "    </tr>\n",
       "    <tr>\n",
       "      <th>8</th>\n",
       "      <td>1005</td>\n",
       "      <td>Barbour County</td>\n",
       "      <td>2016</td>\n",
       "      <td>10390</td>\n",
       "      <td>4848</td>\n",
       "      <td>5431</td>\n",
       "      <td>111</td>\n",
       "    </tr>\n",
       "    <tr>\n",
       "      <th>11</th>\n",
       "      <td>1007</td>\n",
       "      <td>Bibb County</td>\n",
       "      <td>2016</td>\n",
       "      <td>8748</td>\n",
       "      <td>1874</td>\n",
       "      <td>6733</td>\n",
       "      <td>141</td>\n",
       "    </tr>\n",
       "    <tr>\n",
       "      <th>14</th>\n",
       "      <td>1009</td>\n",
       "      <td>Blount County</td>\n",
       "      <td>2016</td>\n",
       "      <td>25384</td>\n",
       "      <td>2150</td>\n",
       "      <td>22808</td>\n",
       "      <td>426</td>\n",
       "    </tr>\n",
       "  </tbody>\n",
       "</table>\n",
       "</div>"
      ],
      "text/plain": [
       "    fips_code          county  Year  total    dem    gop   oth\n",
       "2        1001  Autauga County  2016  24661   5908  18110   643\n",
       "5        1003  Baldwin County  2016  94090  18409  72780  2901\n",
       "8        1005  Barbour County  2016  10390   4848   5431   111\n",
       "11       1007     Bibb County  2016   8748   1874   6733   141\n",
       "14       1009   Blount County  2016  25384   2150  22808   426"
      ]
     },
     "execution_count": 10,
     "metadata": {},
     "output_type": "execute_result"
    }
   ],
   "source": [
    "df_results_2016.head()"
   ]
  },
  {
   "cell_type": "code",
   "execution_count": 11,
   "metadata": {},
   "outputs": [
    {
     "name": "stdout",
     "output_type": "stream",
     "text": [
      "<class 'pandas.core.frame.DataFrame'>\n",
      "RangeIndex: 3111 entries, 0 to 3110\n",
      "Data columns (total 38 columns):\n",
      "State                                3111 non-null object\n",
      "FIPS                                 3111 non-null int64\n",
      "County                               3111 non-null object\n",
      "election_result                      3111 non-null object\n",
      "% Some College                       3111 non-null float64\n",
      "% Smokers                            3111 non-null int64\n",
      "% Single-Parent Households           3111 non-null int64\n",
      "% Severe Housing Problems            3111 non-null int64\n",
      "% Receiving HbA1c                    3078 non-null float64\n",
      "% Physically Inactive                3111 non-null int64\n",
      "% Obese                              3111 non-null int64\n",
      "% Long Commute - Drives Alone        3111 non-null int64\n",
      "% LBW                                3022 non-null float64\n",
      "% Fair/Poor                          3111 non-null int64\n",
      "% Excessive Drinking                 3111 non-null int64\n",
      "% Drive Alone - White                2999 non-null float64\n",
      "% Drive Alone - Hispanic             1231 non-null float64\n",
      "% Drive Alone - Black                1146 non-null float64\n",
      "% Drive Alone                        3111 non-null int64\n",
      "% Children in Poverty - White        3040 non-null float64\n",
      "% Children in Poverty - Hispanic     2112 non-null float64\n",
      "% Children in Poverty - Black        1468 non-null float64\n",
      "% Children in Poverty                3111 non-null int64\n",
      "% Alcohol-Impaired                   3096 non-null float64\n",
      "% Mammography                        3021 non-null float64\n",
      "Graduation Rate                      2657 non-null float64\n",
      "Income Ratio                         3110 non-null float64\n",
      "Mentally Unhealthy Days              3111 non-null float64\n",
      "Physically Unhealthy Days            3111 non-null float64\n",
      "Preventable Hosp. Rate               3032 non-null float64\n",
      "Teen Birth Rate                      3008 non-null float64\n",
      "Violent Crime Rate                   2956 non-null float64\n",
      "Years of Potential Life Lost Rate    2940 non-null float64\n",
      "Chlamydia Rate                       2963 non-null float64\n",
      "Association Rate                     3111 non-null float64\n",
      "% unemployment                       3111 non-null float64\n",
      "% Uninsured                          3111 non-null int64\n",
      "% With Access                        3039 non-null float64\n",
      "dtypes: float64(23), int64(12), object(3)\n",
      "memory usage: 923.6+ KB\n"
     ]
    }
   ],
   "source": [
    "df_demo.info()"
   ]
  },
  {
   "cell_type": "code",
   "execution_count": 12,
   "metadata": {},
   "outputs": [
    {
     "data": {
      "text/html": [
       "<div>\n",
       "<style>\n",
       "    .dataframe thead tr:only-child th {\n",
       "        text-align: right;\n",
       "    }\n",
       "\n",
       "    .dataframe thead th {\n",
       "        text-align: left;\n",
       "    }\n",
       "\n",
       "    .dataframe tbody tr th {\n",
       "        vertical-align: top;\n",
       "    }\n",
       "</style>\n",
       "<table border=\"1\" class=\"dataframe\">\n",
       "  <thead>\n",
       "    <tr style=\"text-align: right;\">\n",
       "      <th></th>\n",
       "      <th>State</th>\n",
       "      <th>FIPS</th>\n",
       "      <th>County</th>\n",
       "      <th>election_result</th>\n",
       "      <th>% Some College</th>\n",
       "      <th>% Smokers</th>\n",
       "      <th>% Single-Parent Households</th>\n",
       "      <th>% Severe Housing Problems</th>\n",
       "      <th>% Receiving HbA1c</th>\n",
       "      <th>% Physically Inactive</th>\n",
       "      <th>% Obese</th>\n",
       "      <th>% Long Commute - Drives Alone</th>\n",
       "      <th>% LBW</th>\n",
       "      <th>% Fair/Poor</th>\n",
       "      <th>% Excessive Drinking</th>\n",
       "      <th>% Drive Alone - White</th>\n",
       "      <th>% Drive Alone - Hispanic</th>\n",
       "      <th>% Drive Alone - Black</th>\n",
       "      <th>% Drive Alone</th>\n",
       "      <th>% Children in Poverty - White</th>\n",
       "      <th>% Children in Poverty - Hispanic</th>\n",
       "      <th>% Children in Poverty - Black</th>\n",
       "      <th>% Children in Poverty</th>\n",
       "      <th>% Alcohol-Impaired</th>\n",
       "      <th>% Mammography</th>\n",
       "      <th>Graduation Rate</th>\n",
       "      <th>Income Ratio</th>\n",
       "      <th>Mentally Unhealthy Days</th>\n",
       "      <th>Physically Unhealthy Days</th>\n",
       "      <th>Preventable Hosp. Rate</th>\n",
       "      <th>Teen Birth Rate</th>\n",
       "      <th>Violent Crime Rate</th>\n",
       "      <th>Years of Potential Life Lost Rate</th>\n",
       "      <th>Chlamydia Rate</th>\n",
       "      <th>Association Rate</th>\n",
       "      <th>% unemployment</th>\n",
       "      <th>% Uninsured</th>\n",
       "      <th>% With Access</th>\n",
       "    </tr>\n",
       "  </thead>\n",
       "  <tbody>\n",
       "    <tr>\n",
       "      <th>0</th>\n",
       "      <td>Alabama</td>\n",
       "      <td>1001</td>\n",
       "      <td>Autauga</td>\n",
       "      <td>Trump</td>\n",
       "      <td>59.7</td>\n",
       "      <td>17</td>\n",
       "      <td>25</td>\n",
       "      <td>15</td>\n",
       "      <td>84.0</td>\n",
       "      <td>29</td>\n",
       "      <td>34</td>\n",
       "      <td>43</td>\n",
       "      <td>9.0</td>\n",
       "      <td>18</td>\n",
       "      <td>15</td>\n",
       "      <td>83.0</td>\n",
       "      <td>NaN</td>\n",
       "      <td>NaN</td>\n",
       "      <td>87</td>\n",
       "      <td>11.0</td>\n",
       "      <td>NaN</td>\n",
       "      <td>43.0</td>\n",
       "      <td>19</td>\n",
       "      <td>33.0</td>\n",
       "      <td>62.7</td>\n",
       "      <td>90.0</td>\n",
       "      <td>4.3</td>\n",
       "      <td>4.2</td>\n",
       "      <td>4.2</td>\n",
       "      <td>59.0</td>\n",
       "      <td>32.0</td>\n",
       "      <td>266.0</td>\n",
       "      <td>9158.0</td>\n",
       "      <td>398.0</td>\n",
       "      <td>13.7</td>\n",
       "      <td>0.052712</td>\n",
       "      <td>11</td>\n",
       "      <td>71.0</td>\n",
       "    </tr>\n",
       "    <tr>\n",
       "      <th>1</th>\n",
       "      <td>Alabama</td>\n",
       "      <td>1003</td>\n",
       "      <td>Baldwin</td>\n",
       "      <td>Trump</td>\n",
       "      <td>62.9</td>\n",
       "      <td>18</td>\n",
       "      <td>27</td>\n",
       "      <td>15</td>\n",
       "      <td>83.0</td>\n",
       "      <td>22</td>\n",
       "      <td>27</td>\n",
       "      <td>38</td>\n",
       "      <td>9.0</td>\n",
       "      <td>16</td>\n",
       "      <td>15</td>\n",
       "      <td>85.0</td>\n",
       "      <td>61.0</td>\n",
       "      <td>85.0</td>\n",
       "      <td>85</td>\n",
       "      <td>14.0</td>\n",
       "      <td>12.0</td>\n",
       "      <td>50.0</td>\n",
       "      <td>20</td>\n",
       "      <td>34.0</td>\n",
       "      <td>66.0</td>\n",
       "      <td>85.0</td>\n",
       "      <td>4.5</td>\n",
       "      <td>4.0</td>\n",
       "      <td>3.7</td>\n",
       "      <td>48.0</td>\n",
       "      <td>38.0</td>\n",
       "      <td>217.0</td>\n",
       "      <td>7394.0</td>\n",
       "      <td>341.0</td>\n",
       "      <td>11.5</td>\n",
       "      <td>0.054153</td>\n",
       "      <td>16</td>\n",
       "      <td>72.0</td>\n",
       "    </tr>\n",
       "    <tr>\n",
       "      <th>2</th>\n",
       "      <td>Alabama</td>\n",
       "      <td>1005</td>\n",
       "      <td>Barbour</td>\n",
       "      <td>Trump</td>\n",
       "      <td>39.3</td>\n",
       "      <td>23</td>\n",
       "      <td>56</td>\n",
       "      <td>16</td>\n",
       "      <td>89.0</td>\n",
       "      <td>32</td>\n",
       "      <td>44</td>\n",
       "      <td>36</td>\n",
       "      <td>12.0</td>\n",
       "      <td>25</td>\n",
       "      <td>12</td>\n",
       "      <td>NaN</td>\n",
       "      <td>NaN</td>\n",
       "      <td>82.0</td>\n",
       "      <td>84</td>\n",
       "      <td>12.0</td>\n",
       "      <td>52.0</td>\n",
       "      <td>69.0</td>\n",
       "      <td>45</td>\n",
       "      <td>38.0</td>\n",
       "      <td>63.0</td>\n",
       "      <td>86.0</td>\n",
       "      <td>5.6</td>\n",
       "      <td>4.8</td>\n",
       "      <td>4.8</td>\n",
       "      <td>74.0</td>\n",
       "      <td>59.0</td>\n",
       "      <td>329.0</td>\n",
       "      <td>8573.0</td>\n",
       "      <td>613.0</td>\n",
       "      <td>8.2</td>\n",
       "      <td>0.086485</td>\n",
       "      <td>15</td>\n",
       "      <td>45.0</td>\n",
       "    </tr>\n",
       "    <tr>\n",
       "      <th>3</th>\n",
       "      <td>Alabama</td>\n",
       "      <td>1007</td>\n",
       "      <td>Bibb</td>\n",
       "      <td>Trump</td>\n",
       "      <td>50.2</td>\n",
       "      <td>20</td>\n",
       "      <td>30</td>\n",
       "      <td>14</td>\n",
       "      <td>82.0</td>\n",
       "      <td>34</td>\n",
       "      <td>40</td>\n",
       "      <td>47</td>\n",
       "      <td>12.0</td>\n",
       "      <td>20</td>\n",
       "      <td>14</td>\n",
       "      <td>88.0</td>\n",
       "      <td>NaN</td>\n",
       "      <td>NaN</td>\n",
       "      <td>83</td>\n",
       "      <td>18.0</td>\n",
       "      <td>NaN</td>\n",
       "      <td>61.0</td>\n",
       "      <td>29</td>\n",
       "      <td>33.0</td>\n",
       "      <td>61.3</td>\n",
       "      <td>85.0</td>\n",
       "      <td>4.3</td>\n",
       "      <td>4.4</td>\n",
       "      <td>4.4</td>\n",
       "      <td>77.0</td>\n",
       "      <td>47.0</td>\n",
       "      <td>147.0</td>\n",
       "      <td>11766.0</td>\n",
       "      <td>444.0</td>\n",
       "      <td>10.2</td>\n",
       "      <td>0.066371</td>\n",
       "      <td>14</td>\n",
       "      <td>33.0</td>\n",
       "    </tr>\n",
       "    <tr>\n",
       "      <th>4</th>\n",
       "      <td>Alabama</td>\n",
       "      <td>1009</td>\n",
       "      <td>Blount</td>\n",
       "      <td>Trump</td>\n",
       "      <td>51.2</td>\n",
       "      <td>21</td>\n",
       "      <td>27</td>\n",
       "      <td>12</td>\n",
       "      <td>88.0</td>\n",
       "      <td>28</td>\n",
       "      <td>35</td>\n",
       "      <td>60</td>\n",
       "      <td>7.0</td>\n",
       "      <td>19</td>\n",
       "      <td>14</td>\n",
       "      <td>82.0</td>\n",
       "      <td>73.0</td>\n",
       "      <td>NaN</td>\n",
       "      <td>85</td>\n",
       "      <td>21.0</td>\n",
       "      <td>57.0</td>\n",
       "      <td>20.0</td>\n",
       "      <td>22</td>\n",
       "      <td>20.0</td>\n",
       "      <td>59.6</td>\n",
       "      <td>91.0</td>\n",
       "      <td>4.0</td>\n",
       "      <td>4.5</td>\n",
       "      <td>4.5</td>\n",
       "      <td>63.0</td>\n",
       "      <td>43.0</td>\n",
       "      <td>212.0</td>\n",
       "      <td>9333.0</td>\n",
       "      <td>124.0</td>\n",
       "      <td>8.5</td>\n",
       "      <td>0.055209</td>\n",
       "      <td>16</td>\n",
       "      <td>26.0</td>\n",
       "    </tr>\n",
       "  </tbody>\n",
       "</table>\n",
       "</div>"
      ],
      "text/plain": [
       "     State  FIPS   County election_result  % Some College  % Smokers  \\\n",
       "0  Alabama  1001  Autauga           Trump            59.7         17   \n",
       "1  Alabama  1003  Baldwin           Trump            62.9         18   \n",
       "2  Alabama  1005  Barbour           Trump            39.3         23   \n",
       "3  Alabama  1007     Bibb           Trump            50.2         20   \n",
       "4  Alabama  1009   Blount           Trump            51.2         21   \n",
       "\n",
       "   % Single-Parent Households  % Severe Housing Problems  % Receiving HbA1c  \\\n",
       "0                          25                         15               84.0   \n",
       "1                          27                         15               83.0   \n",
       "2                          56                         16               89.0   \n",
       "3                          30                         14               82.0   \n",
       "4                          27                         12               88.0   \n",
       "\n",
       "   % Physically Inactive  % Obese  % Long Commute - Drives Alone  % LBW  \\\n",
       "0                     29       34                             43    9.0   \n",
       "1                     22       27                             38    9.0   \n",
       "2                     32       44                             36   12.0   \n",
       "3                     34       40                             47   12.0   \n",
       "4                     28       35                             60    7.0   \n",
       "\n",
       "   % Fair/Poor  % Excessive Drinking  % Drive Alone - White  \\\n",
       "0           18                    15                   83.0   \n",
       "1           16                    15                   85.0   \n",
       "2           25                    12                    NaN   \n",
       "3           20                    14                   88.0   \n",
       "4           19                    14                   82.0   \n",
       "\n",
       "   % Drive Alone - Hispanic  % Drive Alone - Black  % Drive Alone  \\\n",
       "0                       NaN                    NaN             87   \n",
       "1                      61.0                   85.0             85   \n",
       "2                       NaN                   82.0             84   \n",
       "3                       NaN                    NaN             83   \n",
       "4                      73.0                    NaN             85   \n",
       "\n",
       "   % Children in Poverty - White  % Children in Poverty - Hispanic  \\\n",
       "0                           11.0                               NaN   \n",
       "1                           14.0                              12.0   \n",
       "2                           12.0                              52.0   \n",
       "3                           18.0                               NaN   \n",
       "4                           21.0                              57.0   \n",
       "\n",
       "   % Children in Poverty - Black  % Children in Poverty  % Alcohol-Impaired  \\\n",
       "0                           43.0                     19                33.0   \n",
       "1                           50.0                     20                34.0   \n",
       "2                           69.0                     45                38.0   \n",
       "3                           61.0                     29                33.0   \n",
       "4                           20.0                     22                20.0   \n",
       "\n",
       "   % Mammography  Graduation Rate  Income Ratio  Mentally Unhealthy Days  \\\n",
       "0           62.7             90.0           4.3                      4.2   \n",
       "1           66.0             85.0           4.5                      4.0   \n",
       "2           63.0             86.0           5.6                      4.8   \n",
       "3           61.3             85.0           4.3                      4.4   \n",
       "4           59.6             91.0           4.0                      4.5   \n",
       "\n",
       "   Physically Unhealthy Days  Preventable Hosp. Rate  Teen Birth Rate  \\\n",
       "0                        4.2                    59.0             32.0   \n",
       "1                        3.7                    48.0             38.0   \n",
       "2                        4.8                    74.0             59.0   \n",
       "3                        4.4                    77.0             47.0   \n",
       "4                        4.5                    63.0             43.0   \n",
       "\n",
       "   Violent Crime Rate  Years of Potential Life Lost Rate  Chlamydia Rate  \\\n",
       "0               266.0                             9158.0           398.0   \n",
       "1               217.0                             7394.0           341.0   \n",
       "2               329.0                             8573.0           613.0   \n",
       "3               147.0                            11766.0           444.0   \n",
       "4               212.0                             9333.0           124.0   \n",
       "\n",
       "   Association Rate  % unemployment  % Uninsured  % With Access  \n",
       "0              13.7        0.052712           11           71.0  \n",
       "1              11.5        0.054153           16           72.0  \n",
       "2               8.2        0.086485           15           45.0  \n",
       "3              10.2        0.066371           14           33.0  \n",
       "4               8.5        0.055209           16           26.0  "
      ]
     },
     "execution_count": 12,
     "metadata": {},
     "output_type": "execute_result"
    }
   ],
   "source": [
    "df_demo.head(5)"
   ]
  },
  {
   "cell_type": "markdown",
   "metadata": {},
   "source": [
    "### Plotting Data"
   ]
  },
  {
   "cell_type": "markdown",
   "metadata": {},
   "source": [
    "####  County Voting Results by Party "
   ]
  },
  {
   "cell_type": "code",
   "execution_count": 42,
   "metadata": {},
   "outputs": [
    {
     "data": {
      "text/plain": [
       "<matplotlib.text.Text at 0x11a9453d0>"
      ]
     },
     "execution_count": 42,
     "metadata": {},
     "output_type": "execute_result"
    },
    {
     "data": {
      "image/png": "[encoded data removed]",
      "text/plain": [
       "<matplotlib.figure.Figure at 0x11a862b10>"
      ]
     },
     "metadata": {},
     "output_type": "display_data"
    }
   ],
   "source": [
    "fig = plt.figure()\n",
    "ax = df_results_2016.loc[:,'dem':].boxplot()\n",
    "\n",
    "ax.spines['right'].set_visible(False)\n",
    "ax.spines['top'].set_visible(False)\n",
    "ax.grid(False)\n",
    "ax.yaxis.set_ticks_position('none')\n",
    "ax.xaxis.set_ticks_position('none')\n",
    "\n",
    "ax.set_title('County Voting Results by Party')\n",
    "ax.set_xlabel('Political Party Affiliation')\n",
    "ax.set_ylabel('Vote Count')"
   ]
  },
  {
   "cell_type": "code",
   "execution_count": 47,
   "metadata": {},
   "outputs": [
    {
     "data": {
      "text/plain": [
       "<matplotlib.figure.Figure at 0x11b37d390>"
      ]
     },
     "metadata": {},
     "output_type": "display_data"
    },
    {
     "data": {
      "image/png": "[encoded data removed]",
      "text/plain": [
       "<matplotlib.figure.Figure at 0x11b364910>"
      ]
     },
     "metadata": {},
     "output_type": "display_data"
    }
   ],
   "source": [
    "with PdfPages('county_results_by_party.pdf') as pdf:\n",
    "    \n",
    "    fig = plt.figure()\n",
    "    ax = df_results_2016.loc[:,'dem':'oth'].div(df_results_2016['total'], axis=0).plot.box()\n",
    "\n",
    "    ax.spines['right'].set_visible(False)\n",
    "    ax.spines['top'].set_visible(False)\n",
    "    ax.grid(False)\n",
    "    ax.yaxis.set_ticks_position('none')\n",
    "    ax.xaxis.set_ticks_position('none')\n",
    "\n",
    "    ax.set_title('County Voting Results by Party')\n",
    "    ax.set_xlabel('Political Party Affiliation')\n",
    "    ax.set_ylabel('Percentage of Total Votes Collected')\n",
    "    \n",
    "    # Save the figure to the file\n",
    "    pdf.savefig()"
   ]
  },
  {
   "cell_type": "markdown",
   "metadata": {},
   "source": [
    "Note: There are some data points that are above one in the non-2016 election results. These points shouldn't exist."
   ]
  },
  {
   "cell_type": "markdown",
   "metadata": {
    "collapsed": true
   },
   "source": [
    "Question: Do democrats tend to win larger counties and republicans win the smaller (population-wise) counties, but more of them? "
   ]
  },
  {
   "cell_type": "markdown",
   "metadata": {},
   "source": [
    "Question: Do democrats tend to win more densely populated counties?"
   ]
  },
  {
   "cell_type": "code",
   "execution_count": 20,
   "metadata": {},
   "outputs": [
    {
     "name": "stderr",
     "output_type": "stream",
     "text": [
      "/Users/scott/anaconda/lib/python2.7/site-packages/ipykernel/__main__.py:1: SettingWithCopyWarning: \n",
      "A value is trying to be set on a copy of a slice from a DataFrame.\n",
      "Try using .loc[row_indexer,col_indexer] = value instead\n",
      "\n",
      "See the caveats in the documentation: http://pandas.pydata.org/pandas-docs/stable/indexing.html#indexing-view-versus-copy\n",
      "  if __name__ == '__main__':\n"
     ]
    }
   ],
   "source": [
    "df_results_2016['demo_win'] = df_results_2016['dem'] > df_results_2016['gop']"
   ]
  },
  {
   "cell_type": "code",
   "execution_count": 21,
   "metadata": {},
   "outputs": [
    {
     "data": {
      "text/html": [
       "<div>\n",
       "<style>\n",
       "    .dataframe thead tr:only-child th {\n",
       "        text-align: right;\n",
       "    }\n",
       "\n",
       "    .dataframe thead th {\n",
       "        text-align: left;\n",
       "    }\n",
       "\n",
       "    .dataframe tbody tr th {\n",
       "        vertical-align: top;\n",
       "    }\n",
       "</style>\n",
       "<table border=\"1\" class=\"dataframe\">\n",
       "  <thead>\n",
       "    <tr style=\"text-align: right;\">\n",
       "      <th></th>\n",
       "      <th>fips_code</th>\n",
       "      <th>county</th>\n",
       "      <th>Year</th>\n",
       "      <th>total</th>\n",
       "      <th>dem</th>\n",
       "      <th>gop</th>\n",
       "      <th>oth</th>\n",
       "      <th>demo_win</th>\n",
       "    </tr>\n",
       "  </thead>\n",
       "  <tbody>\n",
       "    <tr>\n",
       "      <th>2</th>\n",
       "      <td>1001</td>\n",
       "      <td>Autauga County</td>\n",
       "      <td>2016</td>\n",
       "      <td>24661</td>\n",
       "      <td>5908</td>\n",
       "      <td>18110</td>\n",
       "      <td>643</td>\n",
       "      <td>False</td>\n",
       "    </tr>\n",
       "    <tr>\n",
       "      <th>5</th>\n",
       "      <td>1003</td>\n",
       "      <td>Baldwin County</td>\n",
       "      <td>2016</td>\n",
       "      <td>94090</td>\n",
       "      <td>18409</td>\n",
       "      <td>72780</td>\n",
       "      <td>2901</td>\n",
       "      <td>False</td>\n",
       "    </tr>\n",
       "    <tr>\n",
       "      <th>8</th>\n",
       "      <td>1005</td>\n",
       "      <td>Barbour County</td>\n",
       "      <td>2016</td>\n",
       "      <td>10390</td>\n",
       "      <td>4848</td>\n",
       "      <td>5431</td>\n",
       "      <td>111</td>\n",
       "      <td>False</td>\n",
       "    </tr>\n",
       "    <tr>\n",
       "      <th>11</th>\n",
       "      <td>1007</td>\n",
       "      <td>Bibb County</td>\n",
       "      <td>2016</td>\n",
       "      <td>8748</td>\n",
       "      <td>1874</td>\n",
       "      <td>6733</td>\n",
       "      <td>141</td>\n",
       "      <td>False</td>\n",
       "    </tr>\n",
       "    <tr>\n",
       "      <th>14</th>\n",
       "      <td>1009</td>\n",
       "      <td>Blount County</td>\n",
       "      <td>2016</td>\n",
       "      <td>25384</td>\n",
       "      <td>2150</td>\n",
       "      <td>22808</td>\n",
       "      <td>426</td>\n",
       "      <td>False</td>\n",
       "    </tr>\n",
       "    <tr>\n",
       "      <th>17</th>\n",
       "      <td>1011</td>\n",
       "      <td>Bullock County</td>\n",
       "      <td>2016</td>\n",
       "      <td>4701</td>\n",
       "      <td>3530</td>\n",
       "      <td>1139</td>\n",
       "      <td>32</td>\n",
       "      <td>True</td>\n",
       "    </tr>\n",
       "    <tr>\n",
       "      <th>20</th>\n",
       "      <td>1013</td>\n",
       "      <td>Butler County</td>\n",
       "      <td>2016</td>\n",
       "      <td>8685</td>\n",
       "      <td>3716</td>\n",
       "      <td>4891</td>\n",
       "      <td>78</td>\n",
       "      <td>False</td>\n",
       "    </tr>\n",
       "    <tr>\n",
       "      <th>23</th>\n",
       "      <td>1015</td>\n",
       "      <td>Calhoun County</td>\n",
       "      <td>2016</td>\n",
       "      <td>47376</td>\n",
       "      <td>13197</td>\n",
       "      <td>32803</td>\n",
       "      <td>1376</td>\n",
       "      <td>False</td>\n",
       "    </tr>\n",
       "    <tr>\n",
       "      <th>26</th>\n",
       "      <td>1017</td>\n",
       "      <td>Chambers County</td>\n",
       "      <td>2016</td>\n",
       "      <td>13778</td>\n",
       "      <td>5763</td>\n",
       "      <td>7803</td>\n",
       "      <td>212</td>\n",
       "      <td>False</td>\n",
       "    </tr>\n",
       "    <tr>\n",
       "      <th>29</th>\n",
       "      <td>1019</td>\n",
       "      <td>Cherokee County</td>\n",
       "      <td>2016</td>\n",
       "      <td>10503</td>\n",
       "      <td>1524</td>\n",
       "      <td>8809</td>\n",
       "      <td>170</td>\n",
       "      <td>False</td>\n",
       "    </tr>\n",
       "  </tbody>\n",
       "</table>\n",
       "</div>"
      ],
      "text/plain": [
       "    fips_code           county  Year  total    dem    gop   oth  demo_win\n",
       "2        1001   Autauga County  2016  24661   5908  18110   643     False\n",
       "5        1003   Baldwin County  2016  94090  18409  72780  2901     False\n",
       "8        1005   Barbour County  2016  10390   4848   5431   111     False\n",
       "11       1007      Bibb County  2016   8748   1874   6733   141     False\n",
       "14       1009    Blount County  2016  25384   2150  22808   426     False\n",
       "17       1011   Bullock County  2016   4701   3530   1139    32      True\n",
       "20       1013    Butler County  2016   8685   3716   4891    78     False\n",
       "23       1015   Calhoun County  2016  47376  13197  32803  1376     False\n",
       "26       1017  Chambers County  2016  13778   5763   7803   212     False\n",
       "29       1019  Cherokee County  2016  10503   1524   8809   170     False"
      ]
     },
     "execution_count": 21,
     "metadata": {},
     "output_type": "execute_result"
    }
   ],
   "source": [
    "df_results_2016.head(10)"
   ]
  },
  {
   "cell_type": "code",
   "execution_count": 26,
   "metadata": {},
   "outputs": [
    {
     "data": {
      "text/plain": [
       "demo_win\n",
       "False    2625\n",
       "True      487\n",
       "dtype: int64"
      ]
     },
     "execution_count": 26,
     "metadata": {},
     "output_type": "execute_result"
    }
   ],
   "source": [
    "county_win_count = df_results_2016.groupby('demo_win').size()\n",
    "county_win_count"
   ]
  },
  {
   "cell_type": "code",
   "execution_count": 27,
   "metadata": {},
   "outputs": [
    {
     "data": {
      "text/plain": [
       "demo_win\n",
       "False     9684\n",
       "True     42523\n",
       "Name: total, dtype: int64"
      ]
     },
     "execution_count": 27,
     "metadata": {},
     "output_type": "execute_result"
    }
   ],
   "source": [
    "county_win_median = df_results_2016.groupby('demo_win')['total'].median()\n",
    "county_win_median"
   ]
  },
  {
   "cell_type": "code",
   "execution_count": 28,
   "metadata": {},
   "outputs": [
    {
     "data": {
      "text/plain": [
       "demo_win\n",
       "False    61286285\n",
       "True     65983042\n",
       "Name: total, dtype: int64"
      ]
     },
     "execution_count": 28,
     "metadata": {},
     "output_type": "execute_result"
    }
   ],
   "source": [
    "county_win_total = df_results_2016.groupby('demo_win')['total'].sum()\n",
    "county_win_total"
   ]
  },
  {
   "cell_type": "markdown",
   "metadata": {},
   "source": [
    "Question: What are the fields in this df_results dataframe? Do the counts refer to votes collected? Confirm this information."
   ]
  },
  {
   "cell_type": "code",
   "execution_count": 39,
   "metadata": {},
   "outputs": [
    {
     "data": {
      "image/png": "[encoded data removed]",
      "text/plain": [
       "<matplotlib.figure.Figure at 0x11a820590>"
      ]
     },
     "metadata": {},
     "output_type": "display_data"
    }
   ],
   "source": [
    "with PdfPages('size_num_counties_by_party.pdf') as pdf:\n",
    "    \n",
    "    f, ax = plt.subplots(1,2, sharey=True)\n",
    "\n",
    "    f.suptitle('Number and Size of Counties by Party')\n",
    "\n",
    "    county_win_count.plot(kind='barh',ax=ax[0])\n",
    "    county_win_median.plot(kind='barh',ax=ax[1])\n",
    "\n",
    "    ax[0].spines['right'].set_visible(False)\n",
    "    ax[0].spines['top'].set_visible(False)\n",
    "    ax[0].yaxis.set_ticks_position('none')\n",
    "    ax[0].xaxis.set_ticks_position('none')\n",
    "    ax[0].set_xlabel('Number of Counties')\n",
    "    ax[0].set_ylabel('Democrats Won County?')\n",
    "\n",
    "    ax[1].spines['right'].set_visible(False)\n",
    "    ax[1].spines['top'].set_visible(False)\n",
    "    ax[1].yaxis.set_ticks_position('none')\n",
    "    ax[1].xaxis.set_ticks_position('none')\n",
    "    ax[1].set_xlabel('Median County Size')\n",
    "    ax[1].set_ylabel('Democrats Won County?')\n",
    "    \n",
    "    # Save the figure to the file\n",
    "    pdf.savefig()"
   ]
  },
  {
   "cell_type": "markdown",
   "metadata": {},
   "source": [
    "##########"
   ]
  },
  {
   "cell_type": "code",
   "execution_count": null,
   "metadata": {
    "collapsed": true
   },
   "outputs": [],
   "source": [
    "df_results.select_dtypes(include=[np.number])"
   ]
  }
 ],
 "metadata": {
  "kernelspec": {
   "display_name": "Python [default]",
   "language": "python",
   "name": "python2"
  },
  "language_info": {
   "codemirror_mode": {
    "name": "ipython",
    "version": 2
   },
   "file_extension": ".py",
   "mimetype": "text/x-python",
   "name": "python",
   "nbconvert_exporter": "python",
   "pygments_lexer": "ipython2",
   "version": "2.7.13"
  }
 },
 "nbformat": 4,
 "nbformat_minor": 2
}
