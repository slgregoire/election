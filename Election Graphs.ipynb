{
 "cells": [
  {
   "cell_type": "markdown",
   "metadata": {},
   "source": [
    "## Exploring 2016 US Presidential Election Results and associated demographic data"
   ]
  },
  {
   "cell_type": "code",
   "execution_count": 1,
   "metadata": {
    "collapsed": true
   },
   "outputs": [],
   "source": [
    "%matplotlib inline"
   ]
  },
  {
   "cell_type": "code",
   "execution_count": 2,
   "metadata": {
    "collapsed": true
   },
   "outputs": [],
   "source": [
    "from __future__ import division\n",
    "import pandas as pd\n",
    "import numpy as np\n",
    "import matplotlib.pyplot as plt"
   ]
  },
  {
   "cell_type": "code",
   "execution_count": 3,
   "metadata": {
    "collapsed": true
   },
   "outputs": [],
   "source": [
    "from matplotlib.backends.backend_pdf import PdfPages"
   ]
  },
  {
   "cell_type": "code",
   "execution_count": 4,
   "metadata": {
    "collapsed": true
   },
   "outputs": [],
   "source": [
    "pd.options.display.max_columns = 100"
   ]
  },
  {
   "cell_type": "markdown",
   "metadata": {},
   "source": [
    "### Importing Data"
   ]
  },
  {
   "cell_type": "code",
   "execution_count": 5,
   "metadata": {
    "collapsed": true
   },
   "outputs": [],
   "source": [
    "file_results = \"US_County_Level_Presidential_Results_08-16.csv\"\n",
    "file_demo = \"data.csv\"\n",
    "file_acs = \"ACS_15_1YR_S0201/ACS_15_1YR_S0201_with_ann.csv\""
   ]
  },
  {
   "cell_type": "code",
   "execution_count": 6,
   "metadata": {},
   "outputs": [
    {
     "name": "stderr",
     "output_type": "stream",
     "text": [
      "/Users/scott/anaconda/lib/python2.7/site-packages/IPython/core/interactiveshell.py:2717: DtypeWarning: Columns (80,89,90,109,110,111,112,115,116,117,118,209,210,211,212,213,214,217,218,219,220,223,224,251,252,253,254,265,266,267,268,269,270,271,272,273,274,275,276,277,278,279,280,281,282,283,284,285,286,287,288,289,290,309,310,315,316,323,324,337,338,441,442,445,446,447,448,451,452,453,454,463,464,465,466,469,470,495,496,497,498,499,500,501,502,503,504,507,508,509,510,517,518,519,520,521,522,531,532,545,546,547,548,549,550,551,552,555,556,557,558,559,560,561,562,563,564,565,566,567,568,577,578,579,580,581,582,583,584,587,588,589,590,593,594,595,596,601,602,603,604) have mixed types. Specify dtype option on import or set low_memory=False.\n",
      "  interactivity=interactivity, compiler=compiler, result=result)\n"
     ]
    }
   ],
   "source": [
    "df_results = pd.read_csv(file_results)\n",
    "df_demo = pd.read_csv(file_demo)\n",
    "df_acs = pd.read_csv(file_acs)"
   ]
  },
  {
   "cell_type": "code",
   "execution_count": 7,
   "metadata": {},
   "outputs": [
    {
     "name": "stdout",
     "output_type": "stream",
     "text": [
      "<class 'pandas.core.frame.DataFrame'>\n",
      "RangeIndex: 9336 entries, 0 to 9335\n",
      "Data columns (total 7 columns):\n",
      "fips_code    9336 non-null int64\n",
      "county       9336 non-null object\n",
      "Year         9336 non-null int64\n",
      "total        9336 non-null int64\n",
      "dem          9336 non-null int64\n",
      "gop          9336 non-null int64\n",
      "oth          9336 non-null int64\n",
      "dtypes: int64(6), object(1)\n",
      "memory usage: 510.6+ KB\n"
     ]
    }
   ],
   "source": [
    "df_results.info()"
   ]
  },
  {
   "cell_type": "code",
   "execution_count": 8,
   "metadata": {},
   "outputs": [
    {
     "data": {
      "text/html": [
       "<div>\n",
       "<style>\n",
       "    .dataframe thead tr:only-child th {\n",
       "        text-align: right;\n",
       "    }\n",
       "\n",
       "    .dataframe thead th {\n",
       "        text-align: left;\n",
       "    }\n",
       "\n",
       "    .dataframe tbody tr th {\n",
       "        vertical-align: top;\n",
       "    }\n",
       "</style>\n",
       "<table border=\"1\" class=\"dataframe\">\n",
       "  <thead>\n",
       "    <tr style=\"text-align: right;\">\n",
       "      <th></th>\n",
       "      <th>fips_code</th>\n",
       "      <th>county</th>\n",
       "      <th>Year</th>\n",
       "      <th>total</th>\n",
       "      <th>dem</th>\n",
       "      <th>gop</th>\n",
       "      <th>oth</th>\n",
       "    </tr>\n",
       "  </thead>\n",
       "  <tbody>\n",
       "    <tr>\n",
       "      <th>0</th>\n",
       "      <td>1001</td>\n",
       "      <td>Autauga County</td>\n",
       "      <td>2008</td>\n",
       "      <td>23641</td>\n",
       "      <td>6093</td>\n",
       "      <td>17403</td>\n",
       "      <td>145</td>\n",
       "    </tr>\n",
       "    <tr>\n",
       "      <th>1</th>\n",
       "      <td>1001</td>\n",
       "      <td>Autauga County</td>\n",
       "      <td>2012</td>\n",
       "      <td>23909</td>\n",
       "      <td>6354</td>\n",
       "      <td>17366</td>\n",
       "      <td>189</td>\n",
       "    </tr>\n",
       "    <tr>\n",
       "      <th>2</th>\n",
       "      <td>1001</td>\n",
       "      <td>Autauga County</td>\n",
       "      <td>2016</td>\n",
       "      <td>24661</td>\n",
       "      <td>5908</td>\n",
       "      <td>18110</td>\n",
       "      <td>643</td>\n",
       "    </tr>\n",
       "    <tr>\n",
       "      <th>3</th>\n",
       "      <td>1003</td>\n",
       "      <td>Baldwin County</td>\n",
       "      <td>2008</td>\n",
       "      <td>81413</td>\n",
       "      <td>19386</td>\n",
       "      <td>61271</td>\n",
       "      <td>756</td>\n",
       "    </tr>\n",
       "    <tr>\n",
       "      <th>4</th>\n",
       "      <td>1003</td>\n",
       "      <td>Baldwin County</td>\n",
       "      <td>2012</td>\n",
       "      <td>84988</td>\n",
       "      <td>18329</td>\n",
       "      <td>65772</td>\n",
       "      <td>887</td>\n",
       "    </tr>\n",
       "  </tbody>\n",
       "</table>\n",
       "</div>"
      ],
      "text/plain": [
       "   fips_code          county  Year  total    dem    gop  oth\n",
       "0       1001  Autauga County  2008  23641   6093  17403  145\n",
       "1       1001  Autauga County  2012  23909   6354  17366  189\n",
       "2       1001  Autauga County  2016  24661   5908  18110  643\n",
       "3       1003  Baldwin County  2008  81413  19386  61271  756\n",
       "4       1003  Baldwin County  2012  84988  18329  65772  887"
      ]
     },
     "execution_count": 8,
     "metadata": {},
     "output_type": "execute_result"
    }
   ],
   "source": [
    "df_results.head(5)"
   ]
  },
  {
   "cell_type": "code",
   "execution_count": 9,
   "metadata": {},
   "outputs": [
    {
     "name": "stdout",
     "output_type": "stream",
     "text": [
      "<class 'pandas.core.frame.DataFrame'>\n",
      "RangeIndex: 2059 entries, 0 to 2058\n",
      "Columns: 621 entries, Id to Margin of Error; COMPUTERS AND INTERNET USE - Total households - With a broadband Internet subscription\n",
      "dtypes: float64(295), int64(115), object(211)\n",
      "memory usage: 9.8+ MB\n"
     ]
    }
   ],
   "source": [
    "df_acs.info()"
   ]
  },
  {
   "cell_type": "code",
   "execution_count": 10,
   "metadata": {},
   "outputs": [
    {
     "data": {
      "text/html": [
       "<div>\n",
       "<style>\n",
       "    .dataframe thead tr:only-child th {\n",
       "        text-align: right;\n",
       "    }\n",
       "\n",
       "    .dataframe thead th {\n",
       "        text-align: left;\n",
       "    }\n",
       "\n",
       "    .dataframe tbody tr th {\n",
       "        vertical-align: top;\n",
       "    }\n",
       "</style>\n",
       "<table border=\"1\" class=\"dataframe\">\n",
       "  <thead>\n",
       "    <tr style=\"text-align: right;\">\n",
       "      <th></th>\n",
       "      <th>Id</th>\n",
       "      <th>Id2</th>\n",
       "      <th>Geography</th>\n",
       "      <th>Id.1</th>\n",
       "      <th>Population Group</th>\n",
       "      <th>Estimate; TOTAL NUMBER OF RACES REPORTED - Total population</th>\n",
       "      <th>Margin of Error; TOTAL NUMBER OF RACES REPORTED - Total population</th>\n",
       "      <th>Estimate; TOTAL NUMBER OF RACES REPORTED - Total population - One race</th>\n",
       "      <th>Margin of Error; TOTAL NUMBER OF RACES REPORTED - Total population - One race</th>\n",
       "      <th>Estimate; TOTAL NUMBER OF RACES REPORTED - Total population - Two races</th>\n",
       "    </tr>\n",
       "  </thead>\n",
       "  <tbody>\n",
       "    <tr>\n",
       "      <th>0</th>\n",
       "      <td>0500000US01073</td>\n",
       "      <td>1073</td>\n",
       "      <td>Jefferson County, Alabama</td>\n",
       "      <td>1</td>\n",
       "      <td>Total population</td>\n",
       "      <td>660367</td>\n",
       "      <td>*****</td>\n",
       "      <td>98.8</td>\n",
       "      <td>0.3</td>\n",
       "      <td>1.1</td>\n",
       "    </tr>\n",
       "    <tr>\n",
       "      <th>1</th>\n",
       "      <td>0500000US01073</td>\n",
       "      <td>1073</td>\n",
       "      <td>Jefferson County, Alabama</td>\n",
       "      <td>2</td>\n",
       "      <td>White alone</td>\n",
       "      <td>345005</td>\n",
       "      <td>2469</td>\n",
       "      <td>100</td>\n",
       "      <td>0.1</td>\n",
       "      <td>(X)</td>\n",
       "    </tr>\n",
       "    <tr>\n",
       "      <th>2</th>\n",
       "      <td>0500000US01073</td>\n",
       "      <td>1073</td>\n",
       "      <td>Jefferson County, Alabama</td>\n",
       "      <td>3</td>\n",
       "      <td>White alone or in combination with one or more...</td>\n",
       "      <td>352319</td>\n",
       "      <td>2797</td>\n",
       "      <td>97.9</td>\n",
       "      <td>0.5</td>\n",
       "      <td>1.8</td>\n",
       "    </tr>\n",
       "    <tr>\n",
       "      <th>3</th>\n",
       "      <td>0500000US01073</td>\n",
       "      <td>1073</td>\n",
       "      <td>Jefferson County, Alabama</td>\n",
       "      <td>4</td>\n",
       "      <td>Black or African American alone</td>\n",
       "      <td>282511</td>\n",
       "      <td>2538</td>\n",
       "      <td>100</td>\n",
       "      <td>0.1</td>\n",
       "      <td>(X)</td>\n",
       "    </tr>\n",
       "    <tr>\n",
       "      <th>4</th>\n",
       "      <td>0500000US01073</td>\n",
       "      <td>1073</td>\n",
       "      <td>Jefferson County, Alabama</td>\n",
       "      <td>5</td>\n",
       "      <td>Black or African American alone or in combinat...</td>\n",
       "      <td>286250</td>\n",
       "      <td>2006</td>\n",
       "      <td>98.7</td>\n",
       "      <td>0.5</td>\n",
       "      <td>1</td>\n",
       "    </tr>\n",
       "  </tbody>\n",
       "</table>\n",
       "</div>"
      ],
      "text/plain": [
       "               Id   Id2                  Geography  Id.1  \\\n",
       "0  0500000US01073  1073  Jefferson County, Alabama     1   \n",
       "1  0500000US01073  1073  Jefferson County, Alabama     2   \n",
       "2  0500000US01073  1073  Jefferson County, Alabama     3   \n",
       "3  0500000US01073  1073  Jefferson County, Alabama     4   \n",
       "4  0500000US01073  1073  Jefferson County, Alabama     5   \n",
       "\n",
       "                                    Population Group  \\\n",
       "0                                   Total population   \n",
       "1                                        White alone   \n",
       "2  White alone or in combination with one or more...   \n",
       "3                    Black or African American alone   \n",
       "4  Black or African American alone or in combinat...   \n",
       "\n",
       "   Estimate; TOTAL NUMBER OF RACES REPORTED - Total population  \\\n",
       "0                                             660367             \n",
       "1                                             345005             \n",
       "2                                             352319             \n",
       "3                                             282511             \n",
       "4                                             286250             \n",
       "\n",
       "  Margin of Error; TOTAL NUMBER OF RACES REPORTED - Total population  \\\n",
       "0                                              *****                   \n",
       "1                                               2469                   \n",
       "2                                               2797                   \n",
       "3                                               2538                   \n",
       "4                                               2006                   \n",
       "\n",
       "  Estimate; TOTAL NUMBER OF RACES REPORTED - Total population - One race  \\\n",
       "0                                               98.8                       \n",
       "1                                                100                       \n",
       "2                                               97.9                       \n",
       "3                                                100                       \n",
       "4                                               98.7                       \n",
       "\n",
       "  Margin of Error; TOTAL NUMBER OF RACES REPORTED - Total population - One race  \\\n",
       "0                                                0.3                              \n",
       "1                                                0.1                              \n",
       "2                                                0.5                              \n",
       "3                                                0.1                              \n",
       "4                                                0.5                              \n",
       "\n",
       "  Estimate; TOTAL NUMBER OF RACES REPORTED - Total population - Two races  \n",
       "0                                                1.1                       \n",
       "1                                                (X)                       \n",
       "2                                                1.8                       \n",
       "3                                                (X)                       \n",
       "4                                                  1                       "
      ]
     },
     "execution_count": 10,
     "metadata": {},
     "output_type": "execute_result"
    }
   ],
   "source": [
    "df_acs.iloc[:5,:10]"
   ]
  },
  {
   "cell_type": "markdown",
   "metadata": {},
   "source": [
    "#### only looking at 2016 results"
   ]
  },
  {
   "cell_type": "code",
   "execution_count": 11,
   "metadata": {
    "collapsed": true
   },
   "outputs": [],
   "source": [
    "df_results_2016 = df_results[df_results['Year']==2016]"
   ]
  },
  {
   "cell_type": "code",
   "execution_count": 12,
   "metadata": {},
   "outputs": [
    {
     "name": "stdout",
     "output_type": "stream",
     "text": [
      "<class 'pandas.core.frame.DataFrame'>\n",
      "Int64Index: 3112 entries, 2 to 9335\n",
      "Data columns (total 7 columns):\n",
      "fips_code    3112 non-null int64\n",
      "county       3112 non-null object\n",
      "Year         3112 non-null int64\n",
      "total        3112 non-null int64\n",
      "dem          3112 non-null int64\n",
      "gop          3112 non-null int64\n",
      "oth          3112 non-null int64\n",
      "dtypes: int64(6), object(1)\n",
      "memory usage: 194.5+ KB\n"
     ]
    }
   ],
   "source": [
    "df_results_2016.info()"
   ]
  },
  {
   "cell_type": "code",
   "execution_count": 13,
   "metadata": {},
   "outputs": [
    {
     "data": {
      "text/html": [
       "<div>\n",
       "<style>\n",
       "    .dataframe thead tr:only-child th {\n",
       "        text-align: right;\n",
       "    }\n",
       "\n",
       "    .dataframe thead th {\n",
       "        text-align: left;\n",
       "    }\n",
       "\n",
       "    .dataframe tbody tr th {\n",
       "        vertical-align: top;\n",
       "    }\n",
       "</style>\n",
       "<table border=\"1\" class=\"dataframe\">\n",
       "  <thead>\n",
       "    <tr style=\"text-align: right;\">\n",
       "      <th></th>\n",
       "      <th>fips_code</th>\n",
       "      <th>county</th>\n",
       "      <th>Year</th>\n",
       "      <th>total</th>\n",
       "      <th>dem</th>\n",
       "      <th>gop</th>\n",
       "      <th>oth</th>\n",
       "    </tr>\n",
       "  </thead>\n",
       "  <tbody>\n",
       "    <tr>\n",
       "      <th>2</th>\n",
       "      <td>1001</td>\n",
       "      <td>Autauga County</td>\n",
       "      <td>2016</td>\n",
       "      <td>24661</td>\n",
       "      <td>5908</td>\n",
       "      <td>18110</td>\n",
       "      <td>643</td>\n",
       "    </tr>\n",
       "    <tr>\n",
       "      <th>5</th>\n",
       "      <td>1003</td>\n",
       "      <td>Baldwin County</td>\n",
       "      <td>2016</td>\n",
       "      <td>94090</td>\n",
       "      <td>18409</td>\n",
       "      <td>72780</td>\n",
       "      <td>2901</td>\n",
       "    </tr>\n",
       "    <tr>\n",
       "      <th>8</th>\n",
       "      <td>1005</td>\n",
       "      <td>Barbour County</td>\n",
       "      <td>2016</td>\n",
       "      <td>10390</td>\n",
       "      <td>4848</td>\n",
       "      <td>5431</td>\n",
       "      <td>111</td>\n",
       "    </tr>\n",
       "    <tr>\n",
       "      <th>11</th>\n",
       "      <td>1007</td>\n",
       "      <td>Bibb County</td>\n",
       "      <td>2016</td>\n",
       "      <td>8748</td>\n",
       "      <td>1874</td>\n",
       "      <td>6733</td>\n",
       "      <td>141</td>\n",
       "    </tr>\n",
       "    <tr>\n",
       "      <th>14</th>\n",
       "      <td>1009</td>\n",
       "      <td>Blount County</td>\n",
       "      <td>2016</td>\n",
       "      <td>25384</td>\n",
       "      <td>2150</td>\n",
       "      <td>22808</td>\n",
       "      <td>426</td>\n",
       "    </tr>\n",
       "  </tbody>\n",
       "</table>\n",
       "</div>"
      ],
      "text/plain": [
       "    fips_code          county  Year  total    dem    gop   oth\n",
       "2        1001  Autauga County  2016  24661   5908  18110   643\n",
       "5        1003  Baldwin County  2016  94090  18409  72780  2901\n",
       "8        1005  Barbour County  2016  10390   4848   5431   111\n",
       "11       1007     Bibb County  2016   8748   1874   6733   141\n",
       "14       1009   Blount County  2016  25384   2150  22808   426"
      ]
     },
     "execution_count": 13,
     "metadata": {},
     "output_type": "execute_result"
    }
   ],
   "source": [
    "df_results_2016.head()"
   ]
  },
  {
   "cell_type": "code",
   "execution_count": 14,
   "metadata": {},
   "outputs": [
    {
     "name": "stdout",
     "output_type": "stream",
     "text": [
      "<class 'pandas.core.frame.DataFrame'>\n",
      "RangeIndex: 3111 entries, 0 to 3110\n",
      "Data columns (total 38 columns):\n",
      "State                                3111 non-null object\n",
      "FIPS                                 3111 non-null int64\n",
      "County                               3111 non-null object\n",
      "election_result                      3111 non-null object\n",
      "% Some College                       3111 non-null float64\n",
      "% Smokers                            3111 non-null int64\n",
      "% Single-Parent Households           3111 non-null int64\n",
      "% Severe Housing Problems            3111 non-null int64\n",
      "% Receiving HbA1c                    3078 non-null float64\n",
      "% Physically Inactive                3111 non-null int64\n",
      "% Obese                              3111 non-null int64\n",
      "% Long Commute - Drives Alone        3111 non-null int64\n",
      "% LBW                                3022 non-null float64\n",
      "% Fair/Poor                          3111 non-null int64\n",
      "% Excessive Drinking                 3111 non-null int64\n",
      "% Drive Alone - White                2999 non-null float64\n",
      "% Drive Alone - Hispanic             1231 non-null float64\n",
      "% Drive Alone - Black                1146 non-null float64\n",
      "% Drive Alone                        3111 non-null int64\n",
      "% Children in Poverty - White        3040 non-null float64\n",
      "% Children in Poverty - Hispanic     2112 non-null float64\n",
      "% Children in Poverty - Black        1468 non-null float64\n",
      "% Children in Poverty                3111 non-null int64\n",
      "% Alcohol-Impaired                   3096 non-null float64\n",
      "% Mammography                        3021 non-null float64\n",
      "Graduation Rate                      2657 non-null float64\n",
      "Income Ratio                         3110 non-null float64\n",
      "Mentally Unhealthy Days              3111 non-null float64\n",
      "Physically Unhealthy Days            3111 non-null float64\n",
      "Preventable Hosp. Rate               3032 non-null float64\n",
      "Teen Birth Rate                      3008 non-null float64\n",
      "Violent Crime Rate                   2956 non-null float64\n",
      "Years of Potential Life Lost Rate    2940 non-null float64\n",
      "Chlamydia Rate                       2963 non-null float64\n",
      "Association Rate                     3111 non-null float64\n",
      "% unemployment                       3111 non-null float64\n",
      "% Uninsured                          3111 non-null int64\n",
      "% With Access                        3039 non-null float64\n",
      "dtypes: float64(23), int64(12), object(3)\n",
      "memory usage: 923.6+ KB\n"
     ]
    }
   ],
   "source": [
    "df_demo.info()"
   ]
  },
  {
   "cell_type": "code",
   "execution_count": 15,
   "metadata": {},
   "outputs": [
    {
     "data": {
      "text/html": [
       "<div>\n",
       "<style>\n",
       "    .dataframe thead tr:only-child th {\n",
       "        text-align: right;\n",
       "    }\n",
       "\n",
       "    .dataframe thead th {\n",
       "        text-align: left;\n",
       "    }\n",
       "\n",
       "    .dataframe tbody tr th {\n",
       "        vertical-align: top;\n",
       "    }\n",
       "</style>\n",
       "<table border=\"1\" class=\"dataframe\">\n",
       "  <thead>\n",
       "    <tr style=\"text-align: right;\">\n",
       "      <th></th>\n",
       "      <th>State</th>\n",
       "      <th>FIPS</th>\n",
       "      <th>County</th>\n",
       "      <th>election_result</th>\n",
       "      <th>% Some College</th>\n",
       "      <th>% Smokers</th>\n",
       "      <th>% Single-Parent Households</th>\n",
       "      <th>% Severe Housing Problems</th>\n",
       "      <th>% Receiving HbA1c</th>\n",
       "      <th>% Physically Inactive</th>\n",
       "      <th>% Obese</th>\n",
       "      <th>% Long Commute - Drives Alone</th>\n",
       "      <th>% LBW</th>\n",
       "      <th>% Fair/Poor</th>\n",
       "      <th>% Excessive Drinking</th>\n",
       "      <th>% Drive Alone - White</th>\n",
       "      <th>% Drive Alone - Hispanic</th>\n",
       "      <th>% Drive Alone - Black</th>\n",
       "      <th>% Drive Alone</th>\n",
       "      <th>% Children in Poverty - White</th>\n",
       "      <th>% Children in Poverty - Hispanic</th>\n",
       "      <th>% Children in Poverty - Black</th>\n",
       "      <th>% Children in Poverty</th>\n",
       "      <th>% Alcohol-Impaired</th>\n",
       "      <th>% Mammography</th>\n",
       "      <th>Graduation Rate</th>\n",
       "      <th>Income Ratio</th>\n",
       "      <th>Mentally Unhealthy Days</th>\n",
       "      <th>Physically Unhealthy Days</th>\n",
       "      <th>Preventable Hosp. Rate</th>\n",
       "      <th>Teen Birth Rate</th>\n",
       "      <th>Violent Crime Rate</th>\n",
       "      <th>Years of Potential Life Lost Rate</th>\n",
       "      <th>Chlamydia Rate</th>\n",
       "      <th>Association Rate</th>\n",
       "      <th>% unemployment</th>\n",
       "      <th>% Uninsured</th>\n",
       "      <th>% With Access</th>\n",
       "    </tr>\n",
       "  </thead>\n",
       "  <tbody>\n",
       "    <tr>\n",
       "      <th>0</th>\n",
       "      <td>Alabama</td>\n",
       "      <td>1001</td>\n",
       "      <td>Autauga</td>\n",
       "      <td>Trump</td>\n",
       "      <td>59.7</td>\n",
       "      <td>17</td>\n",
       "      <td>25</td>\n",
       "      <td>15</td>\n",
       "      <td>84.0</td>\n",
       "      <td>29</td>\n",
       "      <td>34</td>\n",
       "      <td>43</td>\n",
       "      <td>9.0</td>\n",
       "      <td>18</td>\n",
       "      <td>15</td>\n",
       "      <td>83.0</td>\n",
       "      <td>NaN</td>\n",
       "      <td>NaN</td>\n",
       "      <td>87</td>\n",
       "      <td>11.0</td>\n",
       "      <td>NaN</td>\n",
       "      <td>43.0</td>\n",
       "      <td>19</td>\n",
       "      <td>33.0</td>\n",
       "      <td>62.7</td>\n",
       "      <td>90.0</td>\n",
       "      <td>4.3</td>\n",
       "      <td>4.2</td>\n",
       "      <td>4.2</td>\n",
       "      <td>59.0</td>\n",
       "      <td>32.0</td>\n",
       "      <td>266.0</td>\n",
       "      <td>9158.0</td>\n",
       "      <td>398.0</td>\n",
       "      <td>13.7</td>\n",
       "      <td>0.052712</td>\n",
       "      <td>11</td>\n",
       "      <td>71.0</td>\n",
       "    </tr>\n",
       "    <tr>\n",
       "      <th>1</th>\n",
       "      <td>Alabama</td>\n",
       "      <td>1003</td>\n",
       "      <td>Baldwin</td>\n",
       "      <td>Trump</td>\n",
       "      <td>62.9</td>\n",
       "      <td>18</td>\n",
       "      <td>27</td>\n",
       "      <td>15</td>\n",
       "      <td>83.0</td>\n",
       "      <td>22</td>\n",
       "      <td>27</td>\n",
       "      <td>38</td>\n",
       "      <td>9.0</td>\n",
       "      <td>16</td>\n",
       "      <td>15</td>\n",
       "      <td>85.0</td>\n",
       "      <td>61.0</td>\n",
       "      <td>85.0</td>\n",
       "      <td>85</td>\n",
       "      <td>14.0</td>\n",
       "      <td>12.0</td>\n",
       "      <td>50.0</td>\n",
       "      <td>20</td>\n",
       "      <td>34.0</td>\n",
       "      <td>66.0</td>\n",
       "      <td>85.0</td>\n",
       "      <td>4.5</td>\n",
       "      <td>4.0</td>\n",
       "      <td>3.7</td>\n",
       "      <td>48.0</td>\n",
       "      <td>38.0</td>\n",
       "      <td>217.0</td>\n",
       "      <td>7394.0</td>\n",
       "      <td>341.0</td>\n",
       "      <td>11.5</td>\n",
       "      <td>0.054153</td>\n",
       "      <td>16</td>\n",
       "      <td>72.0</td>\n",
       "    </tr>\n",
       "    <tr>\n",
       "      <th>2</th>\n",
       "      <td>Alabama</td>\n",
       "      <td>1005</td>\n",
       "      <td>Barbour</td>\n",
       "      <td>Trump</td>\n",
       "      <td>39.3</td>\n",
       "      <td>23</td>\n",
       "      <td>56</td>\n",
       "      <td>16</td>\n",
       "      <td>89.0</td>\n",
       "      <td>32</td>\n",
       "      <td>44</td>\n",
       "      <td>36</td>\n",
       "      <td>12.0</td>\n",
       "      <td>25</td>\n",
       "      <td>12</td>\n",
       "      <td>NaN</td>\n",
       "      <td>NaN</td>\n",
       "      <td>82.0</td>\n",
       "      <td>84</td>\n",
       "      <td>12.0</td>\n",
       "      <td>52.0</td>\n",
       "      <td>69.0</td>\n",
       "      <td>45</td>\n",
       "      <td>38.0</td>\n",
       "      <td>63.0</td>\n",
       "      <td>86.0</td>\n",
       "      <td>5.6</td>\n",
       "      <td>4.8</td>\n",
       "      <td>4.8</td>\n",
       "      <td>74.0</td>\n",
       "      <td>59.0</td>\n",
       "      <td>329.0</td>\n",
       "      <td>8573.0</td>\n",
       "      <td>613.0</td>\n",
       "      <td>8.2</td>\n",
       "      <td>0.086485</td>\n",
       "      <td>15</td>\n",
       "      <td>45.0</td>\n",
       "    </tr>\n",
       "    <tr>\n",
       "      <th>3</th>\n",
       "      <td>Alabama</td>\n",
       "      <td>1007</td>\n",
       "      <td>Bibb</td>\n",
       "      <td>Trump</td>\n",
       "      <td>50.2</td>\n",
       "      <td>20</td>\n",
       "      <td>30</td>\n",
       "      <td>14</td>\n",
       "      <td>82.0</td>\n",
       "      <td>34</td>\n",
       "      <td>40</td>\n",
       "      <td>47</td>\n",
       "      <td>12.0</td>\n",
       "      <td>20</td>\n",
       "      <td>14</td>\n",
       "      <td>88.0</td>\n",
       "      <td>NaN</td>\n",
       "      <td>NaN</td>\n",
       "      <td>83</td>\n",
       "      <td>18.0</td>\n",
       "      <td>NaN</td>\n",
       "      <td>61.0</td>\n",
       "      <td>29</td>\n",
       "      <td>33.0</td>\n",
       "      <td>61.3</td>\n",
       "      <td>85.0</td>\n",
       "      <td>4.3</td>\n",
       "      <td>4.4</td>\n",
       "      <td>4.4</td>\n",
       "      <td>77.0</td>\n",
       "      <td>47.0</td>\n",
       "      <td>147.0</td>\n",
       "      <td>11766.0</td>\n",
       "      <td>444.0</td>\n",
       "      <td>10.2</td>\n",
       "      <td>0.066371</td>\n",
       "      <td>14</td>\n",
       "      <td>33.0</td>\n",
       "    </tr>\n",
       "    <tr>\n",
       "      <th>4</th>\n",
       "      <td>Alabama</td>\n",
       "      <td>1009</td>\n",
       "      <td>Blount</td>\n",
       "      <td>Trump</td>\n",
       "      <td>51.2</td>\n",
       "      <td>21</td>\n",
       "      <td>27</td>\n",
       "      <td>12</td>\n",
       "      <td>88.0</td>\n",
       "      <td>28</td>\n",
       "      <td>35</td>\n",
       "      <td>60</td>\n",
       "      <td>7.0</td>\n",
       "      <td>19</td>\n",
       "      <td>14</td>\n",
       "      <td>82.0</td>\n",
       "      <td>73.0</td>\n",
       "      <td>NaN</td>\n",
       "      <td>85</td>\n",
       "      <td>21.0</td>\n",
       "      <td>57.0</td>\n",
       "      <td>20.0</td>\n",
       "      <td>22</td>\n",
       "      <td>20.0</td>\n",
       "      <td>59.6</td>\n",
       "      <td>91.0</td>\n",
       "      <td>4.0</td>\n",
       "      <td>4.5</td>\n",
       "      <td>4.5</td>\n",
       "      <td>63.0</td>\n",
       "      <td>43.0</td>\n",
       "      <td>212.0</td>\n",
       "      <td>9333.0</td>\n",
       "      <td>124.0</td>\n",
       "      <td>8.5</td>\n",
       "      <td>0.055209</td>\n",
       "      <td>16</td>\n",
       "      <td>26.0</td>\n",
       "    </tr>\n",
       "  </tbody>\n",
       "</table>\n",
       "</div>"
      ],
      "text/plain": [
       "     State  FIPS   County election_result  % Some College  % Smokers  \\\n",
       "0  Alabama  1001  Autauga           Trump            59.7         17   \n",
       "1  Alabama  1003  Baldwin           Trump            62.9         18   \n",
       "2  Alabama  1005  Barbour           Trump            39.3         23   \n",
       "3  Alabama  1007     Bibb           Trump            50.2         20   \n",
       "4  Alabama  1009   Blount           Trump            51.2         21   \n",
       "\n",
       "   % Single-Parent Households  % Severe Housing Problems  % Receiving HbA1c  \\\n",
       "0                          25                         15               84.0   \n",
       "1                          27                         15               83.0   \n",
       "2                          56                         16               89.0   \n",
       "3                          30                         14               82.0   \n",
       "4                          27                         12               88.0   \n",
       "\n",
       "   % Physically Inactive  % Obese  % Long Commute - Drives Alone  % LBW  \\\n",
       "0                     29       34                             43    9.0   \n",
       "1                     22       27                             38    9.0   \n",
       "2                     32       44                             36   12.0   \n",
       "3                     34       40                             47   12.0   \n",
       "4                     28       35                             60    7.0   \n",
       "\n",
       "   % Fair/Poor  % Excessive Drinking  % Drive Alone - White  \\\n",
       "0           18                    15                   83.0   \n",
       "1           16                    15                   85.0   \n",
       "2           25                    12                    NaN   \n",
       "3           20                    14                   88.0   \n",
       "4           19                    14                   82.0   \n",
       "\n",
       "   % Drive Alone - Hispanic  % Drive Alone - Black  % Drive Alone  \\\n",
       "0                       NaN                    NaN             87   \n",
       "1                      61.0                   85.0             85   \n",
       "2                       NaN                   82.0             84   \n",
       "3                       NaN                    NaN             83   \n",
       "4                      73.0                    NaN             85   \n",
       "\n",
       "   % Children in Poverty - White  % Children in Poverty - Hispanic  \\\n",
       "0                           11.0                               NaN   \n",
       "1                           14.0                              12.0   \n",
       "2                           12.0                              52.0   \n",
       "3                           18.0                               NaN   \n",
       "4                           21.0                              57.0   \n",
       "\n",
       "   % Children in Poverty - Black  % Children in Poverty  % Alcohol-Impaired  \\\n",
       "0                           43.0                     19                33.0   \n",
       "1                           50.0                     20                34.0   \n",
       "2                           69.0                     45                38.0   \n",
       "3                           61.0                     29                33.0   \n",
       "4                           20.0                     22                20.0   \n",
       "\n",
       "   % Mammography  Graduation Rate  Income Ratio  Mentally Unhealthy Days  \\\n",
       "0           62.7             90.0           4.3                      4.2   \n",
       "1           66.0             85.0           4.5                      4.0   \n",
       "2           63.0             86.0           5.6                      4.8   \n",
       "3           61.3             85.0           4.3                      4.4   \n",
       "4           59.6             91.0           4.0                      4.5   \n",
       "\n",
       "   Physically Unhealthy Days  Preventable Hosp. Rate  Teen Birth Rate  \\\n",
       "0                        4.2                    59.0             32.0   \n",
       "1                        3.7                    48.0             38.0   \n",
       "2                        4.8                    74.0             59.0   \n",
       "3                        4.4                    77.0             47.0   \n",
       "4                        4.5                    63.0             43.0   \n",
       "\n",
       "   Violent Crime Rate  Years of Potential Life Lost Rate  Chlamydia Rate  \\\n",
       "0               266.0                             9158.0           398.0   \n",
       "1               217.0                             7394.0           341.0   \n",
       "2               329.0                             8573.0           613.0   \n",
       "3               147.0                            11766.0           444.0   \n",
       "4               212.0                             9333.0           124.0   \n",
       "\n",
       "   Association Rate  % unemployment  % Uninsured  % With Access  \n",
       "0              13.7        0.052712           11           71.0  \n",
       "1              11.5        0.054153           16           72.0  \n",
       "2               8.2        0.086485           15           45.0  \n",
       "3              10.2        0.066371           14           33.0  \n",
       "4               8.5        0.055209           16           26.0  "
      ]
     },
     "execution_count": 15,
     "metadata": {},
     "output_type": "execute_result"
    }
   ],
   "source": [
    "df_demo.head(5)"
   ]
  },
  {
   "cell_type": "markdown",
   "metadata": {},
   "source": [
    "### Plotting Data"
   ]
  },
  {
   "cell_type": "markdown",
   "metadata": {},
   "source": [
    "####  County Voting Results by Party "
   ]
  },
  {
   "cell_type": "code",
   "execution_count": 16,
   "metadata": {},
   "outputs": [
    {
     "data": {
      "text/plain": [
       "<matplotlib.text.Text at 0x11afb3c90>"
      ]
     },
     "execution_count": 16,
     "metadata": {},
     "output_type": "execute_result"
    },
    {
     "data": {
      "image/png": "[encoded data removed]",
      "text/plain": [
       "<matplotlib.figure.Figure at 0x11afada50>"
      ]
     },
     "metadata": {},
     "output_type": "display_data"
    }
   ],
   "source": [
    "fig = plt.figure()\n",
    "ax = df_results_2016.loc[:,'dem':].boxplot()\n",
    "\n",
    "ax.spines['right'].set_visible(False)\n",
    "ax.spines['top'].set_visible(False)\n",
    "ax.grid(False)\n",
    "ax.yaxis.set_ticks_position('none')\n",
    "ax.xaxis.set_ticks_position('none')\n",
    "\n",
    "ax.set_title('County Voting Results by Party')\n",
    "ax.set_xlabel('Political Party Affiliation')\n",
    "ax.set_ylabel('Vote Count')"
   ]
  },
  {
   "cell_type": "code",
   "execution_count": 17,
   "metadata": {},
   "outputs": [
    {
     "data": {
      "text/plain": [
       "<matplotlib.figure.Figure at 0x11b81ecd0>"
      ]
     },
     "metadata": {},
     "output_type": "display_data"
    },
    {
     "data": {
      "image/png": "[encoded data removed]",
      "text/plain": [
       "<matplotlib.figure.Figure at 0x11b755fd0>"
      ]
     },
     "metadata": {},
     "output_type": "display_data"
    }
   ],
   "source": [
    "with PdfPages('county_results_by_party.pdf') as pdf:\n",
    "    \n",
    "    fig = plt.figure()\n",
    "    ax = df_results_2016.loc[:,'dem':'oth'].div(df_results_2016['total'], axis=0).plot.box()\n",
    "\n",
    "    ax.spines['right'].set_visible(False)\n",
    "    ax.spines['top'].set_visible(False)\n",
    "    ax.grid(False)\n",
    "    ax.yaxis.set_ticks_position('none')\n",
    "    ax.xaxis.set_ticks_position('none')\n",
    "\n",
    "    ax.set_title('County Voting Results by Party')\n",
    "    ax.set_xlabel('Political Party Affiliation')\n",
    "    ax.set_ylabel('Percentage of Total Votes Collected')\n",
    "    \n",
    "    # Save the figure to the file\n",
    "    pdf.savefig()"
   ]
  },
  {
   "cell_type": "markdown",
   "metadata": {},
   "source": [
    "Note: There are some data points that are above one in the non-2016 election results. These points shouldn't exist."
   ]
  },
  {
   "cell_type": "markdown",
   "metadata": {
    "collapsed": true
   },
   "source": [
    "Question: Do democrats tend to win larger counties and republicans win the smaller (population-wise) counties, but more of them? "
   ]
  },
  {
   "cell_type": "markdown",
   "metadata": {},
   "source": [
    "Question: Do democrats tend to win more densely populated counties?"
   ]
  },
  {
   "cell_type": "code",
   "execution_count": 18,
   "metadata": {},
   "outputs": [
    {
     "name": "stderr",
     "output_type": "stream",
     "text": [
      "/Users/scott/anaconda/lib/python2.7/site-packages/ipykernel/__main__.py:1: SettingWithCopyWarning: \n",
      "A value is trying to be set on a copy of a slice from a DataFrame.\n",
      "Try using .loc[row_indexer,col_indexer] = value instead\n",
      "\n",
      "See the caveats in the documentation: http://pandas.pydata.org/pandas-docs/stable/indexing.html#indexing-view-versus-copy\n",
      "  if __name__ == '__main__':\n"
     ]
    }
   ],
   "source": [
    "df_results_2016['demo_win'] = df_results_2016['dem'] > df_results_2016['gop']"
   ]
  },
  {
   "cell_type": "code",
   "execution_count": 19,
   "metadata": {},
   "outputs": [
    {
     "data": {
      "text/html": [
       "<div>\n",
       "<style>\n",
       "    .dataframe thead tr:only-child th {\n",
       "        text-align: right;\n",
       "    }\n",
       "\n",
       "    .dataframe thead th {\n",
       "        text-align: left;\n",
       "    }\n",
       "\n",
       "    .dataframe tbody tr th {\n",
       "        vertical-align: top;\n",
       "    }\n",
       "</style>\n",
       "<table border=\"1\" class=\"dataframe\">\n",
       "  <thead>\n",
       "    <tr style=\"text-align: right;\">\n",
       "      <th></th>\n",
       "      <th>fips_code</th>\n",
       "      <th>county</th>\n",
       "      <th>Year</th>\n",
       "      <th>total</th>\n",
       "      <th>dem</th>\n",
       "      <th>gop</th>\n",
       "      <th>oth</th>\n",
       "      <th>demo_win</th>\n",
       "    </tr>\n",
       "  </thead>\n",
       "  <tbody>\n",
       "    <tr>\n",
       "      <th>2</th>\n",
       "      <td>1001</td>\n",
       "      <td>Autauga County</td>\n",
       "      <td>2016</td>\n",
       "      <td>24661</td>\n",
       "      <td>5908</td>\n",
       "      <td>18110</td>\n",
       "      <td>643</td>\n",
       "      <td>False</td>\n",
       "    </tr>\n",
       "    <tr>\n",
       "      <th>5</th>\n",
       "      <td>1003</td>\n",
       "      <td>Baldwin County</td>\n",
       "      <td>2016</td>\n",
       "      <td>94090</td>\n",
       "      <td>18409</td>\n",
       "      <td>72780</td>\n",
       "      <td>2901</td>\n",
       "      <td>False</td>\n",
       "    </tr>\n",
       "    <tr>\n",
       "      <th>8</th>\n",
       "      <td>1005</td>\n",
       "      <td>Barbour County</td>\n",
       "      <td>2016</td>\n",
       "      <td>10390</td>\n",
       "      <td>4848</td>\n",
       "      <td>5431</td>\n",
       "      <td>111</td>\n",
       "      <td>False</td>\n",
       "    </tr>\n",
       "    <tr>\n",
       "      <th>11</th>\n",
       "      <td>1007</td>\n",
       "      <td>Bibb County</td>\n",
       "      <td>2016</td>\n",
       "      <td>8748</td>\n",
       "      <td>1874</td>\n",
       "      <td>6733</td>\n",
       "      <td>141</td>\n",
       "      <td>False</td>\n",
       "    </tr>\n",
       "    <tr>\n",
       "      <th>14</th>\n",
       "      <td>1009</td>\n",
       "      <td>Blount County</td>\n",
       "      <td>2016</td>\n",
       "      <td>25384</td>\n",
       "      <td>2150</td>\n",
       "      <td>22808</td>\n",
       "      <td>426</td>\n",
       "      <td>False</td>\n",
       "    </tr>\n",
       "    <tr>\n",
       "      <th>17</th>\n",
       "      <td>1011</td>\n",
       "      <td>Bullock County</td>\n",
       "      <td>2016</td>\n",
       "      <td>4701</td>\n",
       "      <td>3530</td>\n",
       "      <td>1139</td>\n",
       "      <td>32</td>\n",
       "      <td>True</td>\n",
       "    </tr>\n",
       "    <tr>\n",
       "      <th>20</th>\n",
       "      <td>1013</td>\n",
       "      <td>Butler County</td>\n",
       "      <td>2016</td>\n",
       "      <td>8685</td>\n",
       "      <td>3716</td>\n",
       "      <td>4891</td>\n",
       "      <td>78</td>\n",
       "      <td>False</td>\n",
       "    </tr>\n",
       "    <tr>\n",
       "      <th>23</th>\n",
       "      <td>1015</td>\n",
       "      <td>Calhoun County</td>\n",
       "      <td>2016</td>\n",
       "      <td>47376</td>\n",
       "      <td>13197</td>\n",
       "      <td>32803</td>\n",
       "      <td>1376</td>\n",
       "      <td>False</td>\n",
       "    </tr>\n",
       "    <tr>\n",
       "      <th>26</th>\n",
       "      <td>1017</td>\n",
       "      <td>Chambers County</td>\n",
       "      <td>2016</td>\n",
       "      <td>13778</td>\n",
       "      <td>5763</td>\n",
       "      <td>7803</td>\n",
       "      <td>212</td>\n",
       "      <td>False</td>\n",
       "    </tr>\n",
       "    <tr>\n",
       "      <th>29</th>\n",
       "      <td>1019</td>\n",
       "      <td>Cherokee County</td>\n",
       "      <td>2016</td>\n",
       "      <td>10503</td>\n",
       "      <td>1524</td>\n",
       "      <td>8809</td>\n",
       "      <td>170</td>\n",
       "      <td>False</td>\n",
       "    </tr>\n",
       "  </tbody>\n",
       "</table>\n",
       "</div>"
      ],
      "text/plain": [
       "    fips_code           county  Year  total    dem    gop   oth  demo_win\n",
       "2        1001   Autauga County  2016  24661   5908  18110   643     False\n",
       "5        1003   Baldwin County  2016  94090  18409  72780  2901     False\n",
       "8        1005   Barbour County  2016  10390   4848   5431   111     False\n",
       "11       1007      Bibb County  2016   8748   1874   6733   141     False\n",
       "14       1009    Blount County  2016  25384   2150  22808   426     False\n",
       "17       1011   Bullock County  2016   4701   3530   1139    32      True\n",
       "20       1013    Butler County  2016   8685   3716   4891    78     False\n",
       "23       1015   Calhoun County  2016  47376  13197  32803  1376     False\n",
       "26       1017  Chambers County  2016  13778   5763   7803   212     False\n",
       "29       1019  Cherokee County  2016  10503   1524   8809   170     False"
      ]
     },
     "execution_count": 19,
     "metadata": {},
     "output_type": "execute_result"
    }
   ],
   "source": [
    "df_results_2016.head(10)"
   ]
  },
  {
   "cell_type": "code",
   "execution_count": 20,
   "metadata": {},
   "outputs": [
    {
     "data": {
      "text/plain": [
       "demo_win\n",
       "False    2625\n",
       "True      487\n",
       "dtype: int64"
      ]
     },
     "execution_count": 20,
     "metadata": {},
     "output_type": "execute_result"
    }
   ],
   "source": [
    "county_win_count = df_results_2016.groupby('demo_win').size()\n",
    "county_win_count"
   ]
  },
  {
   "cell_type": "code",
   "execution_count": 21,
   "metadata": {},
   "outputs": [
    {
     "data": {
      "text/plain": [
       "demo_win\n",
       "False     9684\n",
       "True     42523\n",
       "Name: total, dtype: int64"
      ]
     },
     "execution_count": 21,
     "metadata": {},
     "output_type": "execute_result"
    }
   ],
   "source": [
    "county_win_median = df_results_2016.groupby('demo_win')['total'].median()\n",
    "county_win_median"
   ]
  },
  {
   "cell_type": "code",
   "execution_count": 22,
   "metadata": {},
   "outputs": [
    {
     "data": {
      "text/plain": [
       "demo_win\n",
       "False    61286285\n",
       "True     65983042\n",
       "Name: total, dtype: int64"
      ]
     },
     "execution_count": 22,
     "metadata": {},
     "output_type": "execute_result"
    }
   ],
   "source": [
    "county_win_total = df_results_2016.groupby('demo_win')['total'].sum()\n",
    "county_win_total"
   ]
  },
  {
   "cell_type": "markdown",
   "metadata": {},
   "source": [
    "Question: What are the fields in this df_results dataframe? Do the counts refer to votes collected? Confirm this information."
   ]
  },
  {
   "cell_type": "code",
   "execution_count": 23,
   "metadata": {},
   "outputs": [
    {
     "data": {
      "image/png": "[encoded data removed]",
      "text/plain": [
       "<matplotlib.figure.Figure at 0x11b8044d0>"
      ]
     },
     "metadata": {},
     "output_type": "display_data"
    }
   ],
   "source": [
    "with PdfPages('size_num_counties_by_party.pdf') as pdf:\n",
    "    \n",
    "    f, ax = plt.subplots(1,2, sharey=True)\n",
    "\n",
    "    f.suptitle('Number and Size of Counties by Party')\n",
    "\n",
    "    county_win_count.plot(kind='barh',ax=ax[0])\n",
    "    county_win_median.plot(kind='barh',ax=ax[1])\n",
    "\n",
    "    ax[0].spines['right'].set_visible(False)\n",
    "    ax[0].spines['top'].set_visible(False)\n",
    "    ax[0].yaxis.set_ticks_position('none')\n",
    "    ax[0].xaxis.set_ticks_position('none')\n",
    "    ax[0].set_xlabel('Number of Counties')\n",
    "    ax[0].set_ylabel('Democrats Won County?')\n",
    "\n",
    "    ax[1].spines['right'].set_visible(False)\n",
    "    ax[1].spines['top'].set_visible(False)\n",
    "    ax[1].yaxis.set_ticks_position('none')\n",
    "    ax[1].xaxis.set_ticks_position('none')\n",
    "    ax[1].set_xlabel('Median County Size')\n",
    "    ax[1].set_ylabel('Democrats Won County?')\n",
    "    \n",
    "    # Save the figure to the file\n",
    "    pdf.savefig()"
   ]
  },
  {
   "cell_type": "markdown",
   "metadata": {
    "collapsed": true
   },
   "source": [
    "#### Looking at Foreign Born Population"
   ]
  },
  {
   "cell_type": "code",
   "execution_count": 24,
   "metadata": {},
   "outputs": [
    {
     "data": {
      "text/html": [
       "<div>\n",
       "<style>\n",
       "    .dataframe thead tr:only-child th {\n",
       "        text-align: right;\n",
       "    }\n",
       "\n",
       "    .dataframe thead th {\n",
       "        text-align: left;\n",
       "    }\n",
       "\n",
       "    .dataframe tbody tr th {\n",
       "        vertical-align: top;\n",
       "    }\n",
       "</style>\n",
       "<table border=\"1\" class=\"dataframe\">\n",
       "  <thead>\n",
       "    <tr style=\"text-align: right;\">\n",
       "      <th></th>\n",
       "      <th>Id2</th>\n",
       "      <th>Geography</th>\n",
       "      <th>Foreign Born Population</th>\n",
       "    </tr>\n",
       "  </thead>\n",
       "  <tbody>\n",
       "    <tr>\n",
       "      <th>40</th>\n",
       "      <td>4013</td>\n",
       "      <td>Maricopa County, Arizona</td>\n",
       "      <td>612293</td>\n",
       "    </tr>\n",
       "    <tr>\n",
       "      <th>51</th>\n",
       "      <td>4019</td>\n",
       "      <td>Pima County, Arizona</td>\n",
       "      <td>133490</td>\n",
       "    </tr>\n",
       "    <tr>\n",
       "      <th>84</th>\n",
       "      <td>6001</td>\n",
       "      <td>Alameda County, California</td>\n",
       "      <td>526148</td>\n",
       "    </tr>\n",
       "    <tr>\n",
       "      <th>106</th>\n",
       "      <td>6013</td>\n",
       "      <td>Contra Costa County, California</td>\n",
       "      <td>289652</td>\n",
       "    </tr>\n",
       "    <tr>\n",
       "      <th>121</th>\n",
       "      <td>6019</td>\n",
       "      <td>Fresno County, California</td>\n",
       "      <td>209492</td>\n",
       "    </tr>\n",
       "  </tbody>\n",
       "</table>\n",
       "</div>"
      ],
      "text/plain": [
       "      Id2                        Geography  Foreign Born Population\n",
       "40   4013         Maricopa County, Arizona                   612293\n",
       "51   4019             Pima County, Arizona                   133490\n",
       "84   6001       Alameda County, California                   526148\n",
       "106  6013  Contra Costa County, California                   289652\n",
       "121  6019        Fresno County, California                   209492"
      ]
     },
     "execution_count": 24,
     "metadata": {},
     "output_type": "execute_result"
    }
   ],
   "source": [
    "foreign_born = df_acs['Id.1'] == 601\n",
    "df_acs_foreign_born = df_acs[foreign_born]\n",
    "df_acs_foreign_born = df_acs_foreign_born.loc[:,:'Estimate; TOTAL NUMBER OF RACES REPORTED - Total population']\n",
    "df_acs_foreign_born = df_acs_foreign_born.rename(columns={'Estimate; TOTAL NUMBER OF RACES REPORTED - Total population':'Foreign Born Population'})\n",
    "df_acs_foreign_born = df_acs_foreign_born.drop(['Population Group', 'Id','Id.1'], axis=1)\n",
    "df_acs_foreign_born.head()"
   ]
  },
  {
   "cell_type": "code",
   "execution_count": 25,
   "metadata": {},
   "outputs": [
    {
     "data": {
      "text/html": [
       "<div>\n",
       "<style>\n",
       "    .dataframe thead tr:only-child th {\n",
       "        text-align: right;\n",
       "    }\n",
       "\n",
       "    .dataframe thead th {\n",
       "        text-align: left;\n",
       "    }\n",
       "\n",
       "    .dataframe tbody tr th {\n",
       "        vertical-align: top;\n",
       "    }\n",
       "</style>\n",
       "<table border=\"1\" class=\"dataframe\">\n",
       "  <thead>\n",
       "    <tr style=\"text-align: right;\">\n",
       "      <th></th>\n",
       "      <th>Id2</th>\n",
       "      <th>Geography</th>\n",
       "      <th>Total Population</th>\n",
       "    </tr>\n",
       "  </thead>\n",
       "  <tbody>\n",
       "    <tr>\n",
       "      <th>0</th>\n",
       "      <td>1073</td>\n",
       "      <td>Jefferson County, Alabama</td>\n",
       "      <td>660367</td>\n",
       "    </tr>\n",
       "    <tr>\n",
       "      <th>10</th>\n",
       "      <td>4013</td>\n",
       "      <td>Maricopa County, Arizona</td>\n",
       "      <td>4167947</td>\n",
       "    </tr>\n",
       "    <tr>\n",
       "      <th>41</th>\n",
       "      <td>4019</td>\n",
       "      <td>Pima County, Arizona</td>\n",
       "      <td>1010025</td>\n",
       "    </tr>\n",
       "    <tr>\n",
       "      <th>52</th>\n",
       "      <td>6001</td>\n",
       "      <td>Alameda County, California</td>\n",
       "      <td>1638215</td>\n",
       "    </tr>\n",
       "    <tr>\n",
       "      <th>85</th>\n",
       "      <td>6013</td>\n",
       "      <td>Contra Costa County, California</td>\n",
       "      <td>1126745</td>\n",
       "    </tr>\n",
       "  </tbody>\n",
       "</table>\n",
       "</div>"
      ],
      "text/plain": [
       "     Id2                        Geography  Total Population\n",
       "0   1073        Jefferson County, Alabama            660367\n",
       "10  4013         Maricopa County, Arizona           4167947\n",
       "41  4019             Pima County, Arizona           1010025\n",
       "52  6001       Alameda County, California           1638215\n",
       "85  6013  Contra Costa County, California           1126745"
      ]
     },
     "execution_count": 25,
     "metadata": {},
     "output_type": "execute_result"
    }
   ],
   "source": [
    "total_pop = df_acs['Id.1'] == 1\n",
    "df_acs_total = df_acs[total_pop]\n",
    "df_acs_total = df_acs_total.loc[:,:'Estimate; TOTAL NUMBER OF RACES REPORTED - Total population']\n",
    "df_acs_total = df_acs_total.rename(columns={'Estimate; TOTAL NUMBER OF RACES REPORTED - Total population':'Total Population'})\n",
    "df_acs_total = df_acs_total.drop(['Population Group', 'Id','Id.1'], axis=1)\n",
    "df_acs_total.head()"
   ]
  },
  {
   "cell_type": "code",
   "execution_count": 26,
   "metadata": {
    "scrolled": false
   },
   "outputs": [
    {
     "name": "stdout",
     "output_type": "stream",
     "text": [
      "<class 'pandas.core.frame.DataFrame'>\n",
      "Int64Index: 106 entries, 0 to 105\n",
      "Data columns (total 43 columns):\n",
      "Id2                                  106 non-null int64\n",
      "Geography                            106 non-null object\n",
      "Foreign Born Population              106 non-null int64\n",
      "Total Population                     106 non-null int64\n",
      "Foreign Born Population %            106 non-null float64\n",
      "State                                106 non-null object\n",
      "FIPS                                 106 non-null int64\n",
      "County                               106 non-null object\n",
      "election_result                      106 non-null object\n",
      "% Some College                       106 non-null float64\n",
      "% Smokers                            106 non-null int64\n",
      "% Single-Parent Households           106 non-null int64\n",
      "% Severe Housing Problems            106 non-null int64\n",
      "% Receiving HbA1c                    106 non-null float64\n",
      "% Physically Inactive                106 non-null int64\n",
      "% Obese                              106 non-null int64\n",
      "% Long Commute - Drives Alone        106 non-null int64\n",
      "% LBW                                106 non-null float64\n",
      "% Fair/Poor                          106 non-null int64\n",
      "% Excessive Drinking                 106 non-null int64\n",
      "% Drive Alone - White                106 non-null float64\n",
      "% Drive Alone - Hispanic             106 non-null float64\n",
      "% Drive Alone - Black                105 non-null float64\n",
      "% Drive Alone                        106 non-null int64\n",
      "% Children in Poverty - White        106 non-null float64\n",
      "% Children in Poverty - Hispanic     106 non-null float64\n",
      "% Children in Poverty - Black        106 non-null float64\n",
      "% Children in Poverty                106 non-null int64\n",
      "% Alcohol-Impaired                   106 non-null float64\n",
      "% Mammography                        106 non-null float64\n",
      "Graduation Rate                      106 non-null float64\n",
      "Income Ratio                         106 non-null float64\n",
      "Mentally Unhealthy Days              106 non-null float64\n",
      "Physically Unhealthy Days            106 non-null float64\n",
      "Preventable Hosp. Rate               106 non-null float64\n",
      "Teen Birth Rate                      106 non-null float64\n",
      "Violent Crime Rate                   106 non-null float64\n",
      "Years of Potential Life Lost Rate    106 non-null float64\n",
      "Chlamydia Rate                       106 non-null float64\n",
      "Association Rate                     106 non-null float64\n",
      "% unemployment                       106 non-null float64\n",
      "% Uninsured                          106 non-null int64\n",
      "% With Access                        106 non-null float64\n",
      "dtypes: float64(24), int64(15), object(4)\n",
      "memory usage: 36.4+ KB\n"
     ]
    }
   ],
   "source": [
    "foreign_born_data = df_acs_foreign_born.merge(df_acs_total.drop('Geography', axis=1), how='inner', on='Id2')\n",
    "foreign_born_data['Foreign Born Population %'] = foreign_born_data['Foreign Born Population']/foreign_born_data['Total Population']\n",
    "foreign_born_data = foreign_born_data.merge(df_demo, how='inner', left_on='Id2', right_on='FIPS')\n",
    "foreign_born_data.info()"
   ]
  },
  {
   "cell_type": "markdown",
   "metadata": {},
   "source": [
    "#### REMEMBER: CONSIDER WHEN YOU ARE COMPARING POPULATION DISTRIBUTIONS, SAMPLE DISTRIBUTIONS, OR SAMPLING DISTRIBUTIONS. STATISTICS DOESN'T/CAN'T SAY ANYTHING ABOUT ANY TYPE OF DISTRIBUTION BESIDES SAMPLING DISTRIBUTIONS, THE OTHER TYPES OF DISTRIBUTIONS DO NOT HAVE PREDICTABLE/KNOWABLE PROPERTIES."
   ]
  },
  {
   "cell_type": "code",
   "execution_count": 27,
   "metadata": {},
   "outputs": [
    {
     "data": {
      "text/plain": [
       "<matplotlib.figure.Figure at 0x11b77eed0>"
      ]
     },
     "metadata": {},
     "output_type": "display_data"
    },
    {
     "data": {
      "image/png": "[encoded data removed]",
      "text/plain": [
       "<matplotlib.figure.Figure at 0x11ff2c410>"
      ]
     },
     "metadata": {},
     "output_type": "display_data"
    }
   ],
   "source": [
    "with PdfPages('foreign_born_by_results.pdf') as pdf:\n",
    "    \n",
    "    f = plt.figure()\n",
    "    \n",
    "    ax = foreign_born_data.boxplot(column='Foreign Born Population %', by='election_result')\n",
    "    \n",
    "    ax.spines['right'].set_visible(False)\n",
    "    ax.spines['top'].set_visible(False)\n",
    "    ax.yaxis.set_ticks_position('none')\n",
    "    ax.xaxis.set_ticks_position('none')\n",
    "    ax.grid(False)\n",
    "    ax.set_xlabel('County Winner')\n",
    "    ax.set_ylabel('Percentage of Total Population')\n",
    "    ax.set_title('Foreign Born Population by County')\n",
    "    \n",
    "    plt.suptitle('')\n",
    "    pdf.savefig()"
   ]
  },
  {
   "cell_type": "code",
   "execution_count": 28,
   "metadata": {},
   "outputs": [
    {
     "data": {
      "text/html": [
       "<div>\n",
       "<style>\n",
       "    .dataframe thead tr:only-child th {\n",
       "        text-align: right;\n",
       "    }\n",
       "\n",
       "    .dataframe thead th {\n",
       "        text-align: left;\n",
       "    }\n",
       "\n",
       "    .dataframe tbody tr th {\n",
       "        vertical-align: top;\n",
       "    }\n",
       "</style>\n",
       "<table border=\"1\" class=\"dataframe\">\n",
       "  <thead>\n",
       "    <tr style=\"text-align: right;\">\n",
       "      <th></th>\n",
       "      <th>count</th>\n",
       "      <th>mean</th>\n",
       "      <th>std</th>\n",
       "      <th>min</th>\n",
       "      <th>25%</th>\n",
       "      <th>50%</th>\n",
       "      <th>75%</th>\n",
       "      <th>max</th>\n",
       "    </tr>\n",
       "    <tr>\n",
       "      <th>election_result</th>\n",
       "      <th></th>\n",
       "      <th></th>\n",
       "      <th></th>\n",
       "      <th></th>\n",
       "      <th></th>\n",
       "      <th></th>\n",
       "      <th></th>\n",
       "      <th></th>\n",
       "    </tr>\n",
       "  </thead>\n",
       "  <tbody>\n",
       "    <tr>\n",
       "      <th>Clinton</th>\n",
       "      <td>92.0</td>\n",
       "      <td>0.208770</td>\n",
       "      <td>0.095418</td>\n",
       "      <td>0.059543</td>\n",
       "      <td>0.132525</td>\n",
       "      <td>0.192787</td>\n",
       "      <td>0.264732</td>\n",
       "      <td>0.526673</td>\n",
       "    </tr>\n",
       "    <tr>\n",
       "      <th>Trump</th>\n",
       "      <td>14.0</td>\n",
       "      <td>0.148776</td>\n",
       "      <td>0.035620</td>\n",
       "      <td>0.097662</td>\n",
       "      <td>0.121229</td>\n",
       "      <td>0.146534</td>\n",
       "      <td>0.159637</td>\n",
       "      <td>0.205952</td>\n",
       "    </tr>\n",
       "  </tbody>\n",
       "</table>\n",
       "</div>"
      ],
      "text/plain": [
       "                 count      mean       std       min       25%       50%  \\\n",
       "election_result                                                            \n",
       "Clinton           92.0  0.208770  0.095418  0.059543  0.132525  0.192787   \n",
       "Trump             14.0  0.148776  0.035620  0.097662  0.121229  0.146534   \n",
       "\n",
       "                      75%       max  \n",
       "election_result                      \n",
       "Clinton          0.264732  0.526673  \n",
       "Trump            0.159637  0.205952  "
      ]
     },
     "execution_count": 28,
     "metadata": {},
     "output_type": "execute_result"
    }
   ],
   "source": [
    "foreign_born_data.groupby('election_result')['Foreign Born Population %'].describe()"
   ]
  },
  {
   "cell_type": "code",
   "execution_count": 29,
   "metadata": {},
   "outputs": [
    {
     "data": {
      "text/plain": [
       "count    106.000000\n",
       "mean       0.200846\n",
       "std        0.092001\n",
       "min        0.059543\n",
       "25%        0.131293\n",
       "50%        0.181622\n",
       "75%        0.254236\n",
       "max        0.526673\n",
       "Name: Foreign Born Population %, dtype: float64"
      ]
     },
     "execution_count": 29,
     "metadata": {},
     "output_type": "execute_result"
    }
   ],
   "source": [
    "foreign_born_data['Foreign Born Population %'].describe()"
   ]
  },
  {
   "cell_type": "code",
   "execution_count": 30,
   "metadata": {},
   "outputs": [
    {
     "data": {
      "text/plain": [
       "-0.046253340563660206"
      ]
     },
     "execution_count": 30,
     "metadata": {},
     "output_type": "execute_result"
    }
   ],
   "source": [
    "mean_sample = foreign_born_data.groupby('election_result')['Foreign Born Population %'].median().diff()[1]\n",
    "mean_sample"
   ]
  },
  {
   "cell_type": "markdown",
   "metadata": {},
   "source": [
    "#### are distributions of foreign percentages different between Trump and Clinton counties?"
   ]
  },
  {
   "cell_type": "code",
   "execution_count": 31,
   "metadata": {
    "collapsed": true
   },
   "outputs": [],
   "source": [
    "clinton_num_obs = foreign_born_data.groupby('election_result')['Foreign Born Population %'].describe().loc['Clinton','count']\n",
    "clinton_num_obs = int(clinton_num_obs)\n",
    "trump_num_obs = foreign_born_data.groupby('election_result')['Foreign Born Population %'].describe().loc['Trump','count']\n",
    "trump_num_obs = int(trump_num_obs)"
   ]
  },
  {
   "cell_type": "markdown",
   "metadata": {},
   "source": [
    "##### NB: MAJOR QUESTION HERE IS IF THE TWO SAMPLES ARE REPRESENTATIVE OF POPULATION. HOW DID CENSUS CHOOSE THESE SPECIFIC COUNTIES TO ESTIMATE? RANDOM OR SOME OTHER CRITERION?"
   ]
  },
  {
   "cell_type": "markdown",
   "metadata": {},
   "source": [
    "##### use MEAN or MEDIAN for hypothesis test?"
   ]
  },
  {
   "cell_type": "markdown",
   "metadata": {},
   "source": [
    "##### without replacement"
   ]
  },
  {
   "cell_type": "code",
   "execution_count": 32,
   "metadata": {
    "collapsed": true
   },
   "outputs": [],
   "source": [
    "all_data = foreign_born_data['Foreign Born Population %']\n",
    "len_sample = clinton_num_obs + trump_num_obs\n",
    "num_resamples = 10000\n",
    "\n",
    "means_resample = []\n",
    "    \n",
    "for _ in range(num_resamples):\n",
    "    resample = np.random.choice(all_data, size=len_sample, replace=False)\n",
    "    resample_clinton, resample_trump = np.split(resample, [clinton_num_obs])\n",
    "    means_resample.append(np.median(resample_clinton) - np.median(resample_trump))"
   ]
  },
  {
   "cell_type": "code",
   "execution_count": 33,
   "metadata": {},
   "outputs": [
    {
     "data": {
      "text/plain": [
       "<matplotlib.collections.LineCollection at 0x11ff56d50>"
      ]
     },
     "execution_count": 33,
     "metadata": {},
     "output_type": "execute_result"
    },
    {
     "data": {
      "image/png": "[encoded data removed]",
      "text/plain": [
       "<matplotlib.figure.Figure at 0x11bcf34d0>"
      ]
     },
     "metadata": {},
     "output_type": "display_data"
    }
   ],
   "source": [
    "f, ax = plt.subplots(1,1) \n",
    "\n",
    "plt.hist(means_resample)\n",
    "ax.vlines(mean_sample,0,2500)"
   ]
  },
  {
   "cell_type": "code",
   "execution_count": 34,
   "metadata": {},
   "outputs": [
    {
     "data": {
      "text/plain": [
       "0.15998400159984003"
      ]
     },
     "execution_count": 34,
     "metadata": {},
     "output_type": "execute_result"
    }
   ],
   "source": [
    "p_value = (np.sum(np.abs(means_resample) > np.abs(mean_sample))+1)/(np.size(means_resample)+1)\n",
    "p_value"
   ]
  },
  {
   "cell_type": "markdown",
   "metadata": {},
   "source": [
    "##### with replacement"
   ]
  },
  {
   "cell_type": "code",
   "execution_count": 35,
   "metadata": {
    "collapsed": true
   },
   "outputs": [],
   "source": [
    "all_data = foreign_born_data['Foreign Born Population %']\n",
    "len_sample = clinton_num_obs + trump_num_obs\n",
    "num_resamples = 10000\n",
    "\n",
    "means_resample = []\n",
    "    \n",
    "for _ in range(num_resamples):\n",
    "    resample = np.random.choice(all_data, size=len_sample, replace=True)\n",
    "    resample_clinton, resample_trump = np.split(resample, [clinton_num_obs])\n",
    "    means_resample.append(np.median(resample_clinton) - np.median(resample_trump))"
   ]
  },
  {
   "cell_type": "code",
   "execution_count": 36,
   "metadata": {},
   "outputs": [
    {
     "data": {
      "text/plain": [
       "<matplotlib.collections.LineCollection at 0x11ff86350>"
      ]
     },
     "execution_count": 36,
     "metadata": {},
     "output_type": "execute_result"
    },
    {
     "data": {
      "image/png": "[encoded data removed]",
      "text/plain": [
       "<matplotlib.figure.Figure at 0x1201b5290>"
      ]
     },
     "metadata": {},
     "output_type": "display_data"
    }
   ],
   "source": [
    "f, ax = plt.subplots(1,1) \n",
    "\n",
    "plt.hist(means_resample)\n",
    "ax.vlines(mean_sample,0,2500)"
   ]
  },
  {
   "cell_type": "code",
   "execution_count": 37,
   "metadata": {},
   "outputs": [
    {
     "data": {
      "text/plain": [
       "0.1621837816218378"
      ]
     },
     "execution_count": 37,
     "metadata": {},
     "output_type": "execute_result"
    }
   ],
   "source": [
    "p_value = (np.sum(np.abs(means_resample) > np.abs(mean_sample))+1)/(np.size(means_resample)+1)\n",
    "p_value"
   ]
  },
  {
   "cell_type": "markdown",
   "metadata": {},
   "source": [
    "mean gives significant results, but median doesnt. prob since clinton distro is skewed right. how to interpret hypothesis testing, signifinance testing. any use?"
   ]
  },
  {
   "cell_type": "markdown",
   "metadata": {},
   "source": [
    "##### comparing standard deviations between samples"
   ]
  },
  {
   "cell_type": "code",
   "execution_count": 38,
   "metadata": {},
   "outputs": [
    {
     "data": {
      "text/plain": [
       "-0.059797837991213958"
      ]
     },
     "execution_count": 38,
     "metadata": {},
     "output_type": "execute_result"
    }
   ],
   "source": [
    "std_sample = foreign_born_data.groupby('election_result')['Foreign Born Population %'].std().diff()[1]\n",
    "std_sample"
   ]
  },
  {
   "cell_type": "code",
   "execution_count": 39,
   "metadata": {
    "collapsed": true
   },
   "outputs": [],
   "source": [
    "all_data = foreign_born_data['Foreign Born Population %']\n",
    "len_sample = clinton_num_obs + trump_num_obs\n",
    "num_resamples = 10000\n",
    "\n",
    "std_resample = []\n",
    "    \n",
    "for _ in range(num_resamples):\n",
    "    resample = np.random.choice(all_data, size=len_sample, replace=True)\n",
    "    resample_clinton, resample_trump = np.split(resample, [clinton_num_obs])\n",
    "    std_resample.append(np.std(resample_clinton) - np.std(resample_trump))"
   ]
  },
  {
   "cell_type": "code",
   "execution_count": 40,
   "metadata": {},
   "outputs": [
    {
     "data": {
      "text/plain": [
       "<matplotlib.collections.LineCollection at 0x12047eb90>"
      ]
     },
     "execution_count": 40,
     "metadata": {},
     "output_type": "execute_result"
    },
    {
     "data": {
      "image/png": "[encoded data removed]",
      "text/plain": [
       "<matplotlib.figure.Figure at 0x11ff6c1d0>"
      ]
     },
     "metadata": {},
     "output_type": "display_data"
    }
   ],
   "source": [
    "f, ax = plt.subplots(1,1) \n",
    "\n",
    "plt.hist(std_resample)\n",
    "ax.vlines(std_sample,0,2500)"
   ]
  },
  {
   "cell_type": "code",
   "execution_count": 41,
   "metadata": {},
   "outputs": [
    {
     "data": {
      "text/plain": [
       "0.0047995200479952005"
      ]
     },
     "execution_count": 41,
     "metadata": {},
     "output_type": "execute_result"
    }
   ],
   "source": [
    "p_value = (np.sum(np.abs(std_resample) > np.abs(std_sample))+1)/(np.size(std_resample)+1)\n",
    "p_value"
   ]
  },
  {
   "cell_type": "code",
   "execution_count": 42,
   "metadata": {
    "collapsed": true
   },
   "outputs": [],
   "source": [
    "def graph_variable(var_name):\n",
    "\n",
    "    with PdfPages(var_name + '_by_results.pdf') as pdf:\n",
    "\n",
    "        f = plt.figure()\n",
    "\n",
    "        ax = foreign_born_data.boxplot(column=var_name, by='election_result')\n",
    "\n",
    "        ax.spines['right'].set_visible(False)\n",
    "        ax.spines['top'].set_visible(False)\n",
    "        ax.yaxis.set_ticks_position('none')\n",
    "        ax.xaxis.set_ticks_position('none')\n",
    "        ax.grid(False)\n",
    "        ax.set_xlabel('County Winner')\n",
    "        ax.set_ylabel(var_name)\n",
    "        ax.set_title(var_name + ' by County')\n",
    "\n",
    "        plt.suptitle('')\n",
    "        pdf.savefig()"
   ]
  },
  {
   "cell_type": "code",
   "execution_count": 43,
   "metadata": {},
   "outputs": [
    {
     "data": {
      "text/plain": [
       "<matplotlib.figure.Figure at 0x12063c290>"
      ]
     },
     "metadata": {},
     "output_type": "display_data"
    },
    {
     "data": {
      "image/png": "[encoded data removed]",
      "text/plain": [
       "<matplotlib.figure.Figure at 0x12063cc50>"
      ]
     },
     "metadata": {},
     "output_type": "display_data"
    }
   ],
   "source": [
    "graph_variable('Chlamydia Rate')"
   ]
  },
  {
   "cell_type": "code",
   "execution_count": 44,
   "metadata": {},
   "outputs": [
    {
     "data": {
      "text/plain": [
       "<matplotlib.figure.Figure at 0x120701850>"
      ]
     },
     "metadata": {},
     "output_type": "display_data"
    },
    {
     "data": {
      "image/png": "[encoded data removed]",
      "text/plain": [
       "<matplotlib.figure.Figure at 0x120701bd0>"
      ]
     },
     "metadata": {},
     "output_type": "display_data"
    }
   ],
   "source": [
    "graph_variable('% unemployment')"
   ]
  },
  {
   "cell_type": "code",
   "execution_count": 45,
   "metadata": {},
   "outputs": [
    {
     "data": {
      "text/plain": [
       "<matplotlib.figure.Figure at 0x1205ec3d0>"
      ]
     },
     "metadata": {},
     "output_type": "display_data"
    },
    {
     "data": {
      "image/png": "[encoded data removed]",
      "text/plain": [
       "<matplotlib.figure.Figure at 0x1207ff950>"
      ]
     },
     "metadata": {},
     "output_type": "display_data"
    }
   ],
   "source": [
    "graph_variable('% Uninsured')"
   ]
  },
  {
   "cell_type": "code",
   "execution_count": 46,
   "metadata": {},
   "outputs": [
    {
     "data": {
      "text/plain": [
       "<matplotlib.figure.Figure at 0x1209b1410>"
      ]
     },
     "metadata": {},
     "output_type": "display_data"
    },
    {
     "data": {
      "image/png": "[encoded data removed]",
      "text/plain": [
       "<matplotlib.figure.Figure at 0x120ae66d0>"
      ]
     },
     "metadata": {},
     "output_type": "display_data"
    }
   ],
   "source": [
    "graph_variable('% Smokers')"
   ]
  },
  {
   "cell_type": "code",
   "execution_count": 47,
   "metadata": {},
   "outputs": [
    {
     "data": {
      "text/plain": [
       "<matplotlib.figure.Figure at 0x1206f2190>"
      ]
     },
     "metadata": {},
     "output_type": "display_data"
    },
    {
     "data": {
      "image/png": "[encoded data removed]",
      "text/plain": [
       "<matplotlib.figure.Figure at 0x120b9a250>"
      ]
     },
     "metadata": {},
     "output_type": "display_data"
    }
   ],
   "source": [
    "graph_variable('% Some College')"
   ]
  },
  {
   "cell_type": "code",
   "execution_count": 48,
   "metadata": {},
   "outputs": [
    {
     "data": {
      "text/plain": [
       "<matplotlib.figure.Figure at 0x120baecd0>"
      ]
     },
     "metadata": {},
     "output_type": "display_data"
    },
    {
     "data": {
      "image/png": "[encoded data removed]",
      "text/plain": [
       "<matplotlib.figure.Figure at 0x12096ec10>"
      ]
     },
     "metadata": {},
     "output_type": "display_data"
    }
   ],
   "source": [
    "graph_variable('% Obese')"
   ]
  },
  {
   "cell_type": "code",
   "execution_count": 49,
   "metadata": {},
   "outputs": [
    {
     "data": {
      "text/plain": [
       "<matplotlib.figure.Figure at 0x1206f2f10>"
      ]
     },
     "metadata": {},
     "output_type": "display_data"
    },
    {
     "data": {
      "image/png": "[encoded data removed]",
      "text/plain": [
       "<matplotlib.figure.Figure at 0x1201b5c90>"
      ]
     },
     "metadata": {},
     "output_type": "display_data"
    }
   ],
   "source": [
    "graph_variable('% Physically Inactive')"
   ]
  },
  {
   "cell_type": "code",
   "execution_count": 50,
   "metadata": {},
   "outputs": [
    {
     "data": {
      "text/plain": [
       "<matplotlib.figure.Figure at 0x120622f90>"
      ]
     },
     "metadata": {},
     "output_type": "display_data"
    },
    {
     "data": {
      "image/png": "[encoded data removed]",
      "text/plain": [
       "<matplotlib.figure.Figure at 0x11fe67d90>"
      ]
     },
     "metadata": {},
     "output_type": "display_data"
    }
   ],
   "source": [
    "graph_variable('% Excessive Drinking')"
   ]
  },
  {
   "cell_type": "code",
   "execution_count": 51,
   "metadata": {},
   "outputs": [
    {
     "data": {
      "text/plain": [
       "<matplotlib.figure.Figure at 0x11fcef710>"
      ]
     },
     "metadata": {},
     "output_type": "display_data"
    },
    {
     "data": {
      "image/png": "[encoded data removed]",
      "text/plain": [
       "<matplotlib.figure.Figure at 0x11ff6c850>"
      ]
     },
     "metadata": {},
     "output_type": "display_data"
    }
   ],
   "source": [
    "graph_variable('Income Ratio')"
   ]
  },
  {
   "cell_type": "code",
   "execution_count": 52,
   "metadata": {},
   "outputs": [
    {
     "data": {
      "text/plain": [
       "<matplotlib.figure.Figure at 0x11bcf3210>"
      ]
     },
     "metadata": {},
     "output_type": "display_data"
    },
    {
     "data": {
      "image/png": "[encoded data removed]",
      "text/plain": [
       "<matplotlib.figure.Figure at 0x120c7c910>"
      ]
     },
     "metadata": {},
     "output_type": "display_data"
    }
   ],
   "source": [
    "graph_variable('Graduation Rate')"
   ]
  },
  {
   "cell_type": "code",
   "execution_count": 53,
   "metadata": {},
   "outputs": [
    {
     "data": {
      "text/plain": [
       "<matplotlib.figure.Figure at 0x11ffc7d90>"
      ]
     },
     "metadata": {},
     "output_type": "display_data"
    },
    {
     "data": {
      "image/png": "[encoded data removed]",
      "text/plain": [
       "<matplotlib.figure.Figure at 0x11ffd7090>"
      ]
     },
     "metadata": {},
     "output_type": "display_data"
    }
   ],
   "source": [
    "graph_variable('Violent Crime Rate')"
   ]
  },
  {
   "cell_type": "code",
   "execution_count": 54,
   "metadata": {},
   "outputs": [
    {
     "data": {
      "text/plain": [
       "<matplotlib.figure.Figure at 0x11b7b4ad0>"
      ]
     },
     "metadata": {},
     "output_type": "display_data"
    },
    {
     "data": {
      "image/png": "[encoded data removed]",
      "text/plain": [
       "<matplotlib.figure.Figure at 0x11b79bdd0>"
      ]
     },
     "metadata": {},
     "output_type": "display_data"
    }
   ],
   "source": [
    "graph_variable('Teen Birth Rate')"
   ]
  },
  {
   "cell_type": "markdown",
   "metadata": {},
   "source": [
    "#### joining voting percentage results to demo file"
   ]
  },
  {
   "cell_type": "code",
   "execution_count": 55,
   "metadata": {},
   "outputs": [
    {
     "name": "stdout",
     "output_type": "stream",
     "text": [
      "<class 'pandas.core.frame.DataFrame'>\n",
      "RangeIndex: 3111 entries, 0 to 3110\n",
      "Data columns (total 38 columns):\n",
      "State                                3111 non-null object\n",
      "FIPS                                 3111 non-null int64\n",
      "County                               3111 non-null object\n",
      "election_result                      3111 non-null object\n",
      "% Some College                       3111 non-null float64\n",
      "% Smokers                            3111 non-null int64\n",
      "% Single-Parent Households           3111 non-null int64\n",
      "% Severe Housing Problems            3111 non-null int64\n",
      "% Receiving HbA1c                    3078 non-null float64\n",
      "% Physically Inactive                3111 non-null int64\n",
      "% Obese                              3111 non-null int64\n",
      "% Long Commute - Drives Alone        3111 non-null int64\n",
      "% LBW                                3022 non-null float64\n",
      "% Fair/Poor                          3111 non-null int64\n",
      "% Excessive Drinking                 3111 non-null int64\n",
      "% Drive Alone - White                2999 non-null float64\n",
      "% Drive Alone - Hispanic             1231 non-null float64\n",
      "% Drive Alone - Black                1146 non-null float64\n",
      "% Drive Alone                        3111 non-null int64\n",
      "% Children in Poverty - White        3040 non-null float64\n",
      "% Children in Poverty - Hispanic     2112 non-null float64\n",
      "% Children in Poverty - Black        1468 non-null float64\n",
      "% Children in Poverty                3111 non-null int64\n",
      "% Alcohol-Impaired                   3096 non-null float64\n",
      "% Mammography                        3021 non-null float64\n",
      "Graduation Rate                      2657 non-null float64\n",
      "Income Ratio                         3110 non-null float64\n",
      "Mentally Unhealthy Days              3111 non-null float64\n",
      "Physically Unhealthy Days            3111 non-null float64\n",
      "Preventable Hosp. Rate               3032 non-null float64\n",
      "Teen Birth Rate                      3008 non-null float64\n",
      "Violent Crime Rate                   2956 non-null float64\n",
      "Years of Potential Life Lost Rate    2940 non-null float64\n",
      "Chlamydia Rate                       2963 non-null float64\n",
      "Association Rate                     3111 non-null float64\n",
      "% unemployment                       3111 non-null float64\n",
      "% Uninsured                          3111 non-null int64\n",
      "% With Access                        3039 non-null float64\n",
      "dtypes: float64(23), int64(12), object(3)\n",
      "memory usage: 923.6+ KB\n"
     ]
    }
   ],
   "source": [
    "df_demo.info()"
   ]
  },
  {
   "cell_type": "code",
   "execution_count": 56,
   "metadata": {},
   "outputs": [
    {
     "name": "stdout",
     "output_type": "stream",
     "text": [
      "<class 'pandas.core.frame.DataFrame'>\n",
      "Int64Index: 3112 entries, 2 to 9335\n",
      "Data columns (total 8 columns):\n",
      "fips_code    3112 non-null int64\n",
      "county       3112 non-null object\n",
      "Year         3112 non-null int64\n",
      "total        3112 non-null int64\n",
      "dem          3112 non-null int64\n",
      "gop          3112 non-null int64\n",
      "oth          3112 non-null int64\n",
      "demo_win     3112 non-null bool\n",
      "dtypes: bool(1), int64(6), object(1)\n",
      "memory usage: 197.5+ KB\n"
     ]
    }
   ],
   "source": [
    "df_results_2016.info()"
   ]
  },
  {
   "cell_type": "code",
   "execution_count": 57,
   "metadata": {},
   "outputs": [
    {
     "data": {
      "text/html": [
       "<div>\n",
       "<style>\n",
       "    .dataframe thead tr:only-child th {\n",
       "        text-align: right;\n",
       "    }\n",
       "\n",
       "    .dataframe thead th {\n",
       "        text-align: left;\n",
       "    }\n",
       "\n",
       "    .dataframe tbody tr th {\n",
       "        vertical-align: top;\n",
       "    }\n",
       "</style>\n",
       "<table border=\"1\" class=\"dataframe\">\n",
       "  <thead>\n",
       "    <tr style=\"text-align: right;\">\n",
       "      <th></th>\n",
       "      <th>fips_code</th>\n",
       "      <th>county</th>\n",
       "      <th>Year</th>\n",
       "      <th>total</th>\n",
       "      <th>dem</th>\n",
       "      <th>gop</th>\n",
       "      <th>oth</th>\n",
       "      <th>demo_win</th>\n",
       "    </tr>\n",
       "  </thead>\n",
       "  <tbody>\n",
       "    <tr>\n",
       "      <th>2</th>\n",
       "      <td>1001</td>\n",
       "      <td>Autauga County</td>\n",
       "      <td>2016</td>\n",
       "      <td>24661</td>\n",
       "      <td>5908</td>\n",
       "      <td>18110</td>\n",
       "      <td>643</td>\n",
       "      <td>False</td>\n",
       "    </tr>\n",
       "    <tr>\n",
       "      <th>5</th>\n",
       "      <td>1003</td>\n",
       "      <td>Baldwin County</td>\n",
       "      <td>2016</td>\n",
       "      <td>94090</td>\n",
       "      <td>18409</td>\n",
       "      <td>72780</td>\n",
       "      <td>2901</td>\n",
       "      <td>False</td>\n",
       "    </tr>\n",
       "    <tr>\n",
       "      <th>8</th>\n",
       "      <td>1005</td>\n",
       "      <td>Barbour County</td>\n",
       "      <td>2016</td>\n",
       "      <td>10390</td>\n",
       "      <td>4848</td>\n",
       "      <td>5431</td>\n",
       "      <td>111</td>\n",
       "      <td>False</td>\n",
       "    </tr>\n",
       "    <tr>\n",
       "      <th>11</th>\n",
       "      <td>1007</td>\n",
       "      <td>Bibb County</td>\n",
       "      <td>2016</td>\n",
       "      <td>8748</td>\n",
       "      <td>1874</td>\n",
       "      <td>6733</td>\n",
       "      <td>141</td>\n",
       "      <td>False</td>\n",
       "    </tr>\n",
       "    <tr>\n",
       "      <th>14</th>\n",
       "      <td>1009</td>\n",
       "      <td>Blount County</td>\n",
       "      <td>2016</td>\n",
       "      <td>25384</td>\n",
       "      <td>2150</td>\n",
       "      <td>22808</td>\n",
       "      <td>426</td>\n",
       "      <td>False</td>\n",
       "    </tr>\n",
       "  </tbody>\n",
       "</table>\n",
       "</div>"
      ],
      "text/plain": [
       "    fips_code          county  Year  total    dem    gop   oth  demo_win\n",
       "2        1001  Autauga County  2016  24661   5908  18110   643     False\n",
       "5        1003  Baldwin County  2016  94090  18409  72780  2901     False\n",
       "8        1005  Barbour County  2016  10390   4848   5431   111     False\n",
       "11       1007     Bibb County  2016   8748   1874   6733   141     False\n",
       "14       1009   Blount County  2016  25384   2150  22808   426     False"
      ]
     },
     "execution_count": 57,
     "metadata": {},
     "output_type": "execute_result"
    }
   ],
   "source": [
    "df_results_2016.head()"
   ]
  },
  {
   "cell_type": "code",
   "execution_count": 65,
   "metadata": {
    "collapsed": true
   },
   "outputs": [],
   "source": [
    "df_results_2016.loc[:,'dem_per'] = df_results_2016.loc[:,'dem']/df_results_2016.loc[:,'total']\n",
    "df_results_2016.loc[:,'gop_per'] = df_results_2016.loc[:,'gop']/df_results_2016.loc[:,'total']\n",
    "df_results_2016.loc[:,'oth_per'] = df_results_2016.loc[:,'oth']/df_results_2016.loc[:,'total']"
   ]
  },
  {
   "cell_type": "code",
   "execution_count": 66,
   "metadata": {},
   "outputs": [
    {
     "data": {
      "text/html": [
       "<div>\n",
       "<style>\n",
       "    .dataframe thead tr:only-child th {\n",
       "        text-align: right;\n",
       "    }\n",
       "\n",
       "    .dataframe thead th {\n",
       "        text-align: left;\n",
       "    }\n",
       "\n",
       "    .dataframe tbody tr th {\n",
       "        vertical-align: top;\n",
       "    }\n",
       "</style>\n",
       "<table border=\"1\" class=\"dataframe\">\n",
       "  <thead>\n",
       "    <tr style=\"text-align: right;\">\n",
       "      <th></th>\n",
       "      <th>fips_code</th>\n",
       "      <th>county</th>\n",
       "      <th>Year</th>\n",
       "      <th>total</th>\n",
       "      <th>dem</th>\n",
       "      <th>gop</th>\n",
       "      <th>oth</th>\n",
       "      <th>demo_win</th>\n",
       "      <th>dem_per</th>\n",
       "      <th>gop_per</th>\n",
       "      <th>oth_per</th>\n",
       "    </tr>\n",
       "  </thead>\n",
       "  <tbody>\n",
       "    <tr>\n",
       "      <th>2</th>\n",
       "      <td>1001</td>\n",
       "      <td>Autauga County</td>\n",
       "      <td>2016</td>\n",
       "      <td>24661</td>\n",
       "      <td>5908</td>\n",
       "      <td>18110</td>\n",
       "      <td>643</td>\n",
       "      <td>False</td>\n",
       "      <td>0.239569</td>\n",
       "      <td>0.734358</td>\n",
       "      <td>0.026074</td>\n",
       "    </tr>\n",
       "    <tr>\n",
       "      <th>5</th>\n",
       "      <td>1003</td>\n",
       "      <td>Baldwin County</td>\n",
       "      <td>2016</td>\n",
       "      <td>94090</td>\n",
       "      <td>18409</td>\n",
       "      <td>72780</td>\n",
       "      <td>2901</td>\n",
       "      <td>False</td>\n",
       "      <td>0.195653</td>\n",
       "      <td>0.773515</td>\n",
       "      <td>0.030832</td>\n",
       "    </tr>\n",
       "    <tr>\n",
       "      <th>8</th>\n",
       "      <td>1005</td>\n",
       "      <td>Barbour County</td>\n",
       "      <td>2016</td>\n",
       "      <td>10390</td>\n",
       "      <td>4848</td>\n",
       "      <td>5431</td>\n",
       "      <td>111</td>\n",
       "      <td>False</td>\n",
       "      <td>0.466603</td>\n",
       "      <td>0.522714</td>\n",
       "      <td>0.010683</td>\n",
       "    </tr>\n",
       "    <tr>\n",
       "      <th>11</th>\n",
       "      <td>1007</td>\n",
       "      <td>Bibb County</td>\n",
       "      <td>2016</td>\n",
       "      <td>8748</td>\n",
       "      <td>1874</td>\n",
       "      <td>6733</td>\n",
       "      <td>141</td>\n",
       "      <td>False</td>\n",
       "      <td>0.214220</td>\n",
       "      <td>0.769662</td>\n",
       "      <td>0.016118</td>\n",
       "    </tr>\n",
       "    <tr>\n",
       "      <th>14</th>\n",
       "      <td>1009</td>\n",
       "      <td>Blount County</td>\n",
       "      <td>2016</td>\n",
       "      <td>25384</td>\n",
       "      <td>2150</td>\n",
       "      <td>22808</td>\n",
       "      <td>426</td>\n",
       "      <td>False</td>\n",
       "      <td>0.084699</td>\n",
       "      <td>0.898519</td>\n",
       "      <td>0.016782</td>\n",
       "    </tr>\n",
       "  </tbody>\n",
       "</table>\n",
       "</div>"
      ],
      "text/plain": [
       "    fips_code          county  Year  total    dem    gop   oth  demo_win  \\\n",
       "2        1001  Autauga County  2016  24661   5908  18110   643     False   \n",
       "5        1003  Baldwin County  2016  94090  18409  72780  2901     False   \n",
       "8        1005  Barbour County  2016  10390   4848   5431   111     False   \n",
       "11       1007     Bibb County  2016   8748   1874   6733   141     False   \n",
       "14       1009   Blount County  2016  25384   2150  22808   426     False   \n",
       "\n",
       "     dem_per   gop_per   oth_per  \n",
       "2   0.239569  0.734358  0.026074  \n",
       "5   0.195653  0.773515  0.030832  \n",
       "8   0.466603  0.522714  0.010683  \n",
       "11  0.214220  0.769662  0.016118  \n",
       "14  0.084699  0.898519  0.016782  "
      ]
     },
     "execution_count": 66,
     "metadata": {},
     "output_type": "execute_result"
    }
   ],
   "source": [
    "df_results_2016.head()"
   ]
  },
  {
   "cell_type": "code",
   "execution_count": 67,
   "metadata": {
    "collapsed": true
   },
   "outputs": [],
   "source": [
    "df_results_per = df_results_2016.loc[:,['fips_code','dem_per','gop_per','oth_per','total']].merge(df_demo, how='inner', left_on='fips_code', right_on='FIPS')"
   ]
  },
  {
   "cell_type": "code",
   "execution_count": 69,
   "metadata": {},
   "outputs": [
    {
     "name": "stdout",
     "output_type": "stream",
     "text": [
      "<class 'pandas.core.frame.DataFrame'>\n",
      "Int64Index: 3111 entries, 0 to 3110\n",
      "Data columns (total 43 columns):\n",
      "fips_code                            3111 non-null int64\n",
      "dem_per                              3111 non-null float64\n",
      "gop_per                              3111 non-null float64\n",
      "oth_per                              3111 non-null float64\n",
      "total                                3111 non-null int64\n",
      "State                                3111 non-null object\n",
      "FIPS                                 3111 non-null int64\n",
      "County                               3111 non-null object\n",
      "election_result                      3111 non-null object\n",
      "% Some College                       3111 non-null float64\n",
      "% Smokers                            3111 non-null int64\n",
      "% Single-Parent Households           3111 non-null int64\n",
      "% Severe Housing Problems            3111 non-null int64\n",
      "% Receiving HbA1c                    3078 non-null float64\n",
      "% Physically Inactive                3111 non-null int64\n",
      "% Obese                              3111 non-null int64\n",
      "% Long Commute - Drives Alone        3111 non-null int64\n",
      "% LBW                                3022 non-null float64\n",
      "% Fair/Poor                          3111 non-null int64\n",
      "% Excessive Drinking                 3111 non-null int64\n",
      "% Drive Alone - White                2999 non-null float64\n",
      "% Drive Alone - Hispanic             1231 non-null float64\n",
      "% Drive Alone - Black                1146 non-null float64\n",
      "% Drive Alone                        3111 non-null int64\n",
      "% Children in Poverty - White        3040 non-null float64\n",
      "% Children in Poverty - Hispanic     2112 non-null float64\n",
      "% Children in Poverty - Black        1468 non-null float64\n",
      "% Children in Poverty                3111 non-null int64\n",
      "% Alcohol-Impaired                   3096 non-null float64\n",
      "% Mammography                        3021 non-null float64\n",
      "Graduation Rate                      2657 non-null float64\n",
      "Income Ratio                         3110 non-null float64\n",
      "Mentally Unhealthy Days              3111 non-null float64\n",
      "Physically Unhealthy Days            3111 non-null float64\n",
      "Preventable Hosp. Rate               3032 non-null float64\n",
      "Teen Birth Rate                      3008 non-null float64\n",
      "Violent Crime Rate                   2956 non-null float64\n",
      "Years of Potential Life Lost Rate    2940 non-null float64\n",
      "Chlamydia Rate                       2963 non-null float64\n",
      "Association Rate                     3111 non-null float64\n",
      "% unemployment                       3111 non-null float64\n",
      "% Uninsured                          3111 non-null int64\n",
      "% With Access                        3039 non-null float64\n",
      "dtypes: float64(26), int64(14), object(3)\n",
      "memory usage: 1.0+ MB\n"
     ]
    }
   ],
   "source": [
    "df_results_per.info()"
   ]
  },
  {
   "cell_type": "code",
   "execution_count": 80,
   "metadata": {
    "collapsed": true
   },
   "outputs": [],
   "source": [
    "cols_to_keep = ['FIPS'\n",
    "                ,'dem_per'\n",
    "                ,'gop_per'\n",
    "                ,'oth_per'\n",
    "                ,'total'\n",
    "               # ,'election_result'\n",
    "                ,'% Some College'\n",
    "                ,'% Physically Inactive'\n",
    "                ,'% Obese'\n",
    "                ,'% Excessive Drinking'\n",
    "                ,'Graduation Rate'\n",
    "                ,'Income Ratio']\n",
    "df_data_filtered = df_results_per[cols_to_keep]"
   ]
  },
  {
   "cell_type": "code",
   "execution_count": 81,
   "metadata": {},
   "outputs": [
    {
     "data": {
      "text/html": [
       "<div>\n",
       "<style>\n",
       "    .dataframe thead tr:only-child th {\n",
       "        text-align: right;\n",
       "    }\n",
       "\n",
       "    .dataframe thead th {\n",
       "        text-align: left;\n",
       "    }\n",
       "\n",
       "    .dataframe tbody tr th {\n",
       "        vertical-align: top;\n",
       "    }\n",
       "</style>\n",
       "<table border=\"1\" class=\"dataframe\">\n",
       "  <thead>\n",
       "    <tr style=\"text-align: right;\">\n",
       "      <th></th>\n",
       "      <th>FIPS</th>\n",
       "      <th>dem_per</th>\n",
       "      <th>gop_per</th>\n",
       "      <th>oth_per</th>\n",
       "      <th>total</th>\n",
       "      <th>% Some College</th>\n",
       "      <th>% Physically Inactive</th>\n",
       "      <th>% Obese</th>\n",
       "      <th>% Excessive Drinking</th>\n",
       "      <th>Graduation Rate</th>\n",
       "      <th>Income Ratio</th>\n",
       "    </tr>\n",
       "  </thead>\n",
       "  <tbody>\n",
       "    <tr>\n",
       "      <th>FIPS</th>\n",
       "      <td>1.000000</td>\n",
       "      <td>-0.057407</td>\n",
       "      <td>0.050397</td>\n",
       "      <td>0.033398</td>\n",
       "      <td>-0.053802</td>\n",
       "      <td>0.013236</td>\n",
       "      <td>-0.062647</td>\n",
       "      <td>-0.048678</td>\n",
       "      <td>0.063905</td>\n",
       "      <td>0.128911</td>\n",
       "      <td>-0.085952</td>\n",
       "    </tr>\n",
       "    <tr>\n",
       "      <th>dem_per</th>\n",
       "      <td>-0.057407</td>\n",
       "      <td>1.000000</td>\n",
       "      <td>-0.983902</td>\n",
       "      <td>0.011371</td>\n",
       "      <td>0.397880</td>\n",
       "      <td>0.186621</td>\n",
       "      <td>-0.311880</td>\n",
       "      <td>-0.135091</td>\n",
       "      <td>0.124917</td>\n",
       "      <td>-0.309622</td>\n",
       "      <td>0.323064</td>\n",
       "    </tr>\n",
       "    <tr>\n",
       "      <th>gop_per</th>\n",
       "      <td>0.050397</td>\n",
       "      <td>-0.983902</td>\n",
       "      <td>1.000000</td>\n",
       "      <td>-0.189884</td>\n",
       "      <td>-0.395627</td>\n",
       "      <td>-0.253621</td>\n",
       "      <td>0.397025</td>\n",
       "      <td>0.195979</td>\n",
       "      <td>-0.167243</td>\n",
       "      <td>0.320047</td>\n",
       "      <td>-0.268389</td>\n",
       "    </tr>\n",
       "    <tr>\n",
       "      <th>oth_per</th>\n",
       "      <td>0.033398</td>\n",
       "      <td>0.011371</td>\n",
       "      <td>-0.189884</td>\n",
       "      <td>1.000000</td>\n",
       "      <td>0.027758</td>\n",
       "      <td>0.393821</td>\n",
       "      <td>-0.508057</td>\n",
       "      <td>-0.354398</td>\n",
       "      <td>0.249502</td>\n",
       "      <td>-0.094757</td>\n",
       "      <td>-0.273010</td>\n",
       "    </tr>\n",
       "    <tr>\n",
       "      <th>total</th>\n",
       "      <td>-0.053802</td>\n",
       "      <td>0.397880</td>\n",
       "      <td>-0.395627</td>\n",
       "      <td>0.027758</td>\n",
       "      <td>1.000000</td>\n",
       "      <td>0.255476</td>\n",
       "      <td>-0.267332</td>\n",
       "      <td>-0.261200</td>\n",
       "      <td>0.170981</td>\n",
       "      <td>-0.124422</td>\n",
       "      <td>0.090873</td>\n",
       "    </tr>\n",
       "    <tr>\n",
       "      <th>% Some College</th>\n",
       "      <td>0.013236</td>\n",
       "      <td>0.186621</td>\n",
       "      <td>-0.253621</td>\n",
       "      <td>0.393821</td>\n",
       "      <td>0.255476</td>\n",
       "      <td>1.000000</td>\n",
       "      <td>-0.536154</td>\n",
       "      <td>-0.411272</td>\n",
       "      <td>0.506442</td>\n",
       "      <td>0.013566</td>\n",
       "      <td>-0.207442</td>\n",
       "    </tr>\n",
       "    <tr>\n",
       "      <th>% Physically Inactive</th>\n",
       "      <td>-0.062647</td>\n",
       "      <td>-0.311880</td>\n",
       "      <td>0.397025</td>\n",
       "      <td>-0.508057</td>\n",
       "      <td>-0.267332</td>\n",
       "      <td>-0.536154</td>\n",
       "      <td>1.000000</td>\n",
       "      <td>0.711194</td>\n",
       "      <td>-0.582826</td>\n",
       "      <td>0.055275</td>\n",
       "      <td>0.212307</td>\n",
       "    </tr>\n",
       "    <tr>\n",
       "      <th>% Obese</th>\n",
       "      <td>-0.048678</td>\n",
       "      <td>-0.135091</td>\n",
       "      <td>0.195979</td>\n",
       "      <td>-0.354398</td>\n",
       "      <td>-0.261200</td>\n",
       "      <td>-0.411272</td>\n",
       "      <td>0.711194</td>\n",
       "      <td>1.000000</td>\n",
       "      <td>-0.386939</td>\n",
       "      <td>-0.030150</td>\n",
       "      <td>0.142879</td>\n",
       "    </tr>\n",
       "    <tr>\n",
       "      <th>% Excessive Drinking</th>\n",
       "      <td>0.063905</td>\n",
       "      <td>0.124917</td>\n",
       "      <td>-0.167243</td>\n",
       "      <td>0.249502</td>\n",
       "      <td>0.170981</td>\n",
       "      <td>0.506442</td>\n",
       "      <td>-0.582826</td>\n",
       "      <td>-0.386939</td>\n",
       "      <td>1.000000</td>\n",
       "      <td>0.019540</td>\n",
       "      <td>-0.292820</td>\n",
       "    </tr>\n",
       "    <tr>\n",
       "      <th>Graduation Rate</th>\n",
       "      <td>0.128911</td>\n",
       "      <td>-0.309622</td>\n",
       "      <td>0.320047</td>\n",
       "      <td>-0.094757</td>\n",
       "      <td>-0.124422</td>\n",
       "      <td>0.013566</td>\n",
       "      <td>0.055275</td>\n",
       "      <td>-0.030150</td>\n",
       "      <td>0.019540</td>\n",
       "      <td>1.000000</td>\n",
       "      <td>-0.186330</td>\n",
       "    </tr>\n",
       "    <tr>\n",
       "      <th>Income Ratio</th>\n",
       "      <td>-0.085952</td>\n",
       "      <td>0.323064</td>\n",
       "      <td>-0.268389</td>\n",
       "      <td>-0.273010</td>\n",
       "      <td>0.090873</td>\n",
       "      <td>-0.207442</td>\n",
       "      <td>0.212307</td>\n",
       "      <td>0.142879</td>\n",
       "      <td>-0.292820</td>\n",
       "      <td>-0.186330</td>\n",
       "      <td>1.000000</td>\n",
       "    </tr>\n",
       "  </tbody>\n",
       "</table>\n",
       "</div>"
      ],
      "text/plain": [
       "                           FIPS   dem_per   gop_per   oth_per     total  \\\n",
       "FIPS                   1.000000 -0.057407  0.050397  0.033398 -0.053802   \n",
       "dem_per               -0.057407  1.000000 -0.983902  0.011371  0.397880   \n",
       "gop_per                0.050397 -0.983902  1.000000 -0.189884 -0.395627   \n",
       "oth_per                0.033398  0.011371 -0.189884  1.000000  0.027758   \n",
       "total                 -0.053802  0.397880 -0.395627  0.027758  1.000000   \n",
       "% Some College         0.013236  0.186621 -0.253621  0.393821  0.255476   \n",
       "% Physically Inactive -0.062647 -0.311880  0.397025 -0.508057 -0.267332   \n",
       "% Obese               -0.048678 -0.135091  0.195979 -0.354398 -0.261200   \n",
       "% Excessive Drinking   0.063905  0.124917 -0.167243  0.249502  0.170981   \n",
       "Graduation Rate        0.128911 -0.309622  0.320047 -0.094757 -0.124422   \n",
       "Income Ratio          -0.085952  0.323064 -0.268389 -0.273010  0.090873   \n",
       "\n",
       "                       % Some College  % Physically Inactive   % Obese  \\\n",
       "FIPS                         0.013236              -0.062647 -0.048678   \n",
       "dem_per                      0.186621              -0.311880 -0.135091   \n",
       "gop_per                     -0.253621               0.397025  0.195979   \n",
       "oth_per                      0.393821              -0.508057 -0.354398   \n",
       "total                        0.255476              -0.267332 -0.261200   \n",
       "% Some College               1.000000              -0.536154 -0.411272   \n",
       "% Physically Inactive       -0.536154               1.000000  0.711194   \n",
       "% Obese                     -0.411272               0.711194  1.000000   \n",
       "% Excessive Drinking         0.506442              -0.582826 -0.386939   \n",
       "Graduation Rate              0.013566               0.055275 -0.030150   \n",
       "Income Ratio                -0.207442               0.212307  0.142879   \n",
       "\n",
       "                       % Excessive Drinking  Graduation Rate  Income Ratio  \n",
       "FIPS                               0.063905         0.128911     -0.085952  \n",
       "dem_per                            0.124917        -0.309622      0.323064  \n",
       "gop_per                           -0.167243         0.320047     -0.268389  \n",
       "oth_per                            0.249502        -0.094757     -0.273010  \n",
       "total                              0.170981        -0.124422      0.090873  \n",
       "% Some College                     0.506442         0.013566     -0.207442  \n",
       "% Physically Inactive             -0.582826         0.055275      0.212307  \n",
       "% Obese                           -0.386939        -0.030150      0.142879  \n",
       "% Excessive Drinking               1.000000         0.019540     -0.292820  \n",
       "Graduation Rate                    0.019540         1.000000     -0.186330  \n",
       "Income Ratio                      -0.292820        -0.186330      1.000000  "
      ]
     },
     "execution_count": 81,
     "metadata": {},
     "output_type": "execute_result"
    }
   ],
   "source": [
    "df_data_filtered.corr()"
   ]
  }
 ],
 "metadata": {
  "kernelspec": {
   "display_name": "Python [default]",
   "language": "python",
   "name": "python2"
  },
  "language_info": {
   "codemirror_mode": {
    "name": "ipython",
    "version": 2
   },
   "file_extension": ".py",
   "mimetype": "text/x-python",
   "name": "python",
   "nbconvert_exporter": "python",
   "pygments_lexer": "ipython2",
   "version": "2.7.13"
  }
 },
 "nbformat": 4,
 "nbformat_minor": 2
}
